{
 "cells": [
  {
   "cell_type": "code",
   "execution_count": 1,
   "id": "53130e09",
   "metadata": {},
   "outputs": [],
   "source": [
    "import pandas as pd\n",
    "import seaborn as sns\n",
    "import matplotlib.pyplot as plt\n",
    "import numpy as np\n",
    "import re\n",
    "from sklearn.preprocessing import LabelEncoder\n",
    "from datetime import datetime, time\n",
    "import pandas_profiling"
   ]
  },
  {
   "cell_type": "code",
   "execution_count": 2,
   "id": "a4a62e72",
   "metadata": {},
   "outputs": [],
   "source": [
    "#!pip install pandas_profiling"
   ]
  },
  {
   "cell_type": "code",
   "execution_count": 3,
   "id": "fb7abb88",
   "metadata": {},
   "outputs": [],
   "source": [
    "#sns.set(rc = {'figure.figsize':(35,8)})"
   ]
  },
  {
   "cell_type": "code",
   "execution_count": 4,
   "id": "a2e5cbed",
   "metadata": {},
   "outputs": [],
   "source": [
    "df = pd.read_excel('Flight_data.xlsx')"
   ]
  },
  {
   "cell_type": "code",
   "execution_count": 5,
   "id": "898970bd",
   "metadata": {
    "scrolled": false
   },
   "outputs": [
    {
     "data": {
      "text/html": [
       "<div>\n",
       "<style scoped>\n",
       "    .dataframe tbody tr th:only-of-type {\n",
       "        vertical-align: middle;\n",
       "    }\n",
       "\n",
       "    .dataframe tbody tr th {\n",
       "        vertical-align: top;\n",
       "    }\n",
       "\n",
       "    .dataframe thead th {\n",
       "        text-align: right;\n",
       "    }\n",
       "</style>\n",
       "<table border=\"1\" class=\"dataframe\">\n",
       "  <thead>\n",
       "    <tr style=\"text-align: right;\">\n",
       "      <th></th>\n",
       "      <th>Airline</th>\n",
       "      <th>Date_of_Journey</th>\n",
       "      <th>Source</th>\n",
       "      <th>Destination</th>\n",
       "      <th>Route</th>\n",
       "      <th>Dep_Time</th>\n",
       "      <th>Arrival_Time</th>\n",
       "      <th>Duration</th>\n",
       "      <th>Total_Stops</th>\n",
       "      <th>Additional_Info</th>\n",
       "      <th>Price</th>\n",
       "    </tr>\n",
       "  </thead>\n",
       "  <tbody>\n",
       "    <tr>\n",
       "      <th>0</th>\n",
       "      <td>IndiGo</td>\n",
       "      <td>24/03/2019</td>\n",
       "      <td>Banglore</td>\n",
       "      <td>New Delhi</td>\n",
       "      <td>BLR → DEL</td>\n",
       "      <td>22:20</td>\n",
       "      <td>01:10 22 Mar</td>\n",
       "      <td>2h 50m</td>\n",
       "      <td>non-stop</td>\n",
       "      <td>No info</td>\n",
       "      <td>3897</td>\n",
       "    </tr>\n",
       "    <tr>\n",
       "      <th>1</th>\n",
       "      <td>Air India</td>\n",
       "      <td>1/05/2019</td>\n",
       "      <td>Kolkata</td>\n",
       "      <td>Banglore</td>\n",
       "      <td>CCU → IXR → BBI → BLR</td>\n",
       "      <td>05:50</td>\n",
       "      <td>13:15</td>\n",
       "      <td>7h 25m</td>\n",
       "      <td>2 stops</td>\n",
       "      <td>No info</td>\n",
       "      <td>7662</td>\n",
       "    </tr>\n",
       "    <tr>\n",
       "      <th>2</th>\n",
       "      <td>Jet Airways</td>\n",
       "      <td>9/06/2019</td>\n",
       "      <td>Delhi</td>\n",
       "      <td>Cochin</td>\n",
       "      <td>DEL → LKO → BOM → COK</td>\n",
       "      <td>09:25</td>\n",
       "      <td>04:25 10 Jun</td>\n",
       "      <td>19h</td>\n",
       "      <td>2 stops</td>\n",
       "      <td>No info</td>\n",
       "      <td>13882</td>\n",
       "    </tr>\n",
       "    <tr>\n",
       "      <th>3</th>\n",
       "      <td>IndiGo</td>\n",
       "      <td>12/05/2019</td>\n",
       "      <td>Kolkata</td>\n",
       "      <td>Banglore</td>\n",
       "      <td>CCU → NAG → BLR</td>\n",
       "      <td>18:05</td>\n",
       "      <td>23:30</td>\n",
       "      <td>5h 25m</td>\n",
       "      <td>1 stop</td>\n",
       "      <td>No info</td>\n",
       "      <td>6218</td>\n",
       "    </tr>\n",
       "    <tr>\n",
       "      <th>4</th>\n",
       "      <td>IndiGo</td>\n",
       "      <td>01/03/2019</td>\n",
       "      <td>Banglore</td>\n",
       "      <td>New Delhi</td>\n",
       "      <td>BLR → NAG → DEL</td>\n",
       "      <td>16:50</td>\n",
       "      <td>21:35</td>\n",
       "      <td>4h 45m</td>\n",
       "      <td>1 stop</td>\n",
       "      <td>No info</td>\n",
       "      <td>13302</td>\n",
       "    </tr>\n",
       "  </tbody>\n",
       "</table>\n",
       "</div>"
      ],
      "text/plain": [
       "       Airline Date_of_Journey    Source Destination                  Route  \\\n",
       "0       IndiGo      24/03/2019  Banglore   New Delhi              BLR → DEL   \n",
       "1    Air India       1/05/2019   Kolkata    Banglore  CCU → IXR → BBI → BLR   \n",
       "2  Jet Airways       9/06/2019     Delhi      Cochin  DEL → LKO → BOM → COK   \n",
       "3       IndiGo      12/05/2019   Kolkata    Banglore        CCU → NAG → BLR   \n",
       "4       IndiGo      01/03/2019  Banglore   New Delhi        BLR → NAG → DEL   \n",
       "\n",
       "  Dep_Time  Arrival_Time Duration Total_Stops Additional_Info  Price  \n",
       "0    22:20  01:10 22 Mar   2h 50m    non-stop         No info   3897  \n",
       "1    05:50         13:15   7h 25m     2 stops         No info   7662  \n",
       "2    09:25  04:25 10 Jun      19h     2 stops         No info  13882  \n",
       "3    18:05         23:30   5h 25m      1 stop         No info   6218  \n",
       "4    16:50         21:35   4h 45m      1 stop         No info  13302  "
      ]
     },
     "execution_count": 5,
     "metadata": {},
     "output_type": "execute_result"
    }
   ],
   "source": [
    "df.head(5)"
   ]
  },
  {
   "cell_type": "code",
   "execution_count": 6,
   "id": "9be89fa9",
   "metadata": {},
   "outputs": [
    {
     "name": "stdout",
     "output_type": "stream",
     "text": [
      "<class 'pandas.core.frame.DataFrame'>\n",
      "RangeIndex: 10683 entries, 0 to 10682\n",
      "Data columns (total 11 columns):\n",
      " #   Column           Non-Null Count  Dtype \n",
      "---  ------           --------------  ----- \n",
      " 0   Airline          10683 non-null  object\n",
      " 1   Date_of_Journey  10683 non-null  object\n",
      " 2   Source           10683 non-null  object\n",
      " 3   Destination      10683 non-null  object\n",
      " 4   Route            10682 non-null  object\n",
      " 5   Dep_Time         10683 non-null  object\n",
      " 6   Arrival_Time     10683 non-null  object\n",
      " 7   Duration         10683 non-null  object\n",
      " 8   Total_Stops      10682 non-null  object\n",
      " 9   Additional_Info  10683 non-null  object\n",
      " 10  Price            10683 non-null  int64 \n",
      "dtypes: int64(1), object(10)\n",
      "memory usage: 918.2+ KB\n"
     ]
    }
   ],
   "source": [
    "df.info()"
   ]
  },
  {
   "cell_type": "code",
   "execution_count": 7,
   "id": "fca2cc29",
   "metadata": {},
   "outputs": [
    {
     "data": {
      "text/plain": [
       "Index(['Airline', 'Date_of_Journey', 'Source', 'Destination', 'Route',\n",
       "       'Dep_Time', 'Arrival_Time', 'Duration', 'Total_Stops',\n",
       "       'Additional_Info', 'Price'],\n",
       "      dtype='object')"
      ]
     },
     "execution_count": 7,
     "metadata": {},
     "output_type": "execute_result"
    }
   ],
   "source": [
    "df.columns"
   ]
  },
  {
   "cell_type": "code",
   "execution_count": 7,
   "id": "177a0dbf",
   "metadata": {},
   "outputs": [
    {
     "data": {
      "text/plain": [
       "True"
      ]
     },
     "execution_count": 7,
     "metadata": {},
     "output_type": "execute_result"
    }
   ],
   "source": [
    "df['Route'].isnull().any()"
   ]
  },
  {
   "cell_type": "code",
   "execution_count": 8,
   "id": "8ef0bbcb",
   "metadata": {},
   "outputs": [
    {
     "data": {
      "text/plain": [
       "True"
      ]
     },
     "execution_count": 8,
     "metadata": {},
     "output_type": "execute_result"
    }
   ],
   "source": [
    "df['Total_Stops'].isnull().any()"
   ]
  },
  {
   "cell_type": "markdown",
   "id": "68e0e011",
   "metadata": {},
   "source": [
    "### Univariate Analysis"
   ]
  },
  {
   "cell_type": "code",
   "execution_count": 9,
   "id": "6105463d",
   "metadata": {},
   "outputs": [
    {
     "data": {
      "text/plain": [
       "Jet Airways                          3849\n",
       "IndiGo                               2053\n",
       "Air India                            1752\n",
       "Multiple carriers                    1196\n",
       "SpiceJet                              818\n",
       "Vistara                               479\n",
       "Air Asia                              319\n",
       "GoAir                                 194\n",
       "Multiple carriers Premium economy      13\n",
       "Jet Airways Business                    6\n",
       "Vistara Premium economy                 3\n",
       "Trujet                                  1\n",
       "Name: Airline, dtype: int64"
      ]
     },
     "execution_count": 9,
     "metadata": {},
     "output_type": "execute_result"
    }
   ],
   "source": [
    "df['Airline'].value_counts()"
   ]
  },
  {
   "cell_type": "code",
   "execution_count": 10,
   "id": "e091d5ba",
   "metadata": {},
   "outputs": [],
   "source": [
    "ax = sns.countplot(x= 'Airline', data = df)\n",
    "plt.xticks(rotation = 90)\n",
    "for p in ax.patches:\n",
    "    ax.annotate(int(p.get_height()), (p.get_x()+0.25, p.get_height()+1), va='bottom',\n",
    "                    color= 'black')"
   ]
  },
  {
   "cell_type": "code",
   "execution_count": 11,
   "id": "f3beb066",
   "metadata": {},
   "outputs": [
    {
     "data": {
      "text/plain": [
       "Delhi       4537\n",
       "Kolkata     2871\n",
       "Banglore    2197\n",
       "Mumbai       697\n",
       "Chennai      381\n",
       "Name: Source, dtype: int64"
      ]
     },
     "execution_count": 11,
     "metadata": {},
     "output_type": "execute_result"
    }
   ],
   "source": [
    "df['Source'].value_counts()"
   ]
  },
  {
   "cell_type": "code",
   "execution_count": 12,
   "id": "399ef733",
   "metadata": {},
   "outputs": [
    {
     "name": "stderr",
     "output_type": "stream",
     "text": [
      "C:\\Users\\Sudheesh E\\anaconda3\\lib\\site-packages\\seaborn\\_decorators.py:36: FutureWarning: Pass the following variable as a keyword arg: x. From version 0.12, the only valid positional argument will be `data`, and passing other arguments without an explicit keyword will result in an error or misinterpretation.\n",
      "  warnings.warn(\n"
     ]
    }
   ],
   "source": [
    "ax = sns.countplot(df['Source'])\n",
    "ax.set_xticklabels(ax.get_xticklabels(),rotation = 45)\n",
    "\n",
    "for p in ax.patches:\n",
    "    ax.annotate(int(p.get_height()), (p.get_x()+0.25, p.get_height()+1), va='bottom',\n",
    "                    color= 'black')"
   ]
  },
  {
   "cell_type": "code",
   "execution_count": 13,
   "id": "465ba189",
   "metadata": {},
   "outputs": [
    {
     "data": {
      "text/plain": [
       "Cochin       4537\n",
       "Banglore     2871\n",
       "Delhi        1265\n",
       "New Delhi     932\n",
       "Hyderabad     697\n",
       "Kolkata       381\n",
       "Name: Destination, dtype: int64"
      ]
     },
     "execution_count": 13,
     "metadata": {},
     "output_type": "execute_result"
    }
   ],
   "source": [
    "df['Destination'].value_counts()"
   ]
  },
  {
   "cell_type": "code",
   "execution_count": 14,
   "id": "2878f08a",
   "metadata": {},
   "outputs": [
    {
     "data": {
      "text/plain": [
       "DEL → BOM → COK          2376\n",
       "BLR → DEL                1552\n",
       "CCU → BOM → BLR           979\n",
       "CCU → BLR                 724\n",
       "BOM → HYD                 621\n",
       "CCU → DEL → BLR           565\n",
       "BLR → BOM → DEL           402\n",
       "MAA → CCU                 381\n",
       "DEL → HYD → COK           326\n",
       "DEL → JAI → BOM → COK     240\n",
       "DEL → BLR → COK           232\n",
       "DEL → COK                 213\n",
       "DEL → AMD → BOM → COK     205\n",
       "DEL → MAA → COK           146\n",
       "DEL → IDR → BOM → COK      99\n",
       "DEL → HYD → MAA → COK      83\n",
       "DEL → NAG → BOM → COK      71\n",
       "CCU → MAA → BLR            65\n",
       "DEL → GOI → BOM → COK      58\n",
       "DEL → HYD → BOM → COK      56\n",
       "CCU → HYD → BLR            53\n",
       "CCU → BBI → BLR            50\n",
       "DEL → BHO → BOM → COK      50\n",
       "CCU → IXR → DEL → BLR      46\n",
       "DEL → CCU → BOM → COK      44\n",
       "DEL → PNQ → COK            42\n",
       "CCU → BBI → BOM → BLR      42\n",
       "CCU → GAU → BLR            41\n",
       "DEL → LKO → BOM → COK      41\n",
       "DEL → ATQ → BOM → COK      40\n",
       "Name: Route, dtype: int64"
      ]
     },
     "execution_count": 14,
     "metadata": {},
     "output_type": "execute_result"
    }
   ],
   "source": [
    "df['Route'].value_counts().nlargest(30)"
   ]
  },
  {
   "cell_type": "code",
   "execution_count": 15,
   "id": "2116875e",
   "metadata": {},
   "outputs": [
    {
     "data": {
      "text/plain": [
       "1 stop      5625\n",
       "non-stop    3491\n",
       "2 stops     1520\n",
       "3 stops       45\n",
       "4 stops        1\n",
       "Name: Total_Stops, dtype: int64"
      ]
     },
     "execution_count": 15,
     "metadata": {},
     "output_type": "execute_result"
    }
   ],
   "source": [
    "df['Total_Stops'].value_counts()"
   ]
  },
  {
   "cell_type": "code",
   "execution_count": 16,
   "id": "264cdc01",
   "metadata": {},
   "outputs": [
    {
     "data": {
      "text/plain": [
       "No info                         8345\n",
       "In-flight meal not included     1982\n",
       "No check-in baggage included     320\n",
       "1 Long layover                    19\n",
       "Change airports                    7\n",
       "Business class                     4\n",
       "No Info                            3\n",
       "Red-eye flight                     1\n",
       "1 Short layover                    1\n",
       "2 Long layover                     1\n",
       "Name: Additional_Info, dtype: int64"
      ]
     },
     "execution_count": 16,
     "metadata": {},
     "output_type": "execute_result"
    }
   ],
   "source": [
    "df['Additional_Info'].value_counts()"
   ]
  },
  {
   "cell_type": "code",
   "execution_count": 17,
   "id": "60025144",
   "metadata": {},
   "outputs": [
    {
     "data": {
      "text/plain": [
       "<AxesSubplot:xlabel='Source', ylabel='count'>"
      ]
     },
     "execution_count": 17,
     "metadata": {},
     "output_type": "execute_result"
    }
   ],
   "source": [
    "sns.histplot(df['Price'], kde= True, color= 'red')"
   ]
  },
  {
   "cell_type": "markdown",
   "id": "e827b1d3",
   "metadata": {},
   "source": [
    "### Bivariate Analysis"
   ]
  },
  {
   "cell_type": "code",
   "execution_count": 18,
   "id": "d0e0c028",
   "metadata": {},
   "outputs": [
    {
     "data": {
      "text/plain": [
       "<AxesSubplot:xlabel='Source', ylabel='count'>"
      ]
     },
     "execution_count": 18,
     "metadata": {},
     "output_type": "execute_result"
    }
   ],
   "source": [
    "sns.set(rc = {'figure.figsize':(15,5)})\n",
    "\n",
    "df.Date_of_Journey = pd.to_datetime(df['Date_of_Journey'], format = '%d/%m/%Y')\n",
    "sns.lineplot(x = df['Date_of_Journey'], y = df['Price'])"
   ]
  },
  {
   "cell_type": "code",
   "execution_count": 19,
   "id": "ff6b7eca",
   "metadata": {},
   "outputs": [
    {
     "data": {
      "text/plain": [
       "<seaborn.axisgrid.FacetGrid at 0x298549ee8e0>"
      ]
     },
     "execution_count": 19,
     "metadata": {},
     "output_type": "execute_result"
    }
   ],
   "source": [
    "sns.relplot(y='Airline', x='Price', data=df, height=3, aspect=6/3)"
   ]
  },
  {
   "cell_type": "code",
   "execution_count": 20,
   "id": "4964ac50",
   "metadata": {},
   "outputs": [
    {
     "data": {
      "text/plain": [
       "<seaborn.axisgrid.FacetGrid at 0x298563d9a00>"
      ]
     },
     "execution_count": 20,
     "metadata": {},
     "output_type": "execute_result"
    }
   ],
   "source": [
    "sns.relplot(y='Date_of_Journey', x='Price', data=df, height=8, aspect=3/1 )"
   ]
  },
  {
   "cell_type": "code",
   "execution_count": 21,
   "id": "2f19ea8e",
   "metadata": {},
   "outputs": [
    {
     "data": {
      "text/plain": [
       "<seaborn.axisgrid.FacetGrid at 0x298563cd760>"
      ]
     },
     "execution_count": 21,
     "metadata": {},
     "output_type": "execute_result"
    }
   ],
   "source": [
    "sns.relplot(y='Source', x='Price', data=df, height=3, aspect=6/3 )"
   ]
  },
  {
   "cell_type": "code",
   "execution_count": 22,
   "id": "cb825655",
   "metadata": {},
   "outputs": [
    {
     "data": {
      "text/plain": [
       "<seaborn.axisgrid.FacetGrid at 0x2985633b790>"
      ]
     },
     "execution_count": 22,
     "metadata": {},
     "output_type": "execute_result"
    }
   ],
   "source": [
    "sns.relplot(y='Destination', x='Price', data=df, height=3, aspect=6/3 )"
   ]
  },
  {
   "cell_type": "code",
   "execution_count": 23,
   "id": "6443ef05",
   "metadata": {},
   "outputs": [
    {
     "data": {
      "text/plain": [
       "<seaborn.axisgrid.FacetGrid at 0x29854a2abe0>"
      ]
     },
     "execution_count": 23,
     "metadata": {},
     "output_type": "execute_result"
    }
   ],
   "source": [
    "sns.relplot(y='Total_Stops', x='Price', data=df, height=3, aspect=6/3 )"
   ]
  },
  {
   "cell_type": "code",
   "execution_count": 24,
   "id": "2cc535df",
   "metadata": {},
   "outputs": [
    {
     "data": {
      "text/plain": [
       "<seaborn.axisgrid.FacetGrid at 0x29854888640>"
      ]
     },
     "execution_count": 24,
     "metadata": {},
     "output_type": "execute_result"
    }
   ],
   "source": [
    "sns.relplot(y='Additional_Info', x='Price', data=df, height=3, aspect=8/3)"
   ]
  },
  {
   "cell_type": "markdown",
   "id": "ce597713",
   "metadata": {},
   "source": [
    "### MultiVariate Analysis"
   ]
  },
  {
   "cell_type": "code",
   "execution_count": 25,
   "id": "84b5a650",
   "metadata": {},
   "outputs": [
    {
     "data": {
      "text/plain": [
       "<seaborn.axisgrid.FacetGrid at 0x298548a31c0>"
      ]
     },
     "execution_count": 25,
     "metadata": {},
     "output_type": "execute_result"
    }
   ],
   "source": [
    "sns.relplot(x='Airline', y='Price', data=df, height=8, aspect=14/5, hue='Additional_Info', palette='rocket')"
   ]
  },
  {
   "cell_type": "code",
   "execution_count": 26,
   "id": "a1eda7de",
   "metadata": {},
   "outputs": [
    {
     "data": {
      "text/plain": [
       "<seaborn.axisgrid.FacetGrid at 0x29857d2a640>"
      ]
     },
     "execution_count": 26,
     "metadata": {},
     "output_type": "execute_result"
    }
   ],
   "source": [
    "sns.relplot(x='Airline', y='Price', data=df, height=5, aspect=14/4, hue='Total_Stops', palette='rocket')"
   ]
  },
  {
   "cell_type": "code",
   "execution_count": 27,
   "id": "309ad009",
   "metadata": {},
   "outputs": [
    {
     "data": {
      "text/plain": [
       "<seaborn.axisgrid.FacetGrid at 0x2985839c5b0>"
      ]
     },
     "execution_count": 27,
     "metadata": {},
     "output_type": "execute_result"
    }
   ],
   "source": [
    "sns.relplot(x='Airline', y='Price', data=df, height=8, aspect=14/4, hue='Source', palette='rocket')"
   ]
  },
  {
   "cell_type": "code",
   "execution_count": 28,
   "id": "44421949",
   "metadata": {},
   "outputs": [
    {
     "data": {
      "text/plain": [
       "<seaborn.axisgrid.FacetGrid at 0x29858392c10>"
      ]
     },
     "execution_count": 28,
     "metadata": {},
     "output_type": "execute_result"
    }
   ],
   "source": [
    "sns.relplot(x='Airline', y='Price', data=df, height=8, aspect=14/4, hue='Destination', palette='rocket')"
   ]
  },
  {
   "cell_type": "markdown",
   "id": "e2e91fd0",
   "metadata": {},
   "source": [
    "### Creating, Modifying and Droping columns"
   ]
  },
  {
   "cell_type": "markdown",
   "id": "ef1dedc7",
   "metadata": {},
   "source": [
    "#### Converting data types few column"
   ]
  },
  {
   "cell_type": "code",
   "execution_count": 29,
   "id": "73546017",
   "metadata": {},
   "outputs": [],
   "source": [
    "df.Date_of_Journey = pd.to_datetime(df['Date_of_Journey'], format = '%d/%m/%Y')"
   ]
  },
  {
   "cell_type": "code",
   "execution_count": 30,
   "id": "25c66cf3",
   "metadata": {},
   "outputs": [],
   "source": [
    "# Creating 'Month_of_Journey' , 'Day_of_Journey', 'Year_of_Journey' columns from 'Date_of_Journey'\n",
    "\n",
    "df['Month_of_Journey'] = df['Date_of_Journey'].dt.month\n",
    "df['Day_of_Journey'] = df['Date_of_Journey'].dt.day\n",
    "df['Weekday_of_Journey'] = df['Date_of_Journey'].dt.weekday"
   ]
  },
  {
   "cell_type": "code",
   "execution_count": 31,
   "id": "9167c801",
   "metadata": {},
   "outputs": [],
   "source": [
    "# Dropping 'Date_of_Journey' column\n",
    "df.drop('Date_of_Journey', axis= 'columns', inplace= True)"
   ]
  },
  {
   "cell_type": "code",
   "execution_count": 32,
   "id": "f81c2310",
   "metadata": {},
   "outputs": [],
   "source": [
    "# Creating 'Arr_Time_Hour' and 'Arr_Time_Min' from 'Arrival_Time' column \n",
    "# We are not using this instead we use Part_of _the Day\n",
    "\"\"\"\n",
    "df ['x_col'] = df['Arrival_Time'].str.split(expand=True).iloc[:,0]\n",
    "\n",
    "df['Arr_Time_Hour'] = df['x_col'].str.split(':', expand= True).iloc[:,0]\n",
    "df['Arr_Time_Min'] = df['x_col'].str.split(':', expand= True).iloc[:,1]\n",
    "\"\"\"\n",
    "# Creating 'Dep_Time_Hour' and 'Dep_Time_Min' columns from 'Dep_Time'\n",
    "# We are not using this instead we use Part_of _the Day\n",
    "\"\"\"\n",
    "df['x_col'] = df['Dep_Time'].str.split(expand=True)\n",
    "df['Dep_Time_Hour'] = df['x_col'].str.split(':', expand= True).iloc[:,0]\n",
    "df['Dep_Time_Min'] = df['x_col'].str.split(':', expand= True).iloc[:,1]\n",
    "\n",
    "\"\"\"\n",
    "\n",
    "## Creating a function to extract whether the journey is on 'Morning, Afternoon, Evening or Night'\n",
    "\n",
    "def dep_parts_of_the_day(x):\n",
    "    \n",
    "    x = x.strip()\n",
    "    t = (int)(x.split(':')[0])\n",
    "    \n",
    "    if (t>=5 and t<11):\n",
    "        x = 'morning'\n",
    "    elif(t>=11 and t<16):\n",
    "        x='afternoon'\n",
    "    elif(t>=16 and t<21):\n",
    "        x='evening'\n",
    "    elif(t>=21 or t<5):\n",
    "        x='night'\n",
    "        \n",
    "    return x\n",
    "\n",
    "\n",
    "df['Dep_Time'] = df['Dep_Time'].apply(dep_parts_of_the_day)\n",
    "df['Arrival_Time']=df['Arrival_Time'].apply(dep_parts_of_the_day)"
   ]
  },
  {
   "cell_type": "code",
   "execution_count": 33,
   "id": "9aa96a61",
   "metadata": {},
   "outputs": [],
   "source": [
    "# Dropping 'Route' column\n",
    "df.drop('Route', axis='columns', inplace=True)"
   ]
  },
  {
   "cell_type": "code",
   "execution_count": 34,
   "id": "2385d5ab",
   "metadata": {},
   "outputs": [],
   "source": [
    "# Dropping the row which have 'nan' in 'Total_Stops' 'Duration' columns\n",
    "\n",
    "df.dropna(subset=['Total_Stops'],inplace= True)\n",
    "df.dropna(subset=['Duration'], inplace=True)"
   ]
  },
  {
   "cell_type": "code",
   "execution_count": 35,
   "id": "9873dd5b",
   "metadata": {},
   "outputs": [],
   "source": [
    "# Mapping the Total_Stops column \n",
    "df['Total_Stops'] = df['Total_Stops'].map({'non-stop': 0, '1 stop': 1, '2 stops': 2, '3 stops': 3,'4 stops':4})\n",
    "df['Total_Stops'] = df['Total_Stops'].astype('int')"
   ]
  },
  {
   "cell_type": "code",
   "execution_count": 36,
   "id": "853ea598",
   "metadata": {},
   "outputs": [],
   "source": [
    "# Merging 'No Info'into 'No info'\n",
    "df['Additional_Info'] = df['Additional_Info'].replace('No Info', 'No info')"
   ]
  },
  {
   "cell_type": "code",
   "execution_count": 37,
   "id": "eebacd37",
   "metadata": {},
   "outputs": [],
   "source": [
    "#Merging 'Delhi' and 'New Delhi'\n",
    "df['Destination'] = df['Destination'].replace('Delhi', 'New Delhi')"
   ]
  },
  {
   "cell_type": "code",
   "execution_count": 38,
   "id": "5f364648",
   "metadata": {},
   "outputs": [
    {
     "data": {
      "text/plain": [
       "No info                         8347\n",
       "In-flight meal not included     1982\n",
       "No check-in baggage included     320\n",
       "1 Long layover                    19\n",
       "Change airports                    7\n",
       "Business class                     4\n",
       "Red-eye flight                     1\n",
       "1 Short layover                    1\n",
       "2 Long layover                     1\n",
       "Name: Additional_Info, dtype: int64"
      ]
     },
     "execution_count": 38,
     "metadata": {},
     "output_type": "execute_result"
    }
   ],
   "source": [
    "df['Additional_Info'].value_counts()"
   ]
  },
  {
   "cell_type": "code",
   "execution_count": 39,
   "id": "1d5f684a",
   "metadata": {},
   "outputs": [],
   "source": [
    "# Dropping a row which have 'Duration == 5m'\n",
    "df.drop(df.loc[df['Duration'] == '5m'].index, inplace=True)"
   ]
  },
  {
   "cell_type": "code",
   "execution_count": 40,
   "id": "1bd1e9ef",
   "metadata": {},
   "outputs": [],
   "source": [
    "#Creating a function which can convert 'Duration' into minutues `eg: 2h 50m to 170 minutes`\n",
    "from collections import defaultdict\n",
    "import re\n",
    "\n",
    "def humantime2minutes(s):\n",
    "    d = {\n",
    "      'w':      7*24*60,\n",
    "      'week':   7*24*60,\n",
    "      'weeks':  7*24*60,\n",
    "      'd':      24*60,\n",
    "      'day':    24*60,\n",
    "      'days':   24*60,\n",
    "      'h':      60,\n",
    "      'hr':     60,\n",
    "      'hour':   60,\n",
    "      'hours':  60,\n",
    "    }\n",
    "    mult_items = defaultdict(lambda: 1).copy()\n",
    "    mult_items.update(d)\n",
    "\n",
    "    parts = re.search(r'^(\\d+)([^\\d]*)', s.lower().replace(' ', ''))\n",
    "    if parts:\n",
    "        return int(parts.group(1)) * mult_items[parts.group(2)] + humantime2minutes(re.sub(r'^(\\d+)([^\\d]*)', '', s.lower()))\n",
    "    else:\n",
    "        return 0"
   ]
  },
  {
   "cell_type": "code",
   "execution_count": 41,
   "id": "8184b99e",
   "metadata": {},
   "outputs": [
    {
     "data": {
      "text/plain": [
       "\"\\ndef duration(test):\\n    test = test.strip()\\n    total=test.split(' ')\\n    to=total[0]\\n    hrs=(int)(to[:-1])*60\\n    if((len(total))==2):\\n        mint=(int)(total[1][:-1])\\n        hrs=hrs+mint\\n    test=str(hrs)\\n    return test\\ntrain['Duration']=train['Duration'].apply(duration)\\n\\n\""
      ]
     },
     "execution_count": 41,
     "metadata": {},
     "output_type": "execute_result"
    }
   ],
   "source": [
    "# We can also use the below function to which can convert 'Duration' into minutues\n",
    "\"\"\"\n",
    "def duration(test):\n",
    "    test = test.strip()\n",
    "    total=test.split(' ')\n",
    "    to=total[0]\n",
    "    hrs=(int)(to[:-1])*60\n",
    "    if((len(total))==2):\n",
    "        mint=(int)(total[1][:-1])\n",
    "        hrs=hrs+mint\n",
    "    test=str(hrs)\n",
    "    return test\n",
    "train['Duration']=train['Duration'].apply(duration)\n",
    "\n",
    "\"\"\""
   ]
  },
  {
   "cell_type": "code",
   "execution_count": 42,
   "id": "a1a7604a",
   "metadata": {},
   "outputs": [],
   "source": [
    "# Applying the above function to 'Duration' column\n",
    "df['Duration'] = df['Duration'].apply(humantime2minutes)\n",
    "df['Duration'] = df['Duration'].astype(int)"
   ]
  },
  {
   "cell_type": "code",
   "execution_count": 43,
   "id": "e02f2823",
   "metadata": {},
   "outputs": [
    {
     "data": {
      "text/plain": [
       "Text(0.5, 1.0, 'Correlation Matrix')"
      ]
     },
     "execution_count": 43,
     "metadata": {},
     "output_type": "execute_result"
    }
   ],
   "source": [
    "corr = df.corr()\n",
    "a1 = sns.heatmap(corr, cmap='hot') \n",
    "a1.set_title('Correlation Matrix')"
   ]
  },
  {
   "cell_type": "code",
   "execution_count": 44,
   "id": "b3aedf08",
   "metadata": {},
   "outputs": [
    {
     "name": "stderr",
     "output_type": "stream",
     "text": [
      "C:\\Users\\Sudheesh E\\anaconda3\\lib\\site-packages\\seaborn\\_decorators.py:36: FutureWarning: Pass the following variable as a keyword arg: x. From version 0.12, the only valid positional argument will be `data`, and passing other arguments without an explicit keyword will result in an error or misinterpretation.\n",
      "  warnings.warn(\n"
     ]
    }
   ],
   "source": [
    "ax = sns.countplot(df['Month_of_Journey']) ## This Plot concludes that '5 or (May)' month have maximum jouney happend\n",
    "\n",
    "for p in ax.patches:\n",
    "    ax.annotate(int(p.get_height()), (p.get_x()+0.25, p.get_height()+1), va='bottom',\n",
    "                    color= 'black')"
   ]
  },
  {
   "cell_type": "code",
   "execution_count": 45,
   "id": "7d8691d1",
   "metadata": {},
   "outputs": [],
   "source": [
    "a2 = sns.barplot(x ='Month_of_Journey', y = 'Price',data = df, estimator=sum)\n",
    "a2.set_title('Month vs Price')\n",
    "a2.set_ylabel('Price')\n",
    "a2.set_xlabel('Month of booking')   \n",
    "\n",
    "\n",
    "for p in a2.patches:\n",
    "    a2.annotate(int(p.get_height()), (p.get_x()+0.25, p.get_height()+1), va='bottom',\n",
    "                    color= 'black')\n",
    "\n",
    "# This plot shows the if we take Sum of all the price in each month May month have Highest Total\n",
    "# Lowest is on April"
   ]
  },
  {
   "cell_type": "code",
   "execution_count": 46,
   "id": "07881cab",
   "metadata": {},
   "outputs": [],
   "source": [
    "#Month_of_Journey v/s Averagefare\n",
    "\n",
    "monthly_avg=df.groupby(['Month_of_Journey']).agg({'Price':np.mean}).reset_index()\n",
    "\n",
    "a3 = monthly_avg.plot(x='Month_of_Journey',y='Price',figsize=(6,6))\n",
    "a3.set_title('Month_of_Journey v/s Averagefare');\n",
    "\n",
    "## Average price is highest in the 'March' month and Lowest is on 'April'"
   ]
  },
  {
   "cell_type": "code",
   "execution_count": 47,
   "id": "dcec4937",
   "metadata": {},
   "outputs": [
    {
     "data": {
      "text/plain": [
       "<seaborn.axisgrid.FacetGrid at 0x29858f820d0>"
      ]
     },
     "execution_count": 47,
     "metadata": {},
     "output_type": "execute_result"
    }
   ],
   "source": [
    "sns.catplot(x = 'Destination', y = 'Price', data = df.sort_values('Price',ascending=False),kind=\"boxen\",height=6, aspect=15/6)\n",
    "\n",
    "## New Delhi have highest Price"
   ]
  },
  {
   "cell_type": "code",
   "execution_count": 48,
   "id": "2e0d3aec",
   "metadata": {},
   "outputs": [
    {
     "data": {
      "text/plain": [
       "<seaborn.axisgrid.FacetGrid at 0x2985906afa0>"
      ]
     },
     "execution_count": 48,
     "metadata": {},
     "output_type": "execute_result"
    }
   ],
   "source": [
    "sns.catplot(x = 'Source', y = 'Price', data = df.sort_values('Price',ascending=False),kind=\"boxen\",height=6, aspect=15/6)"
   ]
  },
  {
   "cell_type": "code",
   "execution_count": 49,
   "id": "a10e6f05",
   "metadata": {},
   "outputs": [
    {
     "data": {
      "text/plain": [
       "<seaborn.axisgrid.FacetGrid at 0x298592bbe20>"
      ]
     },
     "execution_count": 49,
     "metadata": {},
     "output_type": "execute_result"
    }
   ],
   "source": [
    "sns.catplot(x = 'Airline', y = 'Price', data = df.sort_values('Price',ascending=False),kind=\"boxen\",height=6, aspect=15/6)\n",
    "# Jet Airways Business has the Highest Price"
   ]
  },
  {
   "cell_type": "code",
   "execution_count": 50,
   "id": "1e49a82a",
   "metadata": {},
   "outputs": [
    {
     "name": "stderr",
     "output_type": "stream",
     "text": [
      "C:\\Users\\Sudheesh E\\anaconda3\\lib\\site-packages\\seaborn\\_decorators.py:36: FutureWarning: Pass the following variable as a keyword arg: x. From version 0.12, the only valid positional argument will be `data`, and passing other arguments without an explicit keyword will result in an error or misinterpretation.\n",
      "  warnings.warn(\n"
     ]
    },
    {
     "data": {
      "text/plain": [
       "<AxesSubplot:xlabel='Duration', ylabel='Price'>"
      ]
     },
     "execution_count": 50,
     "metadata": {},
     "output_type": "execute_result"
    }
   ],
   "source": [
    "sns.boxplot(df['Duration']) ## Few otliers are present"
   ]
  },
  {
   "cell_type": "code",
   "execution_count": 51,
   "id": "0ae54a49",
   "metadata": {},
   "outputs": [
    {
     "data": {
      "text/plain": [
       "<AxesSubplot:xlabel='Duration', ylabel='Price'>"
      ]
     },
     "execution_count": 51,
     "metadata": {},
     "output_type": "execute_result"
    }
   ],
   "source": [
    "sns.histplot(df['Duration'], kde = True)"
   ]
  },
  {
   "cell_type": "code",
   "execution_count": 52,
   "id": "07f77afb",
   "metadata": {},
   "outputs": [
    {
     "data": {
      "text/plain": [
       "<seaborn.axisgrid.FacetGrid at 0x298593a87f0>"
      ]
     },
     "execution_count": 52,
     "metadata": {},
     "output_type": "execute_result"
    }
   ],
   "source": [
    "sns.relplot(x = df['Duration'], y = df['Price'])"
   ]
  },
  {
   "cell_type": "code",
   "execution_count": 53,
   "id": "c261c197",
   "metadata": {},
   "outputs": [
    {
     "data": {
      "text/html": [
       "<div>\n",
       "<style scoped>\n",
       "    .dataframe tbody tr th:only-of-type {\n",
       "        vertical-align: middle;\n",
       "    }\n",
       "\n",
       "    .dataframe tbody tr th {\n",
       "        vertical-align: top;\n",
       "    }\n",
       "\n",
       "    .dataframe thead th {\n",
       "        text-align: right;\n",
       "    }\n",
       "</style>\n",
       "<table border=\"1\" class=\"dataframe\">\n",
       "  <thead>\n",
       "    <tr style=\"text-align: right;\">\n",
       "      <th></th>\n",
       "      <th>Airline</th>\n",
       "      <th>Source</th>\n",
       "      <th>Destination</th>\n",
       "      <th>Dep_Time</th>\n",
       "      <th>Arrival_Time</th>\n",
       "      <th>Duration</th>\n",
       "      <th>Total_Stops</th>\n",
       "      <th>Additional_Info</th>\n",
       "      <th>Price</th>\n",
       "      <th>Month_of_Journey</th>\n",
       "      <th>Day_of_Journey</th>\n",
       "      <th>Weekday_of_Journey</th>\n",
       "    </tr>\n",
       "  </thead>\n",
       "  <tbody>\n",
       "    <tr>\n",
       "      <th>0</th>\n",
       "      <td>IndiGo</td>\n",
       "      <td>Banglore</td>\n",
       "      <td>New Delhi</td>\n",
       "      <td>night</td>\n",
       "      <td>night</td>\n",
       "      <td>170</td>\n",
       "      <td>0</td>\n",
       "      <td>No info</td>\n",
       "      <td>3897</td>\n",
       "      <td>3</td>\n",
       "      <td>24</td>\n",
       "      <td>6</td>\n",
       "    </tr>\n",
       "    <tr>\n",
       "      <th>1</th>\n",
       "      <td>Air India</td>\n",
       "      <td>Kolkata</td>\n",
       "      <td>Banglore</td>\n",
       "      <td>morning</td>\n",
       "      <td>afternoon</td>\n",
       "      <td>445</td>\n",
       "      <td>2</td>\n",
       "      <td>No info</td>\n",
       "      <td>7662</td>\n",
       "      <td>5</td>\n",
       "      <td>1</td>\n",
       "      <td>2</td>\n",
       "    </tr>\n",
       "    <tr>\n",
       "      <th>2</th>\n",
       "      <td>Jet Airways</td>\n",
       "      <td>Delhi</td>\n",
       "      <td>Cochin</td>\n",
       "      <td>morning</td>\n",
       "      <td>night</td>\n",
       "      <td>1140</td>\n",
       "      <td>2</td>\n",
       "      <td>No info</td>\n",
       "      <td>13882</td>\n",
       "      <td>6</td>\n",
       "      <td>9</td>\n",
       "      <td>6</td>\n",
       "    </tr>\n",
       "    <tr>\n",
       "      <th>3</th>\n",
       "      <td>IndiGo</td>\n",
       "      <td>Kolkata</td>\n",
       "      <td>Banglore</td>\n",
       "      <td>evening</td>\n",
       "      <td>night</td>\n",
       "      <td>325</td>\n",
       "      <td>1</td>\n",
       "      <td>No info</td>\n",
       "      <td>6218</td>\n",
       "      <td>5</td>\n",
       "      <td>12</td>\n",
       "      <td>6</td>\n",
       "    </tr>\n",
       "    <tr>\n",
       "      <th>4</th>\n",
       "      <td>IndiGo</td>\n",
       "      <td>Banglore</td>\n",
       "      <td>New Delhi</td>\n",
       "      <td>evening</td>\n",
       "      <td>night</td>\n",
       "      <td>285</td>\n",
       "      <td>1</td>\n",
       "      <td>No info</td>\n",
       "      <td>13302</td>\n",
       "      <td>3</td>\n",
       "      <td>1</td>\n",
       "      <td>4</td>\n",
       "    </tr>\n",
       "  </tbody>\n",
       "</table>\n",
       "</div>"
      ],
      "text/plain": [
       "       Airline    Source Destination Dep_Time Arrival_Time  Duration  \\\n",
       "0       IndiGo  Banglore   New Delhi    night        night       170   \n",
       "1    Air India   Kolkata    Banglore  morning    afternoon       445   \n",
       "2  Jet Airways     Delhi      Cochin  morning        night      1140   \n",
       "3       IndiGo   Kolkata    Banglore  evening        night       325   \n",
       "4       IndiGo  Banglore   New Delhi  evening        night       285   \n",
       "\n",
       "   Total_Stops Additional_Info  Price  Month_of_Journey  Day_of_Journey  \\\n",
       "0            0         No info   3897                 3              24   \n",
       "1            2         No info   7662                 5               1   \n",
       "2            2         No info  13882                 6               9   \n",
       "3            1         No info   6218                 5              12   \n",
       "4            1         No info  13302                 3               1   \n",
       "\n",
       "   Weekday_of_Journey  \n",
       "0                   6  \n",
       "1                   2  \n",
       "2                   6  \n",
       "3                   6  \n",
       "4                   4  "
      ]
     },
     "execution_count": 53,
     "metadata": {},
     "output_type": "execute_result"
    }
   ],
   "source": [
    "df.head()"
   ]
  },
  {
   "cell_type": "code",
   "execution_count": 54,
   "id": "7bbb1597",
   "metadata": {},
   "outputs": [
    {
     "data": {
      "text/plain": [
       "Text(0.5, 1.0, 'Arrival_Time vs Price')"
      ]
     },
     "execution_count": 54,
     "metadata": {},
     "output_type": "execute_result"
    }
   ],
   "source": [
    "ax = sns.barplot(x = 'Arrival_Time', y = 'Price', data = df)\n",
    "ax.set_title('Arrival_Time vs Price')"
   ]
  },
  {
   "cell_type": "code",
   "execution_count": 55,
   "id": "557e8533",
   "metadata": {},
   "outputs": [
    {
     "data": {
      "text/plain": [
       "Text(0.5, 1.0, 'Departure_Time vs Price')"
      ]
     },
     "execution_count": 55,
     "metadata": {},
     "output_type": "execute_result"
    }
   ],
   "source": [
    "ax = sns.barplot(x = 'Dep_Time', y = 'Price', data = df)\n",
    "ax.set_title('Departure_Time vs Price')"
   ]
  },
  {
   "cell_type": "code",
   "execution_count": 56,
   "id": "ba51c26f",
   "metadata": {},
   "outputs": [
    {
     "data": {
      "text/plain": [
       "Text(0.5, 1.0, 'Total_Stops vs Price')"
      ]
     },
     "execution_count": 56,
     "metadata": {},
     "output_type": "execute_result"
    }
   ],
   "source": [
    "ax = sns.barplot(x = 'Total_Stops', y = 'Price', data = df)\n",
    "ax.set_title('Total_Stops vs Price')"
   ]
  },
  {
   "cell_type": "code",
   "execution_count": 57,
   "id": "a43fd4ed",
   "metadata": {},
   "outputs": [
    {
     "data": {
      "text/plain": [
       "Text(0.5, 1.0, 'Weekday_of_Journey vs Price')"
      ]
     },
     "execution_count": 57,
     "metadata": {},
     "output_type": "execute_result"
    }
   ],
   "source": [
    "ax = sns.barplot(x = 'Weekday_of_Journey', y = 'Price', data = df)  # Price on '4' and '6' is high that is on (Fridays and Sundays)\n",
    "ax.set_title('Weekday_of_Journey vs Price')"
   ]
  },
  {
   "cell_type": "markdown",
   "id": "b590aab1",
   "metadata": {},
   "source": [
    "### Feature Engineering"
   ]
  },
  {
   "cell_type": "code",
   "execution_count": 58,
   "id": "19613c72",
   "metadata": {},
   "outputs": [],
   "source": [
    "label_encoder = LabelEncoder()"
   ]
  },
  {
   "cell_type": "code",
   "execution_count": 59,
   "id": "932f798a",
   "metadata": {},
   "outputs": [],
   "source": [
    "df['Airline'] = label_encoder.fit_transform(df['Airline'])\n",
    "df['Source'] = label_encoder.fit_transform(df['Source'])\n",
    "df['Destination'] = label_encoder.fit_transform(df['Destination'])\n",
    "df['Additional_Info'] = label_encoder.fit_transform(df['Additional_Info'])\n",
    "df['Dep_Time'] = label_encoder.fit_transform(df['Dep_Time'])\n",
    "df['Arrival_Time'] = label_encoder.fit_transform(df['Arrival_Time'])"
   ]
  },
  {
   "cell_type": "code",
   "execution_count": 60,
   "id": "caad798e",
   "metadata": {},
   "outputs": [
    {
     "data": {
      "text/html": [
       "<div>\n",
       "<style scoped>\n",
       "    .dataframe tbody tr th:only-of-type {\n",
       "        vertical-align: middle;\n",
       "    }\n",
       "\n",
       "    .dataframe tbody tr th {\n",
       "        vertical-align: top;\n",
       "    }\n",
       "\n",
       "    .dataframe thead th {\n",
       "        text-align: right;\n",
       "    }\n",
       "</style>\n",
       "<table border=\"1\" class=\"dataframe\">\n",
       "  <thead>\n",
       "    <tr style=\"text-align: right;\">\n",
       "      <th></th>\n",
       "      <th>index</th>\n",
       "      <th>Airline</th>\n",
       "      <th>Source</th>\n",
       "      <th>Destination</th>\n",
       "      <th>Dep_Time</th>\n",
       "      <th>Arrival_Time</th>\n",
       "      <th>Duration</th>\n",
       "      <th>Total_Stops</th>\n",
       "      <th>Additional_Info</th>\n",
       "      <th>Price</th>\n",
       "      <th>Month_of_Journey</th>\n",
       "      <th>Day_of_Journey</th>\n",
       "      <th>Weekday_of_Journey</th>\n",
       "    </tr>\n",
       "  </thead>\n",
       "  <tbody>\n",
       "    <tr>\n",
       "      <th>0</th>\n",
       "      <td>0</td>\n",
       "      <td>3</td>\n",
       "      <td>0</td>\n",
       "      <td>4</td>\n",
       "      <td>3</td>\n",
       "      <td>3</td>\n",
       "      <td>170</td>\n",
       "      <td>0</td>\n",
       "      <td>7</td>\n",
       "      <td>3897</td>\n",
       "      <td>3</td>\n",
       "      <td>24</td>\n",
       "      <td>6</td>\n",
       "    </tr>\n",
       "    <tr>\n",
       "      <th>1</th>\n",
       "      <td>1</td>\n",
       "      <td>1</td>\n",
       "      <td>3</td>\n",
       "      <td>0</td>\n",
       "      <td>2</td>\n",
       "      <td>0</td>\n",
       "      <td>445</td>\n",
       "      <td>2</td>\n",
       "      <td>7</td>\n",
       "      <td>7662</td>\n",
       "      <td>5</td>\n",
       "      <td>1</td>\n",
       "      <td>2</td>\n",
       "    </tr>\n",
       "    <tr>\n",
       "      <th>2</th>\n",
       "      <td>2</td>\n",
       "      <td>4</td>\n",
       "      <td>2</td>\n",
       "      <td>1</td>\n",
       "      <td>2</td>\n",
       "      <td>3</td>\n",
       "      <td>1140</td>\n",
       "      <td>2</td>\n",
       "      <td>7</td>\n",
       "      <td>13882</td>\n",
       "      <td>6</td>\n",
       "      <td>9</td>\n",
       "      <td>6</td>\n",
       "    </tr>\n",
       "    <tr>\n",
       "      <th>3</th>\n",
       "      <td>3</td>\n",
       "      <td>3</td>\n",
       "      <td>3</td>\n",
       "      <td>0</td>\n",
       "      <td>1</td>\n",
       "      <td>3</td>\n",
       "      <td>325</td>\n",
       "      <td>1</td>\n",
       "      <td>7</td>\n",
       "      <td>6218</td>\n",
       "      <td>5</td>\n",
       "      <td>12</td>\n",
       "      <td>6</td>\n",
       "    </tr>\n",
       "    <tr>\n",
       "      <th>4</th>\n",
       "      <td>4</td>\n",
       "      <td>3</td>\n",
       "      <td>0</td>\n",
       "      <td>4</td>\n",
       "      <td>1</td>\n",
       "      <td>3</td>\n",
       "      <td>285</td>\n",
       "      <td>1</td>\n",
       "      <td>7</td>\n",
       "      <td>13302</td>\n",
       "      <td>3</td>\n",
       "      <td>1</td>\n",
       "      <td>4</td>\n",
       "    </tr>\n",
       "    <tr>\n",
       "      <th>...</th>\n",
       "      <td>...</td>\n",
       "      <td>...</td>\n",
       "      <td>...</td>\n",
       "      <td>...</td>\n",
       "      <td>...</td>\n",
       "      <td>...</td>\n",
       "      <td>...</td>\n",
       "      <td>...</td>\n",
       "      <td>...</td>\n",
       "      <td>...</td>\n",
       "      <td>...</td>\n",
       "      <td>...</td>\n",
       "      <td>...</td>\n",
       "    </tr>\n",
       "    <tr>\n",
       "      <th>10653</th>\n",
       "      <td>10678</td>\n",
       "      <td>0</td>\n",
       "      <td>3</td>\n",
       "      <td>0</td>\n",
       "      <td>1</td>\n",
       "      <td>3</td>\n",
       "      <td>150</td>\n",
       "      <td>0</td>\n",
       "      <td>7</td>\n",
       "      <td>4107</td>\n",
       "      <td>4</td>\n",
       "      <td>9</td>\n",
       "      <td>1</td>\n",
       "    </tr>\n",
       "    <tr>\n",
       "      <th>10654</th>\n",
       "      <td>10679</td>\n",
       "      <td>1</td>\n",
       "      <td>3</td>\n",
       "      <td>0</td>\n",
       "      <td>1</td>\n",
       "      <td>3</td>\n",
       "      <td>155</td>\n",
       "      <td>0</td>\n",
       "      <td>7</td>\n",
       "      <td>4145</td>\n",
       "      <td>4</td>\n",
       "      <td>27</td>\n",
       "      <td>5</td>\n",
       "    </tr>\n",
       "    <tr>\n",
       "      <th>10655</th>\n",
       "      <td>10680</td>\n",
       "      <td>4</td>\n",
       "      <td>0</td>\n",
       "      <td>4</td>\n",
       "      <td>2</td>\n",
       "      <td>0</td>\n",
       "      <td>180</td>\n",
       "      <td>0</td>\n",
       "      <td>7</td>\n",
       "      <td>7229</td>\n",
       "      <td>4</td>\n",
       "      <td>27</td>\n",
       "      <td>5</td>\n",
       "    </tr>\n",
       "    <tr>\n",
       "      <th>10656</th>\n",
       "      <td>10681</td>\n",
       "      <td>10</td>\n",
       "      <td>0</td>\n",
       "      <td>4</td>\n",
       "      <td>0</td>\n",
       "      <td>0</td>\n",
       "      <td>160</td>\n",
       "      <td>0</td>\n",
       "      <td>7</td>\n",
       "      <td>12648</td>\n",
       "      <td>3</td>\n",
       "      <td>1</td>\n",
       "      <td>4</td>\n",
       "    </tr>\n",
       "    <tr>\n",
       "      <th>10657</th>\n",
       "      <td>10682</td>\n",
       "      <td>1</td>\n",
       "      <td>2</td>\n",
       "      <td>1</td>\n",
       "      <td>2</td>\n",
       "      <td>1</td>\n",
       "      <td>500</td>\n",
       "      <td>2</td>\n",
       "      <td>7</td>\n",
       "      <td>11753</td>\n",
       "      <td>5</td>\n",
       "      <td>9</td>\n",
       "      <td>3</td>\n",
       "    </tr>\n",
       "  </tbody>\n",
       "</table>\n",
       "<p>10658 rows × 13 columns</p>\n",
       "</div>"
      ],
      "text/plain": [
       "       index  Airline  Source  Destination  Dep_Time  Arrival_Time  Duration  \\\n",
       "0          0        3       0            4         3             3       170   \n",
       "1          1        1       3            0         2             0       445   \n",
       "2          2        4       2            1         2             3      1140   \n",
       "3          3        3       3            0         1             3       325   \n",
       "4          4        3       0            4         1             3       285   \n",
       "...      ...      ...     ...          ...       ...           ...       ...   \n",
       "10653  10678        0       3            0         1             3       150   \n",
       "10654  10679        1       3            0         1             3       155   \n",
       "10655  10680        4       0            4         2             0       180   \n",
       "10656  10681       10       0            4         0             0       160   \n",
       "10657  10682        1       2            1         2             1       500   \n",
       "\n",
       "       Total_Stops  Additional_Info  Price  Month_of_Journey  Day_of_Journey  \\\n",
       "0                0                7   3897                 3              24   \n",
       "1                2                7   7662                 5               1   \n",
       "2                2                7  13882                 6               9   \n",
       "3                1                7   6218                 5              12   \n",
       "4                1                7  13302                 3               1   \n",
       "...            ...              ...    ...               ...             ...   \n",
       "10653            0                7   4107                 4               9   \n",
       "10654            0                7   4145                 4              27   \n",
       "10655            0                7   7229                 4              27   \n",
       "10656            0                7  12648                 3               1   \n",
       "10657            2                7  11753                 5               9   \n",
       "\n",
       "       Weekday_of_Journey  \n",
       "0                       6  \n",
       "1                       2  \n",
       "2                       6  \n",
       "3                       6  \n",
       "4                       4  \n",
       "...                   ...  \n",
       "10653                   1  \n",
       "10654                   5  \n",
       "10655                   5  \n",
       "10656                   4  \n",
       "10657                   3  \n",
       "\n",
       "[10658 rows x 13 columns]"
      ]
     },
     "execution_count": 60,
     "metadata": {},
     "output_type": "execute_result"
    }
   ],
   "source": [
    "# Dropping records which have less value_counts based on 'Airline' column\n",
    "\n",
    "counts = df['Airline'].value_counts()\n",
    "\n",
    "df_new = df[~df['Airline'].isin(counts[counts < 15].index)]\n",
    "\n",
    "df_new.reset_index()\n",
    "\n",
    "# This is another method to do the filtering of rows based on valuecounts\n",
    "# df.groupby('Airline').filter(lambda x : len(x)<15)"
   ]
  },
  {
   "cell_type": "code",
   "execution_count": 61,
   "id": "d134f0e4",
   "metadata": {},
   "outputs": [
    {
     "data": {
      "text/html": [
       "<div>\n",
       "<style scoped>\n",
       "    .dataframe tbody tr th:only-of-type {\n",
       "        vertical-align: middle;\n",
       "    }\n",
       "\n",
       "    .dataframe tbody tr th {\n",
       "        vertical-align: top;\n",
       "    }\n",
       "\n",
       "    .dataframe thead th {\n",
       "        text-align: right;\n",
       "    }\n",
       "</style>\n",
       "<table border=\"1\" class=\"dataframe\">\n",
       "  <thead>\n",
       "    <tr style=\"text-align: right;\">\n",
       "      <th></th>\n",
       "      <th>index</th>\n",
       "      <th>Airline</th>\n",
       "      <th>Source</th>\n",
       "      <th>Destination</th>\n",
       "      <th>Dep_Time</th>\n",
       "      <th>Arrival_Time</th>\n",
       "      <th>Duration</th>\n",
       "      <th>Total_Stops</th>\n",
       "      <th>Additional_Info</th>\n",
       "      <th>Price</th>\n",
       "      <th>Month_of_Journey</th>\n",
       "      <th>Day_of_Journey</th>\n",
       "      <th>Weekday_of_Journey</th>\n",
       "    </tr>\n",
       "  </thead>\n",
       "  <tbody>\n",
       "    <tr>\n",
       "      <th>0</th>\n",
       "      <td>0</td>\n",
       "      <td>3</td>\n",
       "      <td>0</td>\n",
       "      <td>4</td>\n",
       "      <td>3</td>\n",
       "      <td>3</td>\n",
       "      <td>170</td>\n",
       "      <td>0</td>\n",
       "      <td>7</td>\n",
       "      <td>3897</td>\n",
       "      <td>3</td>\n",
       "      <td>24</td>\n",
       "      <td>6</td>\n",
       "    </tr>\n",
       "    <tr>\n",
       "      <th>1</th>\n",
       "      <td>1</td>\n",
       "      <td>1</td>\n",
       "      <td>3</td>\n",
       "      <td>0</td>\n",
       "      <td>2</td>\n",
       "      <td>0</td>\n",
       "      <td>445</td>\n",
       "      <td>2</td>\n",
       "      <td>7</td>\n",
       "      <td>7662</td>\n",
       "      <td>5</td>\n",
       "      <td>1</td>\n",
       "      <td>2</td>\n",
       "    </tr>\n",
       "    <tr>\n",
       "      <th>2</th>\n",
       "      <td>2</td>\n",
       "      <td>4</td>\n",
       "      <td>2</td>\n",
       "      <td>1</td>\n",
       "      <td>2</td>\n",
       "      <td>3</td>\n",
       "      <td>1140</td>\n",
       "      <td>2</td>\n",
       "      <td>7</td>\n",
       "      <td>13882</td>\n",
       "      <td>6</td>\n",
       "      <td>9</td>\n",
       "      <td>6</td>\n",
       "    </tr>\n",
       "    <tr>\n",
       "      <th>3</th>\n",
       "      <td>3</td>\n",
       "      <td>3</td>\n",
       "      <td>3</td>\n",
       "      <td>0</td>\n",
       "      <td>1</td>\n",
       "      <td>3</td>\n",
       "      <td>325</td>\n",
       "      <td>1</td>\n",
       "      <td>7</td>\n",
       "      <td>6218</td>\n",
       "      <td>5</td>\n",
       "      <td>12</td>\n",
       "      <td>6</td>\n",
       "    </tr>\n",
       "    <tr>\n",
       "      <th>4</th>\n",
       "      <td>4</td>\n",
       "      <td>3</td>\n",
       "      <td>0</td>\n",
       "      <td>4</td>\n",
       "      <td>1</td>\n",
       "      <td>3</td>\n",
       "      <td>285</td>\n",
       "      <td>1</td>\n",
       "      <td>7</td>\n",
       "      <td>13302</td>\n",
       "      <td>3</td>\n",
       "      <td>1</td>\n",
       "      <td>4</td>\n",
       "    </tr>\n",
       "    <tr>\n",
       "      <th>...</th>\n",
       "      <td>...</td>\n",
       "      <td>...</td>\n",
       "      <td>...</td>\n",
       "      <td>...</td>\n",
       "      <td>...</td>\n",
       "      <td>...</td>\n",
       "      <td>...</td>\n",
       "      <td>...</td>\n",
       "      <td>...</td>\n",
       "      <td>...</td>\n",
       "      <td>...</td>\n",
       "      <td>...</td>\n",
       "      <td>...</td>\n",
       "    </tr>\n",
       "    <tr>\n",
       "      <th>10623</th>\n",
       "      <td>10678</td>\n",
       "      <td>0</td>\n",
       "      <td>3</td>\n",
       "      <td>0</td>\n",
       "      <td>1</td>\n",
       "      <td>3</td>\n",
       "      <td>150</td>\n",
       "      <td>0</td>\n",
       "      <td>7</td>\n",
       "      <td>4107</td>\n",
       "      <td>4</td>\n",
       "      <td>9</td>\n",
       "      <td>1</td>\n",
       "    </tr>\n",
       "    <tr>\n",
       "      <th>10624</th>\n",
       "      <td>10679</td>\n",
       "      <td>1</td>\n",
       "      <td>3</td>\n",
       "      <td>0</td>\n",
       "      <td>1</td>\n",
       "      <td>3</td>\n",
       "      <td>155</td>\n",
       "      <td>0</td>\n",
       "      <td>7</td>\n",
       "      <td>4145</td>\n",
       "      <td>4</td>\n",
       "      <td>27</td>\n",
       "      <td>5</td>\n",
       "    </tr>\n",
       "    <tr>\n",
       "      <th>10625</th>\n",
       "      <td>10680</td>\n",
       "      <td>4</td>\n",
       "      <td>0</td>\n",
       "      <td>4</td>\n",
       "      <td>2</td>\n",
       "      <td>0</td>\n",
       "      <td>180</td>\n",
       "      <td>0</td>\n",
       "      <td>7</td>\n",
       "      <td>7229</td>\n",
       "      <td>4</td>\n",
       "      <td>27</td>\n",
       "      <td>5</td>\n",
       "    </tr>\n",
       "    <tr>\n",
       "      <th>10626</th>\n",
       "      <td>10681</td>\n",
       "      <td>10</td>\n",
       "      <td>0</td>\n",
       "      <td>4</td>\n",
       "      <td>0</td>\n",
       "      <td>0</td>\n",
       "      <td>160</td>\n",
       "      <td>0</td>\n",
       "      <td>7</td>\n",
       "      <td>12648</td>\n",
       "      <td>3</td>\n",
       "      <td>1</td>\n",
       "      <td>4</td>\n",
       "    </tr>\n",
       "    <tr>\n",
       "      <th>10627</th>\n",
       "      <td>10682</td>\n",
       "      <td>1</td>\n",
       "      <td>2</td>\n",
       "      <td>1</td>\n",
       "      <td>2</td>\n",
       "      <td>1</td>\n",
       "      <td>500</td>\n",
       "      <td>2</td>\n",
       "      <td>7</td>\n",
       "      <td>11753</td>\n",
       "      <td>5</td>\n",
       "      <td>9</td>\n",
       "      <td>3</td>\n",
       "    </tr>\n",
       "  </tbody>\n",
       "</table>\n",
       "<p>10628 rows × 13 columns</p>\n",
       "</div>"
      ],
      "text/plain": [
       "       index  Airline  Source  Destination  Dep_Time  Arrival_Time  Duration  \\\n",
       "0          0        3       0            4         3             3       170   \n",
       "1          1        1       3            0         2             0       445   \n",
       "2          2        4       2            1         2             3      1140   \n",
       "3          3        3       3            0         1             3       325   \n",
       "4          4        3       0            4         1             3       285   \n",
       "...      ...      ...     ...          ...       ...           ...       ...   \n",
       "10623  10678        0       3            0         1             3       150   \n",
       "10624  10679        1       3            0         1             3       155   \n",
       "10625  10680        4       0            4         2             0       180   \n",
       "10626  10681       10       0            4         0             0       160   \n",
       "10627  10682        1       2            1         2             1       500   \n",
       "\n",
       "       Total_Stops  Additional_Info  Price  Month_of_Journey  Day_of_Journey  \\\n",
       "0                0                7   3897                 3              24   \n",
       "1                2                7   7662                 5               1   \n",
       "2                2                7  13882                 6               9   \n",
       "3                1                7   6218                 5              12   \n",
       "4                1                7  13302                 3               1   \n",
       "...            ...              ...    ...               ...             ...   \n",
       "10623            0                7   4107                 4               9   \n",
       "10624            0                7   4145                 4              27   \n",
       "10625            0                7   7229                 4              27   \n",
       "10626            0                7  12648                 3               1   \n",
       "10627            2                7  11753                 5               9   \n",
       "\n",
       "       Weekday_of_Journey  \n",
       "0                       6  \n",
       "1                       2  \n",
       "2                       6  \n",
       "3                       6  \n",
       "4                       4  \n",
       "...                   ...  \n",
       "10623                   1  \n",
       "10624                   5  \n",
       "10625                   5  \n",
       "10626                   4  \n",
       "10627                   3  \n",
       "\n",
       "[10628 rows x 13 columns]"
      ]
     },
     "execution_count": 61,
     "metadata": {},
     "output_type": "execute_result"
    }
   ],
   "source": [
    "# Dropping records which have less value_counts based on 'Additional_Info' column\n",
    "\n",
    "counts = df_new['Additional_Info'].value_counts()\n",
    "\n",
    "df_new = df_new[~df_new['Additional_Info'].isin(counts[counts < 20].index)]\n",
    "\n",
    "df_new.reset_index()"
   ]
  },
  {
   "cell_type": "code",
   "execution_count": 62,
   "id": "c53af3b3",
   "metadata": {},
   "outputs": [
    {
     "data": {
      "text/html": [
       "<div>\n",
       "<style scoped>\n",
       "    .dataframe tbody tr th:only-of-type {\n",
       "        vertical-align: middle;\n",
       "    }\n",
       "\n",
       "    .dataframe tbody tr th {\n",
       "        vertical-align: top;\n",
       "    }\n",
       "\n",
       "    .dataframe thead th {\n",
       "        text-align: right;\n",
       "    }\n",
       "</style>\n",
       "<table border=\"1\" class=\"dataframe\">\n",
       "  <thead>\n",
       "    <tr style=\"text-align: right;\">\n",
       "      <th></th>\n",
       "      <th>index</th>\n",
       "      <th>Airline</th>\n",
       "      <th>Source</th>\n",
       "      <th>Destination</th>\n",
       "      <th>Dep_Time</th>\n",
       "      <th>Arrival_Time</th>\n",
       "      <th>Duration</th>\n",
       "      <th>Total_Stops</th>\n",
       "      <th>Additional_Info</th>\n",
       "      <th>Price</th>\n",
       "      <th>Month_of_Journey</th>\n",
       "      <th>Day_of_Journey</th>\n",
       "      <th>Weekday_of_Journey</th>\n",
       "    </tr>\n",
       "  </thead>\n",
       "  <tbody>\n",
       "    <tr>\n",
       "      <th>0</th>\n",
       "      <td>0</td>\n",
       "      <td>3</td>\n",
       "      <td>0</td>\n",
       "      <td>4</td>\n",
       "      <td>3</td>\n",
       "      <td>3</td>\n",
       "      <td>170</td>\n",
       "      <td>0</td>\n",
       "      <td>7</td>\n",
       "      <td>3897</td>\n",
       "      <td>3</td>\n",
       "      <td>24</td>\n",
       "      <td>6</td>\n",
       "    </tr>\n",
       "    <tr>\n",
       "      <th>1</th>\n",
       "      <td>1</td>\n",
       "      <td>1</td>\n",
       "      <td>3</td>\n",
       "      <td>0</td>\n",
       "      <td>2</td>\n",
       "      <td>0</td>\n",
       "      <td>445</td>\n",
       "      <td>2</td>\n",
       "      <td>7</td>\n",
       "      <td>7662</td>\n",
       "      <td>5</td>\n",
       "      <td>1</td>\n",
       "      <td>2</td>\n",
       "    </tr>\n",
       "    <tr>\n",
       "      <th>2</th>\n",
       "      <td>2</td>\n",
       "      <td>4</td>\n",
       "      <td>2</td>\n",
       "      <td>1</td>\n",
       "      <td>2</td>\n",
       "      <td>3</td>\n",
       "      <td>1140</td>\n",
       "      <td>2</td>\n",
       "      <td>7</td>\n",
       "      <td>13882</td>\n",
       "      <td>6</td>\n",
       "      <td>9</td>\n",
       "      <td>6</td>\n",
       "    </tr>\n",
       "    <tr>\n",
       "      <th>3</th>\n",
       "      <td>3</td>\n",
       "      <td>3</td>\n",
       "      <td>3</td>\n",
       "      <td>0</td>\n",
       "      <td>1</td>\n",
       "      <td>3</td>\n",
       "      <td>325</td>\n",
       "      <td>1</td>\n",
       "      <td>7</td>\n",
       "      <td>6218</td>\n",
       "      <td>5</td>\n",
       "      <td>12</td>\n",
       "      <td>6</td>\n",
       "    </tr>\n",
       "    <tr>\n",
       "      <th>4</th>\n",
       "      <td>4</td>\n",
       "      <td>3</td>\n",
       "      <td>0</td>\n",
       "      <td>4</td>\n",
       "      <td>1</td>\n",
       "      <td>3</td>\n",
       "      <td>285</td>\n",
       "      <td>1</td>\n",
       "      <td>7</td>\n",
       "      <td>13302</td>\n",
       "      <td>3</td>\n",
       "      <td>1</td>\n",
       "      <td>4</td>\n",
       "    </tr>\n",
       "    <tr>\n",
       "      <th>...</th>\n",
       "      <td>...</td>\n",
       "      <td>...</td>\n",
       "      <td>...</td>\n",
       "      <td>...</td>\n",
       "      <td>...</td>\n",
       "      <td>...</td>\n",
       "      <td>...</td>\n",
       "      <td>...</td>\n",
       "      <td>...</td>\n",
       "      <td>...</td>\n",
       "      <td>...</td>\n",
       "      <td>...</td>\n",
       "      <td>...</td>\n",
       "    </tr>\n",
       "    <tr>\n",
       "      <th>10578</th>\n",
       "      <td>10678</td>\n",
       "      <td>0</td>\n",
       "      <td>3</td>\n",
       "      <td>0</td>\n",
       "      <td>1</td>\n",
       "      <td>3</td>\n",
       "      <td>150</td>\n",
       "      <td>0</td>\n",
       "      <td>7</td>\n",
       "      <td>4107</td>\n",
       "      <td>4</td>\n",
       "      <td>9</td>\n",
       "      <td>1</td>\n",
       "    </tr>\n",
       "    <tr>\n",
       "      <th>10579</th>\n",
       "      <td>10679</td>\n",
       "      <td>1</td>\n",
       "      <td>3</td>\n",
       "      <td>0</td>\n",
       "      <td>1</td>\n",
       "      <td>3</td>\n",
       "      <td>155</td>\n",
       "      <td>0</td>\n",
       "      <td>7</td>\n",
       "      <td>4145</td>\n",
       "      <td>4</td>\n",
       "      <td>27</td>\n",
       "      <td>5</td>\n",
       "    </tr>\n",
       "    <tr>\n",
       "      <th>10580</th>\n",
       "      <td>10680</td>\n",
       "      <td>4</td>\n",
       "      <td>0</td>\n",
       "      <td>4</td>\n",
       "      <td>2</td>\n",
       "      <td>0</td>\n",
       "      <td>180</td>\n",
       "      <td>0</td>\n",
       "      <td>7</td>\n",
       "      <td>7229</td>\n",
       "      <td>4</td>\n",
       "      <td>27</td>\n",
       "      <td>5</td>\n",
       "    </tr>\n",
       "    <tr>\n",
       "      <th>10581</th>\n",
       "      <td>10681</td>\n",
       "      <td>10</td>\n",
       "      <td>0</td>\n",
       "      <td>4</td>\n",
       "      <td>0</td>\n",
       "      <td>0</td>\n",
       "      <td>160</td>\n",
       "      <td>0</td>\n",
       "      <td>7</td>\n",
       "      <td>12648</td>\n",
       "      <td>3</td>\n",
       "      <td>1</td>\n",
       "      <td>4</td>\n",
       "    </tr>\n",
       "    <tr>\n",
       "      <th>10582</th>\n",
       "      <td>10682</td>\n",
       "      <td>1</td>\n",
       "      <td>2</td>\n",
       "      <td>1</td>\n",
       "      <td>2</td>\n",
       "      <td>1</td>\n",
       "      <td>500</td>\n",
       "      <td>2</td>\n",
       "      <td>7</td>\n",
       "      <td>11753</td>\n",
       "      <td>5</td>\n",
       "      <td>9</td>\n",
       "      <td>3</td>\n",
       "    </tr>\n",
       "  </tbody>\n",
       "</table>\n",
       "<p>10583 rows × 13 columns</p>\n",
       "</div>"
      ],
      "text/plain": [
       "       index  Airline  Source  Destination  Dep_Time  Arrival_Time  Duration  \\\n",
       "0          0        3       0            4         3             3       170   \n",
       "1          1        1       3            0         2             0       445   \n",
       "2          2        4       2            1         2             3      1140   \n",
       "3          3        3       3            0         1             3       325   \n",
       "4          4        3       0            4         1             3       285   \n",
       "...      ...      ...     ...          ...       ...           ...       ...   \n",
       "10578  10678        0       3            0         1             3       150   \n",
       "10579  10679        1       3            0         1             3       155   \n",
       "10580  10680        4       0            4         2             0       180   \n",
       "10581  10681       10       0            4         0             0       160   \n",
       "10582  10682        1       2            1         2             1       500   \n",
       "\n",
       "       Total_Stops  Additional_Info  Price  Month_of_Journey  Day_of_Journey  \\\n",
       "0                0                7   3897                 3              24   \n",
       "1                2                7   7662                 5               1   \n",
       "2                2                7  13882                 6               9   \n",
       "3                1                7   6218                 5              12   \n",
       "4                1                7  13302                 3               1   \n",
       "...            ...              ...    ...               ...             ...   \n",
       "10578            0                7   4107                 4               9   \n",
       "10579            0                7   4145                 4              27   \n",
       "10580            0                7   7229                 4              27   \n",
       "10581            0                7  12648                 3               1   \n",
       "10582            2                7  11753                 5               9   \n",
       "\n",
       "       Weekday_of_Journey  \n",
       "0                       6  \n",
       "1                       2  \n",
       "2                       6  \n",
       "3                       6  \n",
       "4                       4  \n",
       "...                   ...  \n",
       "10578                   1  \n",
       "10579                   5  \n",
       "10580                   5  \n",
       "10581                   4  \n",
       "10582                   3  \n",
       "\n",
       "[10583 rows x 13 columns]"
      ]
     },
     "execution_count": 62,
     "metadata": {},
     "output_type": "execute_result"
    }
   ],
   "source": [
    "# Dropping records which have less value_counts based on 'Additional_Info' column\n",
    "\n",
    "counts = df_new['Total_Stops'].value_counts()\n",
    "\n",
    "df_new = df_new[~df_new['Total_Stops'].isin(counts[counts < 50].index)]\n",
    "\n",
    "df_new.reset_index()"
   ]
  },
  {
   "cell_type": "code",
   "execution_count": 63,
   "id": "6827ded0",
   "metadata": {},
   "outputs": [
    {
     "data": {
      "text/html": [
       "<div>\n",
       "<style scoped>\n",
       "    .dataframe tbody tr th:only-of-type {\n",
       "        vertical-align: middle;\n",
       "    }\n",
       "\n",
       "    .dataframe tbody tr th {\n",
       "        vertical-align: top;\n",
       "    }\n",
       "\n",
       "    .dataframe thead th {\n",
       "        text-align: right;\n",
       "    }\n",
       "</style>\n",
       "<table border=\"1\" class=\"dataframe\">\n",
       "  <thead>\n",
       "    <tr style=\"text-align: right;\">\n",
       "      <th></th>\n",
       "      <th>Airline</th>\n",
       "      <th>Source</th>\n",
       "      <th>Destination</th>\n",
       "      <th>Dep_Time</th>\n",
       "      <th>Arrival_Time</th>\n",
       "      <th>Duration</th>\n",
       "      <th>Total_Stops</th>\n",
       "      <th>Additional_Info</th>\n",
       "      <th>Price</th>\n",
       "      <th>Month_of_Journey</th>\n",
       "      <th>Day_of_Journey</th>\n",
       "      <th>Weekday_of_Journey</th>\n",
       "    </tr>\n",
       "  </thead>\n",
       "  <tbody>\n",
       "    <tr>\n",
       "      <th>0</th>\n",
       "      <td>3</td>\n",
       "      <td>0</td>\n",
       "      <td>4</td>\n",
       "      <td>3</td>\n",
       "      <td>3</td>\n",
       "      <td>170</td>\n",
       "      <td>0</td>\n",
       "      <td>7</td>\n",
       "      <td>3897</td>\n",
       "      <td>3</td>\n",
       "      <td>24</td>\n",
       "      <td>6</td>\n",
       "    </tr>\n",
       "    <tr>\n",
       "      <th>1</th>\n",
       "      <td>1</td>\n",
       "      <td>3</td>\n",
       "      <td>0</td>\n",
       "      <td>2</td>\n",
       "      <td>0</td>\n",
       "      <td>445</td>\n",
       "      <td>2</td>\n",
       "      <td>7</td>\n",
       "      <td>7662</td>\n",
       "      <td>5</td>\n",
       "      <td>1</td>\n",
       "      <td>2</td>\n",
       "    </tr>\n",
       "    <tr>\n",
       "      <th>2</th>\n",
       "      <td>4</td>\n",
       "      <td>2</td>\n",
       "      <td>1</td>\n",
       "      <td>2</td>\n",
       "      <td>3</td>\n",
       "      <td>1140</td>\n",
       "      <td>2</td>\n",
       "      <td>7</td>\n",
       "      <td>13882</td>\n",
       "      <td>6</td>\n",
       "      <td>9</td>\n",
       "      <td>6</td>\n",
       "    </tr>\n",
       "    <tr>\n",
       "      <th>3</th>\n",
       "      <td>3</td>\n",
       "      <td>3</td>\n",
       "      <td>0</td>\n",
       "      <td>1</td>\n",
       "      <td>3</td>\n",
       "      <td>325</td>\n",
       "      <td>1</td>\n",
       "      <td>7</td>\n",
       "      <td>6218</td>\n",
       "      <td>5</td>\n",
       "      <td>12</td>\n",
       "      <td>6</td>\n",
       "    </tr>\n",
       "    <tr>\n",
       "      <th>4</th>\n",
       "      <td>3</td>\n",
       "      <td>0</td>\n",
       "      <td>4</td>\n",
       "      <td>1</td>\n",
       "      <td>3</td>\n",
       "      <td>285</td>\n",
       "      <td>1</td>\n",
       "      <td>7</td>\n",
       "      <td>13302</td>\n",
       "      <td>3</td>\n",
       "      <td>1</td>\n",
       "      <td>4</td>\n",
       "    </tr>\n",
       "  </tbody>\n",
       "</table>\n",
       "</div>"
      ],
      "text/plain": [
       "   Airline  Source  Destination  Dep_Time  Arrival_Time  Duration  \\\n",
       "0        3       0            4         3             3       170   \n",
       "1        1       3            0         2             0       445   \n",
       "2        4       2            1         2             3      1140   \n",
       "3        3       3            0         1             3       325   \n",
       "4        3       0            4         1             3       285   \n",
       "\n",
       "   Total_Stops  Additional_Info  Price  Month_of_Journey  Day_of_Journey  \\\n",
       "0            0                7   3897                 3              24   \n",
       "1            2                7   7662                 5               1   \n",
       "2            2                7  13882                 6               9   \n",
       "3            1                7   6218                 5              12   \n",
       "4            1                7  13302                 3               1   \n",
       "\n",
       "   Weekday_of_Journey  \n",
       "0                   6  \n",
       "1                   2  \n",
       "2                   6  \n",
       "3                   6  \n",
       "4                   4  "
      ]
     },
     "execution_count": 63,
     "metadata": {},
     "output_type": "execute_result"
    }
   ],
   "source": [
    "df_new.head()"
   ]
  },
  {
   "cell_type": "code",
   "execution_count": 64,
   "id": "c1c7c87f",
   "metadata": {},
   "outputs": [],
   "source": [
    "# pandas_profiling.ProfileReport(df_new)\n",
    "\n",
    "# import dtale\n",
    "# d = dtale.show(df_new)\n",
    "# d.open_browser()\n",
    "\n",
    "# import sweetviz\n",
    "# my_report  = sweetviz.analyze(df_new, target_feat='Price')\n",
    "# my_report.show_html('FinalReport.html')"
   ]
  },
  {
   "cell_type": "code",
   "execution_count": 65,
   "id": "30cc47aa",
   "metadata": {},
   "outputs": [],
   "source": [
    "from sklearn.feature_selection import mutual_info_classif\n",
    "\n",
    "x = df_new.drop('Price', axis= 'columns')\n",
    "y = df_new['Price']\n"
   ]
  },
  {
   "cell_type": "code",
   "execution_count": 66,
   "id": "693e185c",
   "metadata": {},
   "outputs": [
    {
     "data": {
      "text/html": [
       "<div>\n",
       "<style scoped>\n",
       "    .dataframe tbody tr th:only-of-type {\n",
       "        vertical-align: middle;\n",
       "    }\n",
       "\n",
       "    .dataframe tbody tr th {\n",
       "        vertical-align: top;\n",
       "    }\n",
       "\n",
       "    .dataframe thead th {\n",
       "        text-align: right;\n",
       "    }\n",
       "</style>\n",
       "<table border=\"1\" class=\"dataframe\">\n",
       "  <thead>\n",
       "    <tr style=\"text-align: right;\">\n",
       "      <th></th>\n",
       "      <th>0</th>\n",
       "    </tr>\n",
       "  </thead>\n",
       "  <tbody>\n",
       "    <tr>\n",
       "      <th>Airline</th>\n",
       "      <td>2.550874</td>\n",
       "    </tr>\n",
       "    <tr>\n",
       "      <th>Destination</th>\n",
       "      <td>2.437155</td>\n",
       "    </tr>\n",
       "    <tr>\n",
       "      <th>Source</th>\n",
       "      <td>2.383473</td>\n",
       "    </tr>\n",
       "    <tr>\n",
       "      <th>Duration</th>\n",
       "      <td>2.371678</td>\n",
       "    </tr>\n",
       "    <tr>\n",
       "      <th>Total_Stops</th>\n",
       "      <td>2.150526</td>\n",
       "    </tr>\n",
       "    <tr>\n",
       "      <th>Additional_Info</th>\n",
       "      <td>1.501113</td>\n",
       "    </tr>\n",
       "    <tr>\n",
       "      <th>Month_of_Journey</th>\n",
       "      <td>1.248450</td>\n",
       "    </tr>\n",
       "    <tr>\n",
       "      <th>Dep_Time</th>\n",
       "      <td>1.120641</td>\n",
       "    </tr>\n",
       "    <tr>\n",
       "      <th>Arrival_Time</th>\n",
       "      <td>1.045301</td>\n",
       "    </tr>\n",
       "    <tr>\n",
       "      <th>Day_of_Journey</th>\n",
       "      <td>0.787552</td>\n",
       "    </tr>\n",
       "    <tr>\n",
       "      <th>Weekday_of_Journey</th>\n",
       "      <td>0.723232</td>\n",
       "    </tr>\n",
       "  </tbody>\n",
       "</table>\n",
       "</div>"
      ],
      "text/plain": [
       "                           0\n",
       "Airline             2.550874\n",
       "Destination         2.437155\n",
       "Source              2.383473\n",
       "Duration            2.371678\n",
       "Total_Stops         2.150526\n",
       "Additional_Info     1.501113\n",
       "Month_of_Journey    1.248450\n",
       "Dep_Time            1.120641\n",
       "Arrival_Time        1.045301\n",
       "Day_of_Journey      0.787552\n",
       "Weekday_of_Journey  0.723232"
      ]
     },
     "execution_count": 66,
     "metadata": {},
     "output_type": "execute_result"
    }
   ],
   "source": [
    "# Looking for Feature importance based on 'mutual_info_classif' from Sklearn\n",
    "\n",
    "imp = pd.DataFrame(mutual_info_classif(x,y), index= x.columns)\n",
    "\n",
    "imp.sort_values(by=0, ascending= False)"
   ]
  },
  {
   "cell_type": "code",
   "execution_count": 70,
   "id": "e6375b78",
   "metadata": {},
   "outputs": [],
   "source": [
    "# df_new.to_csv('final_data.csv', index= False)"
   ]
  },
  {
   "cell_type": "code",
   "execution_count": 73,
   "id": "9b9a0346",
   "metadata": {},
   "outputs": [],
   "source": [
    "data = pd.read_csv('final_data.csv')"
   ]
  },
  {
   "cell_type": "code",
   "execution_count": 74,
   "id": "aab8b358",
   "metadata": {},
   "outputs": [
    {
     "data": {
      "text/html": [
       "<div>\n",
       "<style scoped>\n",
       "    .dataframe tbody tr th:only-of-type {\n",
       "        vertical-align: middle;\n",
       "    }\n",
       "\n",
       "    .dataframe tbody tr th {\n",
       "        vertical-align: top;\n",
       "    }\n",
       "\n",
       "    .dataframe thead th {\n",
       "        text-align: right;\n",
       "    }\n",
       "</style>\n",
       "<table border=\"1\" class=\"dataframe\">\n",
       "  <thead>\n",
       "    <tr style=\"text-align: right;\">\n",
       "      <th></th>\n",
       "      <th>Airline</th>\n",
       "      <th>Source</th>\n",
       "      <th>Destination</th>\n",
       "      <th>Dep_Time</th>\n",
       "      <th>Arrival_Time</th>\n",
       "      <th>Duration</th>\n",
       "      <th>Total_Stops</th>\n",
       "      <th>Additional_Info</th>\n",
       "      <th>Price</th>\n",
       "      <th>Month_of_Journey</th>\n",
       "      <th>Day_of_Journey</th>\n",
       "      <th>Weekday_of_Journey</th>\n",
       "    </tr>\n",
       "  </thead>\n",
       "  <tbody>\n",
       "    <tr>\n",
       "      <th>0</th>\n",
       "      <td>3</td>\n",
       "      <td>0</td>\n",
       "      <td>4</td>\n",
       "      <td>3</td>\n",
       "      <td>3</td>\n",
       "      <td>170</td>\n",
       "      <td>0</td>\n",
       "      <td>7</td>\n",
       "      <td>3897</td>\n",
       "      <td>3</td>\n",
       "      <td>24</td>\n",
       "      <td>6</td>\n",
       "    </tr>\n",
       "    <tr>\n",
       "      <th>1</th>\n",
       "      <td>1</td>\n",
       "      <td>3</td>\n",
       "      <td>0</td>\n",
       "      <td>2</td>\n",
       "      <td>0</td>\n",
       "      <td>445</td>\n",
       "      <td>2</td>\n",
       "      <td>7</td>\n",
       "      <td>7662</td>\n",
       "      <td>5</td>\n",
       "      <td>1</td>\n",
       "      <td>2</td>\n",
       "    </tr>\n",
       "    <tr>\n",
       "      <th>2</th>\n",
       "      <td>4</td>\n",
       "      <td>2</td>\n",
       "      <td>1</td>\n",
       "      <td>2</td>\n",
       "      <td>3</td>\n",
       "      <td>1140</td>\n",
       "      <td>2</td>\n",
       "      <td>7</td>\n",
       "      <td>13882</td>\n",
       "      <td>6</td>\n",
       "      <td>9</td>\n",
       "      <td>6</td>\n",
       "    </tr>\n",
       "    <tr>\n",
       "      <th>3</th>\n",
       "      <td>3</td>\n",
       "      <td>3</td>\n",
       "      <td>0</td>\n",
       "      <td>1</td>\n",
       "      <td>3</td>\n",
       "      <td>325</td>\n",
       "      <td>1</td>\n",
       "      <td>7</td>\n",
       "      <td>6218</td>\n",
       "      <td>5</td>\n",
       "      <td>12</td>\n",
       "      <td>6</td>\n",
       "    </tr>\n",
       "    <tr>\n",
       "      <th>4</th>\n",
       "      <td>3</td>\n",
       "      <td>0</td>\n",
       "      <td>4</td>\n",
       "      <td>1</td>\n",
       "      <td>3</td>\n",
       "      <td>285</td>\n",
       "      <td>1</td>\n",
       "      <td>7</td>\n",
       "      <td>13302</td>\n",
       "      <td>3</td>\n",
       "      <td>1</td>\n",
       "      <td>4</td>\n",
       "    </tr>\n",
       "  </tbody>\n",
       "</table>\n",
       "</div>"
      ],
      "text/plain": [
       "   Airline  Source  Destination  Dep_Time  Arrival_Time  Duration  \\\n",
       "0        3       0            4         3             3       170   \n",
       "1        1       3            0         2             0       445   \n",
       "2        4       2            1         2             3      1140   \n",
       "3        3       3            0         1             3       325   \n",
       "4        3       0            4         1             3       285   \n",
       "\n",
       "   Total_Stops  Additional_Info  Price  Month_of_Journey  Day_of_Journey  \\\n",
       "0            0                7   3897                 3              24   \n",
       "1            2                7   7662                 5               1   \n",
       "2            2                7  13882                 6               9   \n",
       "3            1                7   6218                 5              12   \n",
       "4            1                7  13302                 3               1   \n",
       "\n",
       "   Weekday_of_Journey  \n",
       "0                   6  \n",
       "1                   2  \n",
       "2                   6  \n",
       "3                   6  \n",
       "4                   4  "
      ]
     },
     "execution_count": 74,
     "metadata": {},
     "output_type": "execute_result"
    }
   ],
   "source": [
    "data.head()"
   ]
  },
  {
   "cell_type": "code",
   "execution_count": null,
   "id": "51b4da6f",
   "metadata": {},
   "outputs": [],
   "source": []
  }
 ],
 "metadata": {
  "kernelspec": {
   "display_name": "Python 3",
   "language": "python",
   "name": "python3"
  },
  "language_info": {
   "codemirror_mode": {
    "name": "ipython",
    "version": 3
   },
   "file_extension": ".py",
   "mimetype": "text/x-python",
   "name": "python",
   "nbconvert_exporter": "python",
   "pygments_lexer": "ipython3",
   "version": "3.8.8"
  }
 },
 "nbformat": 4,
 "nbformat_minor": 5
}
