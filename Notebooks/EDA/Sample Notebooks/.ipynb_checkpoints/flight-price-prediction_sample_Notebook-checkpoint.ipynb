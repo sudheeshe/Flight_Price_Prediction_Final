{
 "cells": [
  {
   "cell_type": "markdown",
   "id": "fifth-thumb",
   "metadata": {
    "execution": {
     "iopub.execute_input": "2021-05-23T11:01:33.962968Z",
     "iopub.status.busy": "2021-05-23T11:01:33.962579Z",
     "iopub.status.idle": "2021-05-23T11:01:33.969193Z",
     "shell.execute_reply": "2021-05-23T11:01:33.968047Z",
     "shell.execute_reply.started": "2021-05-23T11:01:33.962937Z"
    },
    "papermill": {
     "duration": 0.104214,
     "end_time": "2021-06-19T07:43:34.416868",
     "exception": false,
     "start_time": "2021-06-19T07:43:34.312654",
     "status": "completed"
    },
    "tags": []
   },
   "source": [
    "<a id = '5.5'></a>\n",
    "<p style = \"font-size : 25px; color : #34656d ; font-family : 'Comic Sans MS'; text-align : center; background-color : #fbc6a4; border-radius: 5px 5px;\"><strong>Flight Price Prediction</strong></p>"
   ]
  },
  {
   "attachments": {
    "14dc9a04-741e-4fd0-9ab9-e4e47b34f004.jpg": {
     "image/jpeg": "[encoded data removed]"
    }
   },
   "cell_type": "markdown",
   "id": "curious-medicine",
   "metadata": {
    "papermill": {
     "duration": 0.09877,
     "end_time": "2021-06-19T07:43:34.626231",
     "exception": false,
     "start_time": "2021-06-19T07:43:34.527461",
     "status": "completed"
    },
    "tags": []
   },
   "source": [
    "![images.jpg](attachment:14dc9a04-741e-4fd0-9ab9-e4e47b34f004.jpg)"
   ]
  },
  {
   "cell_type": "code",
   "execution_count": 1,
   "id": "patient-commitment",
   "metadata": {
    "execution": {
     "iopub.execute_input": "2021-06-19T07:43:34.837392Z",
     "iopub.status.busy": "2021-06-19T07:43:34.832308Z",
     "iopub.status.idle": "2021-06-19T07:43:35.935305Z",
     "shell.execute_reply": "2021-06-19T07:43:35.934409Z",
     "shell.execute_reply.started": "2021-05-25T10:21:05.830499Z"
    },
    "papermill": {
     "duration": 1.210033,
     "end_time": "2021-06-19T07:43:35.935468",
     "exception": false,
     "start_time": "2021-06-19T07:43:34.725435",
     "status": "completed"
    },
    "tags": []
   },
   "outputs": [],
   "source": [
    "#importing libraries\n",
    "import pandas as pd \n",
    "import numpy as np \n",
    "import seaborn as sns \n",
    "import matplotlib.pyplot as plt\n",
    "from sklearn.preprocessing import StandardScaler\n",
    "from sklearn.model_selection import train_test_split,GridSearchCV\n",
    "from sklearn.metrics import accuracy_score,confusion_matrix\n",
    "\n",
    "import warnings\n",
    "warnings.filterwarnings('ignore')\n"
   ]
  },
  {
   "cell_type": "markdown",
   "id": "extra-physiology",
   "metadata": {
    "papermill": {
     "duration": 0.101953,
     "end_time": "2021-06-19T07:43:36.139102",
     "exception": false,
     "start_time": "2021-06-19T07:43:36.037149",
     "status": "completed"
    },
    "tags": []
   },
   "source": [
    "# Importing dataset\n",
    "1.Since data is in form of excel file we have to use pandas read_excel to load the data.   \n",
    "2.After loading it is important to check null values in a column or a row           \n",
    "3.If it is present then following can be done,                                                                                   \n",
    "*       Filling NaN values with mean, median and mode using fillna() method                                                           \n",
    "*       If Less missing values, we can drop it as well           "
   ]
  },
  {
   "cell_type": "code",
   "execution_count": 2,
   "id": "current-continent",
   "metadata": {
    "execution": {
     "iopub.execute_input": "2021-06-19T07:43:36.343763Z",
     "iopub.status.busy": "2021-06-19T07:43:36.343087Z",
     "iopub.status.idle": "2021-06-19T07:43:46.645998Z",
     "shell.execute_reply": "2021-06-19T07:43:46.646464Z",
     "shell.execute_reply.started": "2021-05-25T10:21:06.864874Z"
    },
    "papermill": {
     "duration": 10.407521,
     "end_time": "2021-06-19T07:43:46.646651",
     "exception": false,
     "start_time": "2021-06-19T07:43:36.239130",
     "status": "completed"
    },
    "tags": []
   },
   "outputs": [
    {
     "name": "stdout",
     "output_type": "stream",
     "text": [
      "Collecting openpyxl\r\n",
      "  Downloading openpyxl-3.0.7-py2.py3-none-any.whl (243 kB)\r\n",
      "\u001b[K     |████████████████████████████████| 243 kB 839 kB/s \r\n",
      "\u001b[?25hCollecting et-xmlfile\r\n",
      "  Downloading et_xmlfile-1.1.0-py3-none-any.whl (4.7 kB)\r\n",
      "Installing collected packages: et-xmlfile, openpyxl\r\n",
      "Successfully installed et-xmlfile-1.1.0 openpyxl-3.0.7\r\n",
      "Note: you may need to restart the kernel to use updated packages.\n"
     ]
    }
   ],
   "source": [
    "pip install openpyxl"
   ]
  },
  {
   "cell_type": "code",
   "execution_count": 3,
   "id": "deadly-divorce",
   "metadata": {
    "execution": {
     "iopub.execute_input": "2021-06-19T07:43:46.858486Z",
     "iopub.status.busy": "2021-06-19T07:43:46.857415Z",
     "iopub.status.idle": "2021-06-19T07:43:50.300188Z",
     "shell.execute_reply": "2021-06-19T07:43:50.299511Z",
     "shell.execute_reply.started": "2021-05-25T10:21:10.3083Z"
    },
    "papermill": {
     "duration": 3.549892,
     "end_time": "2021-06-19T07:43:50.300325",
     "exception": false,
     "start_time": "2021-06-19T07:43:46.750433",
     "status": "completed"
    },
    "tags": []
   },
   "outputs": [
    {
     "data": {
      "text/html": [
       "<div>\n",
       "<style scoped>\n",
       "    .dataframe tbody tr th:only-of-type {\n",
       "        vertical-align: middle;\n",
       "    }\n",
       "\n",
       "    .dataframe tbody tr th {\n",
       "        vertical-align: top;\n",
       "    }\n",
       "\n",
       "    .dataframe thead th {\n",
       "        text-align: right;\n",
       "    }\n",
       "</style>\n",
       "<table border=\"1\" class=\"dataframe\">\n",
       "  <thead>\n",
       "    <tr style=\"text-align: right;\">\n",
       "      <th></th>\n",
       "      <th>Airline</th>\n",
       "      <th>Date_of_Journey</th>\n",
       "      <th>Source</th>\n",
       "      <th>Destination</th>\n",
       "      <th>Route</th>\n",
       "      <th>Dep_Time</th>\n",
       "      <th>Arrival_Time</th>\n",
       "      <th>Duration</th>\n",
       "      <th>Total_Stops</th>\n",
       "      <th>Additional_Info</th>\n",
       "      <th>Price</th>\n",
       "    </tr>\n",
       "  </thead>\n",
       "  <tbody>\n",
       "    <tr>\n",
       "      <th>0</th>\n",
       "      <td>IndiGo</td>\n",
       "      <td>24/03/2019</td>\n",
       "      <td>Banglore</td>\n",
       "      <td>New Delhi</td>\n",
       "      <td>BLR → DEL</td>\n",
       "      <td>22:20</td>\n",
       "      <td>01:10 22 Mar</td>\n",
       "      <td>2h 50m</td>\n",
       "      <td>non-stop</td>\n",
       "      <td>No info</td>\n",
       "      <td>3897</td>\n",
       "    </tr>\n",
       "    <tr>\n",
       "      <th>1</th>\n",
       "      <td>Air India</td>\n",
       "      <td>1/05/2019</td>\n",
       "      <td>Kolkata</td>\n",
       "      <td>Banglore</td>\n",
       "      <td>CCU → IXR → BBI → BLR</td>\n",
       "      <td>05:50</td>\n",
       "      <td>13:15</td>\n",
       "      <td>7h 25m</td>\n",
       "      <td>2 stops</td>\n",
       "      <td>No info</td>\n",
       "      <td>7662</td>\n",
       "    </tr>\n",
       "    <tr>\n",
       "      <th>2</th>\n",
       "      <td>Jet Airways</td>\n",
       "      <td>9/06/2019</td>\n",
       "      <td>Delhi</td>\n",
       "      <td>Cochin</td>\n",
       "      <td>DEL → LKO → BOM → COK</td>\n",
       "      <td>09:25</td>\n",
       "      <td>04:25 10 Jun</td>\n",
       "      <td>19h</td>\n",
       "      <td>2 stops</td>\n",
       "      <td>No info</td>\n",
       "      <td>13882</td>\n",
       "    </tr>\n",
       "    <tr>\n",
       "      <th>3</th>\n",
       "      <td>IndiGo</td>\n",
       "      <td>12/05/2019</td>\n",
       "      <td>Kolkata</td>\n",
       "      <td>Banglore</td>\n",
       "      <td>CCU → NAG → BLR</td>\n",
       "      <td>18:05</td>\n",
       "      <td>23:30</td>\n",
       "      <td>5h 25m</td>\n",
       "      <td>1 stop</td>\n",
       "      <td>No info</td>\n",
       "      <td>6218</td>\n",
       "    </tr>\n",
       "    <tr>\n",
       "      <th>4</th>\n",
       "      <td>IndiGo</td>\n",
       "      <td>01/03/2019</td>\n",
       "      <td>Banglore</td>\n",
       "      <td>New Delhi</td>\n",
       "      <td>BLR → NAG → DEL</td>\n",
       "      <td>16:50</td>\n",
       "      <td>21:35</td>\n",
       "      <td>4h 45m</td>\n",
       "      <td>1 stop</td>\n",
       "      <td>No info</td>\n",
       "      <td>13302</td>\n",
       "    </tr>\n",
       "  </tbody>\n",
       "</table>\n",
       "</div>"
      ],
      "text/plain": [
       "       Airline Date_of_Journey    Source Destination                  Route  \\\n",
       "0       IndiGo      24/03/2019  Banglore   New Delhi              BLR → DEL   \n",
       "1    Air India       1/05/2019   Kolkata    Banglore  CCU → IXR → BBI → BLR   \n",
       "2  Jet Airways       9/06/2019     Delhi      Cochin  DEL → LKO → BOM → COK   \n",
       "3       IndiGo      12/05/2019   Kolkata    Banglore        CCU → NAG → BLR   \n",
       "4       IndiGo      01/03/2019  Banglore   New Delhi        BLR → NAG → DEL   \n",
       "\n",
       "  Dep_Time  Arrival_Time Duration Total_Stops Additional_Info  Price  \n",
       "0    22:20  01:10 22 Mar   2h 50m    non-stop         No info   3897  \n",
       "1    05:50         13:15   7h 25m     2 stops         No info   7662  \n",
       "2    09:25  04:25 10 Jun      19h     2 stops         No info  13882  \n",
       "3    18:05         23:30   5h 25m      1 stop         No info   6218  \n",
       "4    16:50         21:35   4h 45m      1 stop         No info  13302  "
      ]
     },
     "execution_count": 3,
     "metadata": {},
     "output_type": "execute_result"
    }
   ],
   "source": [
    "#importing data\n",
    "df=pd.read_excel('/kaggle/input/flight-fare-prediction-mh/Data_Train.xlsx')\n",
    "df.head()"
   ]
  },
  {
   "cell_type": "code",
   "execution_count": 4,
   "id": "chubby-moldova",
   "metadata": {
    "execution": {
     "iopub.execute_input": "2021-06-19T07:43:50.526415Z",
     "iopub.status.busy": "2021-06-19T07:43:50.525785Z",
     "iopub.status.idle": "2021-06-19T07:43:50.546949Z",
     "shell.execute_reply": "2021-06-19T07:43:50.547450Z"
    },
    "papermill": {
     "duration": 0.142103,
     "end_time": "2021-06-19T07:43:50.547626",
     "exception": false,
     "start_time": "2021-06-19T07:43:50.405523",
     "status": "completed"
    },
    "tags": []
   },
   "outputs": [
    {
     "name": "stdout",
     "output_type": "stream",
     "text": [
      "<class 'pandas.core.frame.DataFrame'>\n",
      "RangeIndex: 10683 entries, 0 to 10682\n",
      "Data columns (total 11 columns):\n",
      " #   Column           Non-Null Count  Dtype \n",
      "---  ------           --------------  ----- \n",
      " 0   Airline          10683 non-null  object\n",
      " 1   Date_of_Journey  10683 non-null  object\n",
      " 2   Source           10683 non-null  object\n",
      " 3   Destination      10683 non-null  object\n",
      " 4   Route            10682 non-null  object\n",
      " 5   Dep_Time         10683 non-null  object\n",
      " 6   Arrival_Time     10683 non-null  object\n",
      " 7   Duration         10683 non-null  object\n",
      " 8   Total_Stops      10682 non-null  object\n",
      " 9   Additional_Info  10683 non-null  object\n",
      " 10  Price            10683 non-null  int64 \n",
      "dtypes: int64(1), object(10)\n",
      "memory usage: 918.2+ KB\n"
     ]
    }
   ],
   "source": [
    "df.info()   #information about the data"
   ]
  },
  {
   "cell_type": "code",
   "execution_count": 5,
   "id": "third-reason",
   "metadata": {
    "execution": {
     "iopub.execute_input": "2021-06-19T07:43:50.765088Z",
     "iopub.status.busy": "2021-06-19T07:43:50.764189Z",
     "iopub.status.idle": "2021-06-19T07:43:50.777311Z",
     "shell.execute_reply": "2021-06-19T07:43:50.777811Z"
    },
    "papermill": {
     "duration": 0.126999,
     "end_time": "2021-06-19T07:43:50.777983",
     "exception": false,
     "start_time": "2021-06-19T07:43:50.650984",
     "status": "completed"
    },
    "tags": []
   },
   "outputs": [
    {
     "data": {
      "text/html": [
       "<div>\n",
       "<style scoped>\n",
       "    .dataframe tbody tr th:only-of-type {\n",
       "        vertical-align: middle;\n",
       "    }\n",
       "\n",
       "    .dataframe tbody tr th {\n",
       "        vertical-align: top;\n",
       "    }\n",
       "\n",
       "    .dataframe thead th {\n",
       "        text-align: right;\n",
       "    }\n",
       "</style>\n",
       "<table border=\"1\" class=\"dataframe\">\n",
       "  <thead>\n",
       "    <tr style=\"text-align: right;\">\n",
       "      <th></th>\n",
       "      <th>Price</th>\n",
       "    </tr>\n",
       "  </thead>\n",
       "  <tbody>\n",
       "    <tr>\n",
       "      <th>count</th>\n",
       "      <td>10683.000000</td>\n",
       "    </tr>\n",
       "    <tr>\n",
       "      <th>mean</th>\n",
       "      <td>9087.064121</td>\n",
       "    </tr>\n",
       "    <tr>\n",
       "      <th>std</th>\n",
       "      <td>4611.359167</td>\n",
       "    </tr>\n",
       "    <tr>\n",
       "      <th>min</th>\n",
       "      <td>1759.000000</td>\n",
       "    </tr>\n",
       "    <tr>\n",
       "      <th>25%</th>\n",
       "      <td>5277.000000</td>\n",
       "    </tr>\n",
       "    <tr>\n",
       "      <th>50%</th>\n",
       "      <td>8372.000000</td>\n",
       "    </tr>\n",
       "    <tr>\n",
       "      <th>75%</th>\n",
       "      <td>12373.000000</td>\n",
       "    </tr>\n",
       "    <tr>\n",
       "      <th>max</th>\n",
       "      <td>79512.000000</td>\n",
       "    </tr>\n",
       "  </tbody>\n",
       "</table>\n",
       "</div>"
      ],
      "text/plain": [
       "              Price\n",
       "count  10683.000000\n",
       "mean    9087.064121\n",
       "std     4611.359167\n",
       "min     1759.000000\n",
       "25%     5277.000000\n",
       "50%     8372.000000\n",
       "75%    12373.000000\n",
       "max    79512.000000"
      ]
     },
     "execution_count": 5,
     "metadata": {},
     "output_type": "execute_result"
    }
   ],
   "source": [
    "#describe about the data\n",
    "df.describe()"
   ]
  },
  {
   "cell_type": "code",
   "execution_count": 6,
   "id": "marked-courage",
   "metadata": {
    "execution": {
     "iopub.execute_input": "2021-06-19T07:43:50.994950Z",
     "iopub.status.busy": "2021-06-19T07:43:50.994149Z",
     "iopub.status.idle": "2021-06-19T07:43:50.999679Z",
     "shell.execute_reply": "2021-06-19T07:43:51.000223Z"
    },
    "papermill": {
     "duration": 0.11601,
     "end_time": "2021-06-19T07:43:51.000422",
     "exception": false,
     "start_time": "2021-06-19T07:43:50.884412",
     "status": "completed"
    },
    "tags": []
   },
   "outputs": [
    {
     "data": {
      "text/plain": [
       "(10683, 11)"
      ]
     },
     "execution_count": 6,
     "metadata": {},
     "output_type": "execute_result"
    }
   ],
   "source": [
    "df.shape"
   ]
  },
  {
   "cell_type": "code",
   "execution_count": 7,
   "id": "northern-pixel",
   "metadata": {
    "execution": {
     "iopub.execute_input": "2021-06-19T07:43:51.226625Z",
     "iopub.status.busy": "2021-06-19T07:43:51.226002Z",
     "iopub.status.idle": "2021-06-19T07:43:51.235277Z",
     "shell.execute_reply": "2021-06-19T07:43:51.234769Z"
    },
    "papermill": {
     "duration": 0.128638,
     "end_time": "2021-06-19T07:43:51.235418",
     "exception": false,
     "start_time": "2021-06-19T07:43:51.106780",
     "status": "completed"
    },
    "tags": []
   },
   "outputs": [
    {
     "data": {
      "text/plain": [
       "Airline            0\n",
       "Date_of_Journey    0\n",
       "Source             0\n",
       "Destination        0\n",
       "Route              1\n",
       "Dep_Time           0\n",
       "Arrival_Time       0\n",
       "Duration           0\n",
       "Total_Stops        1\n",
       "Additional_Info    0\n",
       "Price              0\n",
       "dtype: int64"
      ]
     },
     "execution_count": 7,
     "metadata": {},
     "output_type": "execute_result"
    }
   ],
   "source": [
    "#finding the null values\n",
    "df.isnull().sum()"
   ]
  },
  {
   "cell_type": "code",
   "execution_count": 8,
   "id": "public-brunswick",
   "metadata": {
    "execution": {
     "iopub.execute_input": "2021-06-19T07:43:51.451255Z",
     "iopub.status.busy": "2021-06-19T07:43:51.450586Z",
     "iopub.status.idle": "2021-06-19T07:43:52.273058Z",
     "shell.execute_reply": "2021-06-19T07:43:52.272413Z"
    },
    "papermill": {
     "duration": 0.931828,
     "end_time": "2021-06-19T07:43:52.273187",
     "exception": false,
     "start_time": "2021-06-19T07:43:51.341359",
     "status": "completed"
    },
    "tags": []
   },
   "outputs": [
    {
     "data": {
      "text/plain": [
       "<function matplotlib.pyplot.show(close=None, block=None)>"
      ]
     },
     "execution_count": 8,
     "metadata": {},
     "output_type": "execute_result"
    },
    {
     "data": {
      "image/png": "[encoded data removed]",
      "text/plain": [
       "<Figure size 1728x720 with 3 Axes>"
      ]
     },
     "metadata": {
      "needs_background": "light"
     },
     "output_type": "display_data"
    }
   ],
   "source": [
    "import missingno as msno\n",
    "msno.bar(df)\n",
    "plt.show"
   ]
  },
  {
   "cell_type": "markdown",
   "id": "hybrid-biology",
   "metadata": {
    "papermill": {
     "duration": 0.109402,
     "end_time": "2021-06-19T07:43:52.491975",
     "exception": false,
     "start_time": "2021-06-19T07:43:52.382573",
     "status": "completed"
    },
    "tags": []
   },
   "source": [
    "### **We observe 2 missing values,I can directly drop these,as these are very less.**"
   ]
  },
  {
   "cell_type": "code",
   "execution_count": 9,
   "id": "reasonable-prospect",
   "metadata": {
    "execution": {
     "iopub.execute_input": "2021-06-19T07:43:52.727449Z",
     "iopub.status.busy": "2021-06-19T07:43:52.726753Z",
     "iopub.status.idle": "2021-06-19T07:43:52.736834Z",
     "shell.execute_reply": "2021-06-19T07:43:52.736155Z"
    },
    "papermill": {
     "duration": 0.135885,
     "end_time": "2021-06-19T07:43:52.736979",
     "exception": false,
     "start_time": "2021-06-19T07:43:52.601094",
     "status": "completed"
    },
    "tags": []
   },
   "outputs": [],
   "source": [
    "#drop the nullvalues\n",
    "df.dropna(inplace=True)"
   ]
  },
  {
   "cell_type": "code",
   "execution_count": 10,
   "id": "under-psychology",
   "metadata": {
    "execution": {
     "iopub.execute_input": "2021-06-19T07:43:52.971537Z",
     "iopub.status.busy": "2021-06-19T07:43:52.968498Z",
     "iopub.status.idle": "2021-06-19T07:43:52.974943Z",
     "shell.execute_reply": "2021-06-19T07:43:52.975341Z"
    },
    "papermill": {
     "duration": 0.129645,
     "end_time": "2021-06-19T07:43:52.975515",
     "exception": false,
     "start_time": "2021-06-19T07:43:52.845870",
     "status": "completed"
    },
    "tags": []
   },
   "outputs": [
    {
     "data": {
      "text/plain": [
       "Airline            0\n",
       "Date_of_Journey    0\n",
       "Source             0\n",
       "Destination        0\n",
       "Route              0\n",
       "Dep_Time           0\n",
       "Arrival_Time       0\n",
       "Duration           0\n",
       "Total_Stops        0\n",
       "Additional_Info    0\n",
       "Price              0\n",
       "dtype: int64"
      ]
     },
     "execution_count": 10,
     "metadata": {},
     "output_type": "execute_result"
    }
   ],
   "source": [
    "df.isnull().sum()"
   ]
  },
  {
   "cell_type": "markdown",
   "id": "accomplished-stretch",
   "metadata": {
    "papermill": {
     "duration": 0.071324,
     "end_time": "2021-06-19T07:43:53.117814",
     "exception": false,
     "start_time": "2021-06-19T07:43:53.046490",
     "status": "completed"
    },
    "tags": []
   },
   "source": [
    "<a id = '5.5'></a>\n",
    "<p style = \"font-size : 25px; color : 'blue' ; font-family : 'Comic Sans MS'; text-align : center; background-color : #fbc6a4; border-radius: 5px 5px;\"><strong>Data Cleaning</strong></p>"
   ]
  },
  {
   "cell_type": "code",
   "execution_count": 11,
   "id": "medical-murder",
   "metadata": {
    "execution": {
     "iopub.execute_input": "2021-06-19T07:43:53.265254Z",
     "iopub.status.busy": "2021-06-19T07:43:53.264594Z",
     "iopub.status.idle": "2021-06-19T07:43:53.269502Z",
     "shell.execute_reply": "2021-06-19T07:43:53.269047Z"
    },
    "papermill": {
     "duration": 0.080957,
     "end_time": "2021-06-19T07:43:53.269603",
     "exception": false,
     "start_time": "2021-06-19T07:43:53.188646",
     "status": "completed"
    },
    "tags": []
   },
   "outputs": [
    {
     "data": {
      "text/plain": [
       "Airline            object\n",
       "Date_of_Journey    object\n",
       "Source             object\n",
       "Destination        object\n",
       "Route              object\n",
       "Dep_Time           object\n",
       "Arrival_Time       object\n",
       "Duration           object\n",
       "Total_Stops        object\n",
       "Additional_Info    object\n",
       "Price               int64\n",
       "dtype: object"
      ]
     },
     "execution_count": 11,
     "metadata": {},
     "output_type": "execute_result"
    }
   ],
   "source": [
    "df.dtypes # datatypes"
   ]
  },
  {
   "cell_type": "markdown",
   "id": "premier-chile",
   "metadata": {
    "papermill": {
     "duration": 0.071232,
     "end_time": "2021-06-19T07:43:53.413103",
     "exception": false,
     "start_time": "2021-06-19T07:43:53.341871",
     "status": "completed"
    },
    "tags": []
   },
   "source": [
    "#### The datatypes of Date_of_journey,Arrival_Time and Dep_Time is object.So,firstly we convert it into date and time for proper predicion.\n",
    "\n",
    "**dt.day method will extract only day of that date                           \n",
    "dt.month method will extract only month of that date**"
   ]
  },
  {
   "cell_type": "code",
   "execution_count": 12,
   "id": "funny-earth",
   "metadata": {
    "execution": {
     "iopub.execute_input": "2021-06-19T07:43:53.560553Z",
     "iopub.status.busy": "2021-06-19T07:43:53.560079Z",
     "iopub.status.idle": "2021-06-19T07:43:53.563470Z",
     "shell.execute_reply": "2021-06-19T07:43:53.562851Z"
    },
    "papermill": {
     "duration": 0.077539,
     "end_time": "2021-06-19T07:43:53.563611",
     "exception": false,
     "start_time": "2021-06-19T07:43:53.486072",
     "status": "completed"
    },
    "tags": []
   },
   "outputs": [],
   "source": [
    "def change_into_datetime(col):\n",
    "    df[col]=pd.to_datetime(df[col])"
   ]
  },
  {
   "cell_type": "code",
   "execution_count": 13,
   "id": "surprised-portugal",
   "metadata": {
    "execution": {
     "iopub.execute_input": "2021-06-19T07:43:53.782834Z",
     "iopub.status.busy": "2021-06-19T07:43:53.782193Z",
     "iopub.status.idle": "2021-06-19T07:43:53.787568Z",
     "shell.execute_reply": "2021-06-19T07:43:53.788090Z"
    },
    "papermill": {
     "duration": 0.11686,
     "end_time": "2021-06-19T07:43:53.788260",
     "exception": false,
     "start_time": "2021-06-19T07:43:53.671400",
     "status": "completed"
    },
    "tags": []
   },
   "outputs": [
    {
     "data": {
      "text/plain": [
       "Index(['Airline', 'Date_of_Journey', 'Source', 'Destination', 'Route',\n",
       "       'Dep_Time', 'Arrival_Time', 'Duration', 'Total_Stops',\n",
       "       'Additional_Info', 'Price'],\n",
       "      dtype='object')"
      ]
     },
     "execution_count": 13,
     "metadata": {},
     "output_type": "execute_result"
    }
   ],
   "source": [
    "df.columns"
   ]
  },
  {
   "cell_type": "code",
   "execution_count": 14,
   "id": "positive-adjustment",
   "metadata": {
    "execution": {
     "iopub.execute_input": "2021-06-19T07:43:53.934869Z",
     "iopub.status.busy": "2021-06-19T07:43:53.934367Z",
     "iopub.status.idle": "2021-06-19T07:43:54.095300Z",
     "shell.execute_reply": "2021-06-19T07:43:54.094837Z"
    },
    "papermill": {
     "duration": 0.235258,
     "end_time": "2021-06-19T07:43:54.095416",
     "exception": false,
     "start_time": "2021-06-19T07:43:53.860158",
     "status": "completed"
    },
    "tags": []
   },
   "outputs": [],
   "source": [
    "for i in ['Date_of_Journey','Dep_Time', 'Arrival_Time']:\n",
    "    change_into_datetime(i)"
   ]
  },
  {
   "cell_type": "code",
   "execution_count": 15,
   "id": "practical-environment",
   "metadata": {
    "execution": {
     "iopub.execute_input": "2021-06-19T07:43:54.245218Z",
     "iopub.status.busy": "2021-06-19T07:43:54.244400Z",
     "iopub.status.idle": "2021-06-19T07:43:54.248384Z",
     "shell.execute_reply": "2021-06-19T07:43:54.247829Z"
    },
    "papermill": {
     "duration": 0.081067,
     "end_time": "2021-06-19T07:43:54.248516",
     "exception": false,
     "start_time": "2021-06-19T07:43:54.167449",
     "status": "completed"
    },
    "tags": []
   },
   "outputs": [
    {
     "data": {
      "text/plain": [
       "Airline                    object\n",
       "Date_of_Journey    datetime64[ns]\n",
       "Source                     object\n",
       "Destination                object\n",
       "Route                      object\n",
       "Dep_Time           datetime64[ns]\n",
       "Arrival_Time       datetime64[ns]\n",
       "Duration                   object\n",
       "Total_Stops                object\n",
       "Additional_Info            object\n",
       "Price                       int64\n",
       "dtype: object"
      ]
     },
     "execution_count": 15,
     "metadata": {},
     "output_type": "execute_result"
    }
   ],
   "source": [
    "df.dtypes"
   ]
  },
  {
   "cell_type": "markdown",
   "id": "chief-stack",
   "metadata": {
    "papermill": {
     "duration": 0.10922,
     "end_time": "2021-06-19T07:43:54.468607",
     "exception": false,
     "start_time": "2021-06-19T07:43:54.359387",
     "status": "completed"
    },
    "tags": []
   },
   "source": [
    "##### Now ,we extract day and month from Date_of_journey and stored in 2 other columns.\n",
    "##### Then there will be no use of 'Date_of_Journey' column,so we drop it."
   ]
  },
  {
   "cell_type": "code",
   "execution_count": 16,
   "id": "dimensional-trust",
   "metadata": {
    "execution": {
     "iopub.execute_input": "2021-06-19T07:43:54.695944Z",
     "iopub.status.busy": "2021-06-19T07:43:54.695299Z",
     "iopub.status.idle": "2021-06-19T07:43:54.702248Z",
     "shell.execute_reply": "2021-06-19T07:43:54.702615Z"
    },
    "papermill": {
     "duration": 0.122697,
     "end_time": "2021-06-19T07:43:54.702782",
     "exception": false,
     "start_time": "2021-06-19T07:43:54.580085",
     "status": "completed"
    },
    "tags": []
   },
   "outputs": [],
   "source": [
    "df['journey_day']=df['Date_of_Journey'].dt.day\n",
    "df['journey_month']=df['Date_of_Journey'].dt.month\n"
   ]
  },
  {
   "cell_type": "code",
   "execution_count": 17,
   "id": "finished-proportion",
   "metadata": {
    "execution": {
     "iopub.execute_input": "2021-06-19T07:43:54.872838Z",
     "iopub.status.busy": "2021-06-19T07:43:54.872264Z",
     "iopub.status.idle": "2021-06-19T07:43:54.876874Z",
     "shell.execute_reply": "2021-06-19T07:43:54.876292Z"
    },
    "papermill": {
     "duration": 0.101744,
     "end_time": "2021-06-19T07:43:54.877019",
     "exception": false,
     "start_time": "2021-06-19T07:43:54.775275",
     "status": "completed"
    },
    "tags": []
   },
   "outputs": [
    {
     "data": {
      "text/html": [
       "<div>\n",
       "<style scoped>\n",
       "    .dataframe tbody tr th:only-of-type {\n",
       "        vertical-align: middle;\n",
       "    }\n",
       "\n",
       "    .dataframe tbody tr th {\n",
       "        vertical-align: top;\n",
       "    }\n",
       "\n",
       "    .dataframe thead th {\n",
       "        text-align: right;\n",
       "    }\n",
       "</style>\n",
       "<table border=\"1\" class=\"dataframe\">\n",
       "  <thead>\n",
       "    <tr style=\"text-align: right;\">\n",
       "      <th></th>\n",
       "      <th>Airline</th>\n",
       "      <th>Date_of_Journey</th>\n",
       "      <th>Source</th>\n",
       "      <th>Destination</th>\n",
       "      <th>Route</th>\n",
       "      <th>Dep_Time</th>\n",
       "      <th>Arrival_Time</th>\n",
       "      <th>Duration</th>\n",
       "      <th>Total_Stops</th>\n",
       "      <th>Additional_Info</th>\n",
       "      <th>Price</th>\n",
       "      <th>journey_day</th>\n",
       "      <th>journey_month</th>\n",
       "    </tr>\n",
       "  </thead>\n",
       "  <tbody>\n",
       "    <tr>\n",
       "      <th>0</th>\n",
       "      <td>IndiGo</td>\n",
       "      <td>2019-03-24</td>\n",
       "      <td>Banglore</td>\n",
       "      <td>New Delhi</td>\n",
       "      <td>BLR → DEL</td>\n",
       "      <td>2021-06-19 22:20:00</td>\n",
       "      <td>2021-03-22 01:10:00</td>\n",
       "      <td>2h 50m</td>\n",
       "      <td>non-stop</td>\n",
       "      <td>No info</td>\n",
       "      <td>3897</td>\n",
       "      <td>24</td>\n",
       "      <td>3</td>\n",
       "    </tr>\n",
       "    <tr>\n",
       "      <th>1</th>\n",
       "      <td>Air India</td>\n",
       "      <td>2019-01-05</td>\n",
       "      <td>Kolkata</td>\n",
       "      <td>Banglore</td>\n",
       "      <td>CCU → IXR → BBI → BLR</td>\n",
       "      <td>2021-06-19 05:50:00</td>\n",
       "      <td>2021-06-19 13:15:00</td>\n",
       "      <td>7h 25m</td>\n",
       "      <td>2 stops</td>\n",
       "      <td>No info</td>\n",
       "      <td>7662</td>\n",
       "      <td>5</td>\n",
       "      <td>1</td>\n",
       "    </tr>\n",
       "    <tr>\n",
       "      <th>2</th>\n",
       "      <td>Jet Airways</td>\n",
       "      <td>2019-09-06</td>\n",
       "      <td>Delhi</td>\n",
       "      <td>Cochin</td>\n",
       "      <td>DEL → LKO → BOM → COK</td>\n",
       "      <td>2021-06-19 09:25:00</td>\n",
       "      <td>2021-06-10 04:25:00</td>\n",
       "      <td>19h</td>\n",
       "      <td>2 stops</td>\n",
       "      <td>No info</td>\n",
       "      <td>13882</td>\n",
       "      <td>6</td>\n",
       "      <td>9</td>\n",
       "    </tr>\n",
       "    <tr>\n",
       "      <th>3</th>\n",
       "      <td>IndiGo</td>\n",
       "      <td>2019-12-05</td>\n",
       "      <td>Kolkata</td>\n",
       "      <td>Banglore</td>\n",
       "      <td>CCU → NAG → BLR</td>\n",
       "      <td>2021-06-19 18:05:00</td>\n",
       "      <td>2021-06-19 23:30:00</td>\n",
       "      <td>5h 25m</td>\n",
       "      <td>1 stop</td>\n",
       "      <td>No info</td>\n",
       "      <td>6218</td>\n",
       "      <td>5</td>\n",
       "      <td>12</td>\n",
       "    </tr>\n",
       "    <tr>\n",
       "      <th>4</th>\n",
       "      <td>IndiGo</td>\n",
       "      <td>2019-01-03</td>\n",
       "      <td>Banglore</td>\n",
       "      <td>New Delhi</td>\n",
       "      <td>BLR → NAG → DEL</td>\n",
       "      <td>2021-06-19 16:50:00</td>\n",
       "      <td>2021-06-19 21:35:00</td>\n",
       "      <td>4h 45m</td>\n",
       "      <td>1 stop</td>\n",
       "      <td>No info</td>\n",
       "      <td>13302</td>\n",
       "      <td>3</td>\n",
       "      <td>1</td>\n",
       "    </tr>\n",
       "    <tr>\n",
       "      <th>5</th>\n",
       "      <td>SpiceJet</td>\n",
       "      <td>2019-06-24</td>\n",
       "      <td>Kolkata</td>\n",
       "      <td>Banglore</td>\n",
       "      <td>CCU → BLR</td>\n",
       "      <td>2021-06-19 09:00:00</td>\n",
       "      <td>2021-06-19 11:25:00</td>\n",
       "      <td>2h 25m</td>\n",
       "      <td>non-stop</td>\n",
       "      <td>No info</td>\n",
       "      <td>3873</td>\n",
       "      <td>24</td>\n",
       "      <td>6</td>\n",
       "    </tr>\n",
       "    <tr>\n",
       "      <th>6</th>\n",
       "      <td>Jet Airways</td>\n",
       "      <td>2019-12-03</td>\n",
       "      <td>Banglore</td>\n",
       "      <td>New Delhi</td>\n",
       "      <td>BLR → BOM → DEL</td>\n",
       "      <td>2021-06-19 18:55:00</td>\n",
       "      <td>2021-03-13 10:25:00</td>\n",
       "      <td>15h 30m</td>\n",
       "      <td>1 stop</td>\n",
       "      <td>In-flight meal not included</td>\n",
       "      <td>11087</td>\n",
       "      <td>3</td>\n",
       "      <td>12</td>\n",
       "    </tr>\n",
       "    <tr>\n",
       "      <th>7</th>\n",
       "      <td>Jet Airways</td>\n",
       "      <td>2019-01-03</td>\n",
       "      <td>Banglore</td>\n",
       "      <td>New Delhi</td>\n",
       "      <td>BLR → BOM → DEL</td>\n",
       "      <td>2021-06-19 08:00:00</td>\n",
       "      <td>2021-03-02 05:05:00</td>\n",
       "      <td>21h 5m</td>\n",
       "      <td>1 stop</td>\n",
       "      <td>No info</td>\n",
       "      <td>22270</td>\n",
       "      <td>3</td>\n",
       "      <td>1</td>\n",
       "    </tr>\n",
       "    <tr>\n",
       "      <th>8</th>\n",
       "      <td>Jet Airways</td>\n",
       "      <td>2019-12-03</td>\n",
       "      <td>Banglore</td>\n",
       "      <td>New Delhi</td>\n",
       "      <td>BLR → BOM → DEL</td>\n",
       "      <td>2021-06-19 08:55:00</td>\n",
       "      <td>2021-03-13 10:25:00</td>\n",
       "      <td>25h 30m</td>\n",
       "      <td>1 stop</td>\n",
       "      <td>In-flight meal not included</td>\n",
       "      <td>11087</td>\n",
       "      <td>3</td>\n",
       "      <td>12</td>\n",
       "    </tr>\n",
       "    <tr>\n",
       "      <th>9</th>\n",
       "      <td>Multiple carriers</td>\n",
       "      <td>2019-05-27</td>\n",
       "      <td>Delhi</td>\n",
       "      <td>Cochin</td>\n",
       "      <td>DEL → BOM → COK</td>\n",
       "      <td>2021-06-19 11:25:00</td>\n",
       "      <td>2021-06-19 19:15:00</td>\n",
       "      <td>7h 50m</td>\n",
       "      <td>1 stop</td>\n",
       "      <td>No info</td>\n",
       "      <td>8625</td>\n",
       "      <td>27</td>\n",
       "      <td>5</td>\n",
       "    </tr>\n",
       "  </tbody>\n",
       "</table>\n",
       "</div>"
      ],
      "text/plain": [
       "             Airline Date_of_Journey    Source Destination  \\\n",
       "0             IndiGo      2019-03-24  Banglore   New Delhi   \n",
       "1          Air India      2019-01-05   Kolkata    Banglore   \n",
       "2        Jet Airways      2019-09-06     Delhi      Cochin   \n",
       "3             IndiGo      2019-12-05   Kolkata    Banglore   \n",
       "4             IndiGo      2019-01-03  Banglore   New Delhi   \n",
       "5           SpiceJet      2019-06-24   Kolkata    Banglore   \n",
       "6        Jet Airways      2019-12-03  Banglore   New Delhi   \n",
       "7        Jet Airways      2019-01-03  Banglore   New Delhi   \n",
       "8        Jet Airways      2019-12-03  Banglore   New Delhi   \n",
       "9  Multiple carriers      2019-05-27     Delhi      Cochin   \n",
       "\n",
       "                   Route            Dep_Time        Arrival_Time Duration  \\\n",
       "0              BLR → DEL 2021-06-19 22:20:00 2021-03-22 01:10:00   2h 50m   \n",
       "1  CCU → IXR → BBI → BLR 2021-06-19 05:50:00 2021-06-19 13:15:00   7h 25m   \n",
       "2  DEL → LKO → BOM → COK 2021-06-19 09:25:00 2021-06-10 04:25:00      19h   \n",
       "3        CCU → NAG → BLR 2021-06-19 18:05:00 2021-06-19 23:30:00   5h 25m   \n",
       "4        BLR → NAG → DEL 2021-06-19 16:50:00 2021-06-19 21:35:00   4h 45m   \n",
       "5              CCU → BLR 2021-06-19 09:00:00 2021-06-19 11:25:00   2h 25m   \n",
       "6        BLR → BOM → DEL 2021-06-19 18:55:00 2021-03-13 10:25:00  15h 30m   \n",
       "7        BLR → BOM → DEL 2021-06-19 08:00:00 2021-03-02 05:05:00   21h 5m   \n",
       "8        BLR → BOM → DEL 2021-06-19 08:55:00 2021-03-13 10:25:00  25h 30m   \n",
       "9        DEL → BOM → COK 2021-06-19 11:25:00 2021-06-19 19:15:00   7h 50m   \n",
       "\n",
       "  Total_Stops              Additional_Info  Price  journey_day  journey_month  \n",
       "0    non-stop                      No info   3897           24              3  \n",
       "1     2 stops                      No info   7662            5              1  \n",
       "2     2 stops                      No info  13882            6              9  \n",
       "3      1 stop                      No info   6218            5             12  \n",
       "4      1 stop                      No info  13302            3              1  \n",
       "5    non-stop                      No info   3873           24              6  \n",
       "6      1 stop  In-flight meal not included  11087            3             12  \n",
       "7      1 stop                      No info  22270            3              1  \n",
       "8      1 stop  In-flight meal not included  11087            3             12  \n",
       "9      1 stop                      No info   8625           27              5  "
      ]
     },
     "execution_count": 17,
     "metadata": {},
     "output_type": "execute_result"
    }
   ],
   "source": [
    "df.head(10)"
   ]
  },
  {
   "cell_type": "code",
   "execution_count": 18,
   "id": "natural-essence",
   "metadata": {
    "execution": {
     "iopub.execute_input": "2021-06-19T07:43:55.106431Z",
     "iopub.status.busy": "2021-06-19T07:43:55.105947Z",
     "iopub.status.idle": "2021-06-19T07:43:55.110087Z",
     "shell.execute_reply": "2021-06-19T07:43:55.110456Z"
    },
    "papermill": {
     "duration": 0.121843,
     "end_time": "2021-06-19T07:43:55.110601",
     "exception": false,
     "start_time": "2021-06-19T07:43:54.988758",
     "status": "completed"
    },
    "tags": []
   },
   "outputs": [],
   "source": [
    "df.drop('Date_of_Journey', axis=1, inplace=True)"
   ]
  },
  {
   "cell_type": "markdown",
   "id": "starting-utility",
   "metadata": {
    "papermill": {
     "duration": 0.072324,
     "end_time": "2021-06-19T07:43:55.256580",
     "exception": false,
     "start_time": "2021-06-19T07:43:55.184256",
     "status": "completed"
    },
    "tags": []
   },
   "source": [
    "##### From Arrival_time and Dept_time features,we extract hour and minutes and stored in new columns and drop these columns"
   ]
  },
  {
   "cell_type": "code",
   "execution_count": 19,
   "id": "defensive-mineral",
   "metadata": {
    "execution": {
     "iopub.execute_input": "2021-06-19T07:43:55.407138Z",
     "iopub.status.busy": "2021-06-19T07:43:55.406470Z",
     "iopub.status.idle": "2021-06-19T07:43:55.411837Z",
     "shell.execute_reply": "2021-06-19T07:43:55.412205Z"
    },
    "papermill": {
     "duration": 0.082728,
     "end_time": "2021-06-19T07:43:55.412353",
     "exception": false,
     "start_time": "2021-06-19T07:43:55.329625",
     "status": "completed"
    },
    "tags": []
   },
   "outputs": [],
   "source": [
    "# function for extracting hour and minutes\n",
    "def extract_hour(data,col):\n",
    "    data[col+'_hour']=data[col].dt.hour\n",
    "    \n",
    "def extract_min(data,col):\n",
    "    data[col+'_min']=data[col].dt.minute\n",
    "    \n",
    "\n",
    "def drop_col(data,col):\n",
    "    data.drop(col,axis=1,inplace=True)"
   ]
  },
  {
   "cell_type": "code",
   "execution_count": 20,
   "id": "altered-defensive",
   "metadata": {
    "execution": {
     "iopub.execute_input": "2021-06-19T07:43:55.561773Z",
     "iopub.status.busy": "2021-06-19T07:43:55.561088Z",
     "iopub.status.idle": "2021-06-19T07:43:55.571353Z",
     "shell.execute_reply": "2021-06-19T07:43:55.571900Z"
    },
    "papermill": {
     "duration": 0.087243,
     "end_time": "2021-06-19T07:43:55.572088",
     "exception": false,
     "start_time": "2021-06-19T07:43:55.484845",
     "status": "completed"
    },
    "tags": []
   },
   "outputs": [],
   "source": [
    "#call the function\n",
    "# Departure time is when a plane leaves the gate. \n",
    "# Similar to Date_of_Journey we can extract values from Dep_Time\n",
    "extract_hour(df,'Dep_Time')\n",
    "\n",
    "#extracting minutes\n",
    "extract_min(df,'Dep_Time')\n",
    "\n",
    "#drop the column\n",
    "drop_col(df,'Dep_Time')"
   ]
  },
  {
   "cell_type": "code",
   "execution_count": 21,
   "id": "horizontal-range",
   "metadata": {
    "execution": {
     "iopub.execute_input": "2021-06-19T07:43:55.869122Z",
     "iopub.status.busy": "2021-06-19T07:43:55.868215Z",
     "iopub.status.idle": "2021-06-19T07:43:55.879186Z",
     "shell.execute_reply": "2021-06-19T07:43:55.878427Z"
    },
    "papermill": {
     "duration": 0.128394,
     "end_time": "2021-06-19T07:43:55.879324",
     "exception": false,
     "start_time": "2021-06-19T07:43:55.750930",
     "status": "completed"
    },
    "tags": []
   },
   "outputs": [],
   "source": [
    "#extracting hour\n",
    "extract_hour(df,'Arrival_Time')\n",
    "\n",
    "#extracting min\n",
    "extract_min(df,'Arrival_Time')\n",
    "\n",
    "\n",
    "#drop the column\n",
    "drop_col(df,'Arrival_Time')"
   ]
  },
  {
   "cell_type": "code",
   "execution_count": 22,
   "id": "proof-frequency",
   "metadata": {
    "execution": {
     "iopub.execute_input": "2021-06-19T07:43:56.108038Z",
     "iopub.status.busy": "2021-06-19T07:43:56.107427Z",
     "iopub.status.idle": "2021-06-19T07:43:56.126908Z",
     "shell.execute_reply": "2021-06-19T07:43:56.127504Z"
    },
    "papermill": {
     "duration": 0.13504,
     "end_time": "2021-06-19T07:43:56.127661",
     "exception": false,
     "start_time": "2021-06-19T07:43:55.992621",
     "status": "completed"
    },
    "tags": []
   },
   "outputs": [
    {
     "data": {
      "text/html": [
       "<div>\n",
       "<style scoped>\n",
       "    .dataframe tbody tr th:only-of-type {\n",
       "        vertical-align: middle;\n",
       "    }\n",
       "\n",
       "    .dataframe tbody tr th {\n",
       "        vertical-align: top;\n",
       "    }\n",
       "\n",
       "    .dataframe thead th {\n",
       "        text-align: right;\n",
       "    }\n",
       "</style>\n",
       "<table border=\"1\" class=\"dataframe\">\n",
       "  <thead>\n",
       "    <tr style=\"text-align: right;\">\n",
       "      <th></th>\n",
       "      <th>Airline</th>\n",
       "      <th>Source</th>\n",
       "      <th>Destination</th>\n",
       "      <th>Route</th>\n",
       "      <th>Duration</th>\n",
       "      <th>Total_Stops</th>\n",
       "      <th>Additional_Info</th>\n",
       "      <th>Price</th>\n",
       "      <th>journey_day</th>\n",
       "      <th>journey_month</th>\n",
       "      <th>Dep_Time_hour</th>\n",
       "      <th>Dep_Time_min</th>\n",
       "      <th>Arrival_Time_hour</th>\n",
       "      <th>Arrival_Time_min</th>\n",
       "    </tr>\n",
       "  </thead>\n",
       "  <tbody>\n",
       "    <tr>\n",
       "      <th>0</th>\n",
       "      <td>IndiGo</td>\n",
       "      <td>Banglore</td>\n",
       "      <td>New Delhi</td>\n",
       "      <td>BLR → DEL</td>\n",
       "      <td>2h 50m</td>\n",
       "      <td>non-stop</td>\n",
       "      <td>No info</td>\n",
       "      <td>3897</td>\n",
       "      <td>24</td>\n",
       "      <td>3</td>\n",
       "      <td>22</td>\n",
       "      <td>20</td>\n",
       "      <td>1</td>\n",
       "      <td>10</td>\n",
       "    </tr>\n",
       "    <tr>\n",
       "      <th>1</th>\n",
       "      <td>Air India</td>\n",
       "      <td>Kolkata</td>\n",
       "      <td>Banglore</td>\n",
       "      <td>CCU → IXR → BBI → BLR</td>\n",
       "      <td>7h 25m</td>\n",
       "      <td>2 stops</td>\n",
       "      <td>No info</td>\n",
       "      <td>7662</td>\n",
       "      <td>5</td>\n",
       "      <td>1</td>\n",
       "      <td>5</td>\n",
       "      <td>50</td>\n",
       "      <td>13</td>\n",
       "      <td>15</td>\n",
       "    </tr>\n",
       "    <tr>\n",
       "      <th>2</th>\n",
       "      <td>Jet Airways</td>\n",
       "      <td>Delhi</td>\n",
       "      <td>Cochin</td>\n",
       "      <td>DEL → LKO → BOM → COK</td>\n",
       "      <td>19h</td>\n",
       "      <td>2 stops</td>\n",
       "      <td>No info</td>\n",
       "      <td>13882</td>\n",
       "      <td>6</td>\n",
       "      <td>9</td>\n",
       "      <td>9</td>\n",
       "      <td>25</td>\n",
       "      <td>4</td>\n",
       "      <td>25</td>\n",
       "    </tr>\n",
       "    <tr>\n",
       "      <th>3</th>\n",
       "      <td>IndiGo</td>\n",
       "      <td>Kolkata</td>\n",
       "      <td>Banglore</td>\n",
       "      <td>CCU → NAG → BLR</td>\n",
       "      <td>5h 25m</td>\n",
       "      <td>1 stop</td>\n",
       "      <td>No info</td>\n",
       "      <td>6218</td>\n",
       "      <td>5</td>\n",
       "      <td>12</td>\n",
       "      <td>18</td>\n",
       "      <td>5</td>\n",
       "      <td>23</td>\n",
       "      <td>30</td>\n",
       "    </tr>\n",
       "    <tr>\n",
       "      <th>4</th>\n",
       "      <td>IndiGo</td>\n",
       "      <td>Banglore</td>\n",
       "      <td>New Delhi</td>\n",
       "      <td>BLR → NAG → DEL</td>\n",
       "      <td>4h 45m</td>\n",
       "      <td>1 stop</td>\n",
       "      <td>No info</td>\n",
       "      <td>13302</td>\n",
       "      <td>3</td>\n",
       "      <td>1</td>\n",
       "      <td>16</td>\n",
       "      <td>50</td>\n",
       "      <td>21</td>\n",
       "      <td>35</td>\n",
       "    </tr>\n",
       "    <tr>\n",
       "      <th>5</th>\n",
       "      <td>SpiceJet</td>\n",
       "      <td>Kolkata</td>\n",
       "      <td>Banglore</td>\n",
       "      <td>CCU → BLR</td>\n",
       "      <td>2h 25m</td>\n",
       "      <td>non-stop</td>\n",
       "      <td>No info</td>\n",
       "      <td>3873</td>\n",
       "      <td>24</td>\n",
       "      <td>6</td>\n",
       "      <td>9</td>\n",
       "      <td>0</td>\n",
       "      <td>11</td>\n",
       "      <td>25</td>\n",
       "    </tr>\n",
       "    <tr>\n",
       "      <th>6</th>\n",
       "      <td>Jet Airways</td>\n",
       "      <td>Banglore</td>\n",
       "      <td>New Delhi</td>\n",
       "      <td>BLR → BOM → DEL</td>\n",
       "      <td>15h 30m</td>\n",
       "      <td>1 stop</td>\n",
       "      <td>In-flight meal not included</td>\n",
       "      <td>11087</td>\n",
       "      <td>3</td>\n",
       "      <td>12</td>\n",
       "      <td>18</td>\n",
       "      <td>55</td>\n",
       "      <td>10</td>\n",
       "      <td>25</td>\n",
       "    </tr>\n",
       "    <tr>\n",
       "      <th>7</th>\n",
       "      <td>Jet Airways</td>\n",
       "      <td>Banglore</td>\n",
       "      <td>New Delhi</td>\n",
       "      <td>BLR → BOM → DEL</td>\n",
       "      <td>21h 5m</td>\n",
       "      <td>1 stop</td>\n",
       "      <td>No info</td>\n",
       "      <td>22270</td>\n",
       "      <td>3</td>\n",
       "      <td>1</td>\n",
       "      <td>8</td>\n",
       "      <td>0</td>\n",
       "      <td>5</td>\n",
       "      <td>5</td>\n",
       "    </tr>\n",
       "    <tr>\n",
       "      <th>8</th>\n",
       "      <td>Jet Airways</td>\n",
       "      <td>Banglore</td>\n",
       "      <td>New Delhi</td>\n",
       "      <td>BLR → BOM → DEL</td>\n",
       "      <td>25h 30m</td>\n",
       "      <td>1 stop</td>\n",
       "      <td>In-flight meal not included</td>\n",
       "      <td>11087</td>\n",
       "      <td>3</td>\n",
       "      <td>12</td>\n",
       "      <td>8</td>\n",
       "      <td>55</td>\n",
       "      <td>10</td>\n",
       "      <td>25</td>\n",
       "    </tr>\n",
       "    <tr>\n",
       "      <th>9</th>\n",
       "      <td>Multiple carriers</td>\n",
       "      <td>Delhi</td>\n",
       "      <td>Cochin</td>\n",
       "      <td>DEL → BOM → COK</td>\n",
       "      <td>7h 50m</td>\n",
       "      <td>1 stop</td>\n",
       "      <td>No info</td>\n",
       "      <td>8625</td>\n",
       "      <td>27</td>\n",
       "      <td>5</td>\n",
       "      <td>11</td>\n",
       "      <td>25</td>\n",
       "      <td>19</td>\n",
       "      <td>15</td>\n",
       "    </tr>\n",
       "  </tbody>\n",
       "</table>\n",
       "</div>"
      ],
      "text/plain": [
       "             Airline    Source Destination                  Route Duration  \\\n",
       "0             IndiGo  Banglore   New Delhi              BLR → DEL   2h 50m   \n",
       "1          Air India   Kolkata    Banglore  CCU → IXR → BBI → BLR   7h 25m   \n",
       "2        Jet Airways     Delhi      Cochin  DEL → LKO → BOM → COK      19h   \n",
       "3             IndiGo   Kolkata    Banglore        CCU → NAG → BLR   5h 25m   \n",
       "4             IndiGo  Banglore   New Delhi        BLR → NAG → DEL   4h 45m   \n",
       "5           SpiceJet   Kolkata    Banglore              CCU → BLR   2h 25m   \n",
       "6        Jet Airways  Banglore   New Delhi        BLR → BOM → DEL  15h 30m   \n",
       "7        Jet Airways  Banglore   New Delhi        BLR → BOM → DEL   21h 5m   \n",
       "8        Jet Airways  Banglore   New Delhi        BLR → BOM → DEL  25h 30m   \n",
       "9  Multiple carriers     Delhi      Cochin        DEL → BOM → COK   7h 50m   \n",
       "\n",
       "  Total_Stops              Additional_Info  Price  journey_day  journey_month  \\\n",
       "0    non-stop                      No info   3897           24              3   \n",
       "1     2 stops                      No info   7662            5              1   \n",
       "2     2 stops                      No info  13882            6              9   \n",
       "3      1 stop                      No info   6218            5             12   \n",
       "4      1 stop                      No info  13302            3              1   \n",
       "5    non-stop                      No info   3873           24              6   \n",
       "6      1 stop  In-flight meal not included  11087            3             12   \n",
       "7      1 stop                      No info  22270            3              1   \n",
       "8      1 stop  In-flight meal not included  11087            3             12   \n",
       "9      1 stop                      No info   8625           27              5   \n",
       "\n",
       "   Dep_Time_hour  Dep_Time_min  Arrival_Time_hour  Arrival_Time_min  \n",
       "0             22            20                  1                10  \n",
       "1              5            50                 13                15  \n",
       "2              9            25                  4                25  \n",
       "3             18             5                 23                30  \n",
       "4             16            50                 21                35  \n",
       "5              9             0                 11                25  \n",
       "6             18            55                 10                25  \n",
       "7              8             0                  5                 5  \n",
       "8              8            55                 10                25  \n",
       "9             11            25                 19                15  "
      ]
     },
     "execution_count": 22,
     "metadata": {},
     "output_type": "execute_result"
    }
   ],
   "source": [
    "df.head(10)"
   ]
  },
  {
   "cell_type": "markdown",
   "id": "northern-suffering",
   "metadata": {
    "papermill": {
     "duration": 0.112419,
     "end_time": "2021-06-19T07:43:56.351375",
     "exception": false,
     "start_time": "2021-06-19T07:43:56.238956",
     "status": "completed"
    },
    "tags": []
   },
   "source": [
    "##### Lets Apply pre-processing on duration column,Separate Duration hours and minute from duration"
   ]
  },
  {
   "cell_type": "code",
   "execution_count": 23,
   "id": "tracked-centre",
   "metadata": {
    "execution": {
     "iopub.execute_input": "2021-06-19T07:43:56.596642Z",
     "iopub.status.busy": "2021-06-19T07:43:56.596014Z",
     "iopub.status.idle": "2021-06-19T07:43:56.612928Z",
     "shell.execute_reply": "2021-06-19T07:43:56.612289Z"
    },
    "papermill": {
     "duration": 0.137085,
     "end_time": "2021-06-19T07:43:56.613083",
     "exception": false,
     "start_time": "2021-06-19T07:43:56.475998",
     "status": "completed"
    },
    "tags": []
   },
   "outputs": [],
   "source": [
    "duration=list(df['Duration'])\n",
    "for i in range(len(duration)):\n",
    "    if len(duration[i].split(' '))==2:\n",
    "        pass\n",
    "    else:\n",
    "        if 'h' in duration[i]: # Check if duration contains only hour\n",
    "             duration[i]=duration[i] + ' 0m' # Adds 0 minute\n",
    "        else:\n",
    "             duration[i]='0h '+ duration[i]"
   ]
  },
  {
   "cell_type": "code",
   "execution_count": 24,
   "id": "greatest-seminar",
   "metadata": {
    "execution": {
     "iopub.execute_input": "2021-06-19T07:43:56.843270Z",
     "iopub.status.busy": "2021-06-19T07:43:56.842615Z",
     "iopub.status.idle": "2021-06-19T07:43:56.847114Z",
     "shell.execute_reply": "2021-06-19T07:43:56.847647Z"
    },
    "papermill": {
     "duration": 0.121521,
     "end_time": "2021-06-19T07:43:56.847844",
     "exception": false,
     "start_time": "2021-06-19T07:43:56.726323",
     "status": "completed"
    },
    "tags": []
   },
   "outputs": [],
   "source": [
    "df['Duration']=duration"
   ]
  },
  {
   "cell_type": "code",
   "execution_count": 25,
   "id": "typical-raise",
   "metadata": {
    "execution": {
     "iopub.execute_input": "2021-06-19T07:43:57.078372Z",
     "iopub.status.busy": "2021-06-19T07:43:57.077720Z",
     "iopub.status.idle": "2021-06-19T07:43:57.093579Z",
     "shell.execute_reply": "2021-06-19T07:43:57.094111Z"
    },
    "papermill": {
     "duration": 0.13336,
     "end_time": "2021-06-19T07:43:57.094268",
     "exception": false,
     "start_time": "2021-06-19T07:43:56.960908",
     "status": "completed"
    },
    "tags": []
   },
   "outputs": [
    {
     "data": {
      "text/html": [
       "<div>\n",
       "<style scoped>\n",
       "    .dataframe tbody tr th:only-of-type {\n",
       "        vertical-align: middle;\n",
       "    }\n",
       "\n",
       "    .dataframe tbody tr th {\n",
       "        vertical-align: top;\n",
       "    }\n",
       "\n",
       "    .dataframe thead th {\n",
       "        text-align: right;\n",
       "    }\n",
       "</style>\n",
       "<table border=\"1\" class=\"dataframe\">\n",
       "  <thead>\n",
       "    <tr style=\"text-align: right;\">\n",
       "      <th></th>\n",
       "      <th>Airline</th>\n",
       "      <th>Source</th>\n",
       "      <th>Destination</th>\n",
       "      <th>Route</th>\n",
       "      <th>Duration</th>\n",
       "      <th>Total_Stops</th>\n",
       "      <th>Additional_Info</th>\n",
       "      <th>Price</th>\n",
       "      <th>journey_day</th>\n",
       "      <th>journey_month</th>\n",
       "      <th>Dep_Time_hour</th>\n",
       "      <th>Dep_Time_min</th>\n",
       "      <th>Arrival_Time_hour</th>\n",
       "      <th>Arrival_Time_min</th>\n",
       "    </tr>\n",
       "  </thead>\n",
       "  <tbody>\n",
       "    <tr>\n",
       "      <th>0</th>\n",
       "      <td>IndiGo</td>\n",
       "      <td>Banglore</td>\n",
       "      <td>New Delhi</td>\n",
       "      <td>BLR → DEL</td>\n",
       "      <td>2h 50m</td>\n",
       "      <td>non-stop</td>\n",
       "      <td>No info</td>\n",
       "      <td>3897</td>\n",
       "      <td>24</td>\n",
       "      <td>3</td>\n",
       "      <td>22</td>\n",
       "      <td>20</td>\n",
       "      <td>1</td>\n",
       "      <td>10</td>\n",
       "    </tr>\n",
       "    <tr>\n",
       "      <th>1</th>\n",
       "      <td>Air India</td>\n",
       "      <td>Kolkata</td>\n",
       "      <td>Banglore</td>\n",
       "      <td>CCU → IXR → BBI → BLR</td>\n",
       "      <td>7h 25m</td>\n",
       "      <td>2 stops</td>\n",
       "      <td>No info</td>\n",
       "      <td>7662</td>\n",
       "      <td>5</td>\n",
       "      <td>1</td>\n",
       "      <td>5</td>\n",
       "      <td>50</td>\n",
       "      <td>13</td>\n",
       "      <td>15</td>\n",
       "    </tr>\n",
       "    <tr>\n",
       "      <th>2</th>\n",
       "      <td>Jet Airways</td>\n",
       "      <td>Delhi</td>\n",
       "      <td>Cochin</td>\n",
       "      <td>DEL → LKO → BOM → COK</td>\n",
       "      <td>19h 0m</td>\n",
       "      <td>2 stops</td>\n",
       "      <td>No info</td>\n",
       "      <td>13882</td>\n",
       "      <td>6</td>\n",
       "      <td>9</td>\n",
       "      <td>9</td>\n",
       "      <td>25</td>\n",
       "      <td>4</td>\n",
       "      <td>25</td>\n",
       "    </tr>\n",
       "    <tr>\n",
       "      <th>3</th>\n",
       "      <td>IndiGo</td>\n",
       "      <td>Kolkata</td>\n",
       "      <td>Banglore</td>\n",
       "      <td>CCU → NAG → BLR</td>\n",
       "      <td>5h 25m</td>\n",
       "      <td>1 stop</td>\n",
       "      <td>No info</td>\n",
       "      <td>6218</td>\n",
       "      <td>5</td>\n",
       "      <td>12</td>\n",
       "      <td>18</td>\n",
       "      <td>5</td>\n",
       "      <td>23</td>\n",
       "      <td>30</td>\n",
       "    </tr>\n",
       "    <tr>\n",
       "      <th>4</th>\n",
       "      <td>IndiGo</td>\n",
       "      <td>Banglore</td>\n",
       "      <td>New Delhi</td>\n",
       "      <td>BLR → NAG → DEL</td>\n",
       "      <td>4h 45m</td>\n",
       "      <td>1 stop</td>\n",
       "      <td>No info</td>\n",
       "      <td>13302</td>\n",
       "      <td>3</td>\n",
       "      <td>1</td>\n",
       "      <td>16</td>\n",
       "      <td>50</td>\n",
       "      <td>21</td>\n",
       "      <td>35</td>\n",
       "    </tr>\n",
       "  </tbody>\n",
       "</table>\n",
       "</div>"
      ],
      "text/plain": [
       "       Airline    Source Destination                  Route Duration  \\\n",
       "0       IndiGo  Banglore   New Delhi              BLR → DEL   2h 50m   \n",
       "1    Air India   Kolkata    Banglore  CCU → IXR → BBI → BLR   7h 25m   \n",
       "2  Jet Airways     Delhi      Cochin  DEL → LKO → BOM → COK   19h 0m   \n",
       "3       IndiGo   Kolkata    Banglore        CCU → NAG → BLR   5h 25m   \n",
       "4       IndiGo  Banglore   New Delhi        BLR → NAG → DEL   4h 45m   \n",
       "\n",
       "  Total_Stops Additional_Info  Price  journey_day  journey_month  \\\n",
       "0    non-stop         No info   3897           24              3   \n",
       "1     2 stops         No info   7662            5              1   \n",
       "2     2 stops         No info  13882            6              9   \n",
       "3      1 stop         No info   6218            5             12   \n",
       "4      1 stop         No info  13302            3              1   \n",
       "\n",
       "   Dep_Time_hour  Dep_Time_min  Arrival_Time_hour  Arrival_Time_min  \n",
       "0             22            20                  1                10  \n",
       "1              5            50                 13                15  \n",
       "2              9            25                  4                25  \n",
       "3             18             5                 23                30  \n",
       "4             16            50                 21                35  "
      ]
     },
     "execution_count": 25,
     "metadata": {},
     "output_type": "execute_result"
    }
   ],
   "source": [
    "df.head()"
   ]
  },
  {
   "cell_type": "code",
   "execution_count": 26,
   "id": "unable-extent",
   "metadata": {
    "execution": {
     "iopub.execute_input": "2021-06-19T07:43:57.326685Z",
     "iopub.status.busy": "2021-06-19T07:43:57.326031Z",
     "iopub.status.idle": "2021-06-19T07:43:57.331798Z",
     "shell.execute_reply": "2021-06-19T07:43:57.331222Z"
    },
    "papermill": {
     "duration": 0.123135,
     "end_time": "2021-06-19T07:43:57.331948",
     "exception": false,
     "start_time": "2021-06-19T07:43:57.208813",
     "status": "completed"
    },
    "tags": []
   },
   "outputs": [],
   "source": [
    "def hour(x):\n",
    "    return x.split(' ')[0][0:-1]\n",
    "\n",
    "def minutes(x):\n",
    "    return x.split(' ')[1][0:-1]\n",
    "\n"
   ]
  },
  {
   "cell_type": "code",
   "execution_count": 27,
   "id": "continental-rehabilitation",
   "metadata": {
    "execution": {
     "iopub.execute_input": "2021-06-19T07:43:57.577834Z",
     "iopub.status.busy": "2021-06-19T07:43:57.573729Z",
     "iopub.status.idle": "2021-06-19T07:43:57.580889Z",
     "shell.execute_reply": "2021-06-19T07:43:57.580291Z"
    },
    "papermill": {
     "duration": 0.132195,
     "end_time": "2021-06-19T07:43:57.581036",
     "exception": false,
     "start_time": "2021-06-19T07:43:57.448841",
     "status": "completed"
    },
    "tags": []
   },
   "outputs": [],
   "source": [
    "df['dur_hour']=df['Duration'].apply(hour)"
   ]
  },
  {
   "cell_type": "code",
   "execution_count": 28,
   "id": "hazardous-analyst",
   "metadata": {
    "execution": {
     "iopub.execute_input": "2021-06-19T07:43:57.817418Z",
     "iopub.status.busy": "2021-06-19T07:43:57.816784Z",
     "iopub.status.idle": "2021-06-19T07:43:57.820493Z",
     "shell.execute_reply": "2021-06-19T07:43:57.819944Z"
    },
    "papermill": {
     "duration": 0.125874,
     "end_time": "2021-06-19T07:43:57.820641",
     "exception": false,
     "start_time": "2021-06-19T07:43:57.694767",
     "status": "completed"
    },
    "tags": []
   },
   "outputs": [],
   "source": [
    "df['dur_min']=df['Duration'].apply(minutes)"
   ]
  },
  {
   "cell_type": "code",
   "execution_count": 29,
   "id": "global-commons",
   "metadata": {
    "execution": {
     "iopub.execute_input": "2021-06-19T07:43:58.061572Z",
     "iopub.status.busy": "2021-06-19T07:43:58.054153Z",
     "iopub.status.idle": "2021-06-19T07:43:58.067295Z",
     "shell.execute_reply": "2021-06-19T07:43:58.066753Z"
    },
    "papermill": {
     "duration": 0.134256,
     "end_time": "2021-06-19T07:43:58.067448",
     "exception": false,
     "start_time": "2021-06-19T07:43:57.933192",
     "status": "completed"
    },
    "tags": []
   },
   "outputs": [
    {
     "data": {
      "text/html": [
       "<div>\n",
       "<style scoped>\n",
       "    .dataframe tbody tr th:only-of-type {\n",
       "        vertical-align: middle;\n",
       "    }\n",
       "\n",
       "    .dataframe tbody tr th {\n",
       "        vertical-align: top;\n",
       "    }\n",
       "\n",
       "    .dataframe thead th {\n",
       "        text-align: right;\n",
       "    }\n",
       "</style>\n",
       "<table border=\"1\" class=\"dataframe\">\n",
       "  <thead>\n",
       "    <tr style=\"text-align: right;\">\n",
       "      <th></th>\n",
       "      <th>Airline</th>\n",
       "      <th>Source</th>\n",
       "      <th>Destination</th>\n",
       "      <th>Route</th>\n",
       "      <th>Duration</th>\n",
       "      <th>Total_Stops</th>\n",
       "      <th>Additional_Info</th>\n",
       "      <th>Price</th>\n",
       "      <th>journey_day</th>\n",
       "      <th>journey_month</th>\n",
       "      <th>Dep_Time_hour</th>\n",
       "      <th>Dep_Time_min</th>\n",
       "      <th>Arrival_Time_hour</th>\n",
       "      <th>Arrival_Time_min</th>\n",
       "      <th>dur_hour</th>\n",
       "      <th>dur_min</th>\n",
       "    </tr>\n",
       "  </thead>\n",
       "  <tbody>\n",
       "    <tr>\n",
       "      <th>0</th>\n",
       "      <td>IndiGo</td>\n",
       "      <td>Banglore</td>\n",
       "      <td>New Delhi</td>\n",
       "      <td>BLR → DEL</td>\n",
       "      <td>2h 50m</td>\n",
       "      <td>non-stop</td>\n",
       "      <td>No info</td>\n",
       "      <td>3897</td>\n",
       "      <td>24</td>\n",
       "      <td>3</td>\n",
       "      <td>22</td>\n",
       "      <td>20</td>\n",
       "      <td>1</td>\n",
       "      <td>10</td>\n",
       "      <td>2</td>\n",
       "      <td>50</td>\n",
       "    </tr>\n",
       "    <tr>\n",
       "      <th>1</th>\n",
       "      <td>Air India</td>\n",
       "      <td>Kolkata</td>\n",
       "      <td>Banglore</td>\n",
       "      <td>CCU → IXR → BBI → BLR</td>\n",
       "      <td>7h 25m</td>\n",
       "      <td>2 stops</td>\n",
       "      <td>No info</td>\n",
       "      <td>7662</td>\n",
       "      <td>5</td>\n",
       "      <td>1</td>\n",
       "      <td>5</td>\n",
       "      <td>50</td>\n",
       "      <td>13</td>\n",
       "      <td>15</td>\n",
       "      <td>7</td>\n",
       "      <td>25</td>\n",
       "    </tr>\n",
       "    <tr>\n",
       "      <th>2</th>\n",
       "      <td>Jet Airways</td>\n",
       "      <td>Delhi</td>\n",
       "      <td>Cochin</td>\n",
       "      <td>DEL → LKO → BOM → COK</td>\n",
       "      <td>19h 0m</td>\n",
       "      <td>2 stops</td>\n",
       "      <td>No info</td>\n",
       "      <td>13882</td>\n",
       "      <td>6</td>\n",
       "      <td>9</td>\n",
       "      <td>9</td>\n",
       "      <td>25</td>\n",
       "      <td>4</td>\n",
       "      <td>25</td>\n",
       "      <td>19</td>\n",
       "      <td>0</td>\n",
       "    </tr>\n",
       "    <tr>\n",
       "      <th>3</th>\n",
       "      <td>IndiGo</td>\n",
       "      <td>Kolkata</td>\n",
       "      <td>Banglore</td>\n",
       "      <td>CCU → NAG → BLR</td>\n",
       "      <td>5h 25m</td>\n",
       "      <td>1 stop</td>\n",
       "      <td>No info</td>\n",
       "      <td>6218</td>\n",
       "      <td>5</td>\n",
       "      <td>12</td>\n",
       "      <td>18</td>\n",
       "      <td>5</td>\n",
       "      <td>23</td>\n",
       "      <td>30</td>\n",
       "      <td>5</td>\n",
       "      <td>25</td>\n",
       "    </tr>\n",
       "    <tr>\n",
       "      <th>4</th>\n",
       "      <td>IndiGo</td>\n",
       "      <td>Banglore</td>\n",
       "      <td>New Delhi</td>\n",
       "      <td>BLR → NAG → DEL</td>\n",
       "      <td>4h 45m</td>\n",
       "      <td>1 stop</td>\n",
       "      <td>No info</td>\n",
       "      <td>13302</td>\n",
       "      <td>3</td>\n",
       "      <td>1</td>\n",
       "      <td>16</td>\n",
       "      <td>50</td>\n",
       "      <td>21</td>\n",
       "      <td>35</td>\n",
       "      <td>4</td>\n",
       "      <td>45</td>\n",
       "    </tr>\n",
       "    <tr>\n",
       "      <th>5</th>\n",
       "      <td>SpiceJet</td>\n",
       "      <td>Kolkata</td>\n",
       "      <td>Banglore</td>\n",
       "      <td>CCU → BLR</td>\n",
       "      <td>2h 25m</td>\n",
       "      <td>non-stop</td>\n",
       "      <td>No info</td>\n",
       "      <td>3873</td>\n",
       "      <td>24</td>\n",
       "      <td>6</td>\n",
       "      <td>9</td>\n",
       "      <td>0</td>\n",
       "      <td>11</td>\n",
       "      <td>25</td>\n",
       "      <td>2</td>\n",
       "      <td>25</td>\n",
       "    </tr>\n",
       "    <tr>\n",
       "      <th>6</th>\n",
       "      <td>Jet Airways</td>\n",
       "      <td>Banglore</td>\n",
       "      <td>New Delhi</td>\n",
       "      <td>BLR → BOM → DEL</td>\n",
       "      <td>15h 30m</td>\n",
       "      <td>1 stop</td>\n",
       "      <td>In-flight meal not included</td>\n",
       "      <td>11087</td>\n",
       "      <td>3</td>\n",
       "      <td>12</td>\n",
       "      <td>18</td>\n",
       "      <td>55</td>\n",
       "      <td>10</td>\n",
       "      <td>25</td>\n",
       "      <td>15</td>\n",
       "      <td>30</td>\n",
       "    </tr>\n",
       "    <tr>\n",
       "      <th>7</th>\n",
       "      <td>Jet Airways</td>\n",
       "      <td>Banglore</td>\n",
       "      <td>New Delhi</td>\n",
       "      <td>BLR → BOM → DEL</td>\n",
       "      <td>21h 5m</td>\n",
       "      <td>1 stop</td>\n",
       "      <td>No info</td>\n",
       "      <td>22270</td>\n",
       "      <td>3</td>\n",
       "      <td>1</td>\n",
       "      <td>8</td>\n",
       "      <td>0</td>\n",
       "      <td>5</td>\n",
       "      <td>5</td>\n",
       "      <td>21</td>\n",
       "      <td>5</td>\n",
       "    </tr>\n",
       "    <tr>\n",
       "      <th>8</th>\n",
       "      <td>Jet Airways</td>\n",
       "      <td>Banglore</td>\n",
       "      <td>New Delhi</td>\n",
       "      <td>BLR → BOM → DEL</td>\n",
       "      <td>25h 30m</td>\n",
       "      <td>1 stop</td>\n",
       "      <td>In-flight meal not included</td>\n",
       "      <td>11087</td>\n",
       "      <td>3</td>\n",
       "      <td>12</td>\n",
       "      <td>8</td>\n",
       "      <td>55</td>\n",
       "      <td>10</td>\n",
       "      <td>25</td>\n",
       "      <td>25</td>\n",
       "      <td>30</td>\n",
       "    </tr>\n",
       "    <tr>\n",
       "      <th>9</th>\n",
       "      <td>Multiple carriers</td>\n",
       "      <td>Delhi</td>\n",
       "      <td>Cochin</td>\n",
       "      <td>DEL → BOM → COK</td>\n",
       "      <td>7h 50m</td>\n",
       "      <td>1 stop</td>\n",
       "      <td>No info</td>\n",
       "      <td>8625</td>\n",
       "      <td>27</td>\n",
       "      <td>5</td>\n",
       "      <td>11</td>\n",
       "      <td>25</td>\n",
       "      <td>19</td>\n",
       "      <td>15</td>\n",
       "      <td>7</td>\n",
       "      <td>50</td>\n",
       "    </tr>\n",
       "  </tbody>\n",
       "</table>\n",
       "</div>"
      ],
      "text/plain": [
       "             Airline    Source Destination                  Route Duration  \\\n",
       "0             IndiGo  Banglore   New Delhi              BLR → DEL   2h 50m   \n",
       "1          Air India   Kolkata    Banglore  CCU → IXR → BBI → BLR   7h 25m   \n",
       "2        Jet Airways     Delhi      Cochin  DEL → LKO → BOM → COK   19h 0m   \n",
       "3             IndiGo   Kolkata    Banglore        CCU → NAG → BLR   5h 25m   \n",
       "4             IndiGo  Banglore   New Delhi        BLR → NAG → DEL   4h 45m   \n",
       "5           SpiceJet   Kolkata    Banglore              CCU → BLR   2h 25m   \n",
       "6        Jet Airways  Banglore   New Delhi        BLR → BOM → DEL  15h 30m   \n",
       "7        Jet Airways  Banglore   New Delhi        BLR → BOM → DEL   21h 5m   \n",
       "8        Jet Airways  Banglore   New Delhi        BLR → BOM → DEL  25h 30m   \n",
       "9  Multiple carriers     Delhi      Cochin        DEL → BOM → COK   7h 50m   \n",
       "\n",
       "  Total_Stops              Additional_Info  Price  journey_day  journey_month  \\\n",
       "0    non-stop                      No info   3897           24              3   \n",
       "1     2 stops                      No info   7662            5              1   \n",
       "2     2 stops                      No info  13882            6              9   \n",
       "3      1 stop                      No info   6218            5             12   \n",
       "4      1 stop                      No info  13302            3              1   \n",
       "5    non-stop                      No info   3873           24              6   \n",
       "6      1 stop  In-flight meal not included  11087            3             12   \n",
       "7      1 stop                      No info  22270            3              1   \n",
       "8      1 stop  In-flight meal not included  11087            3             12   \n",
       "9      1 stop                      No info   8625           27              5   \n",
       "\n",
       "   Dep_Time_hour  Dep_Time_min  Arrival_Time_hour  Arrival_Time_min dur_hour  \\\n",
       "0             22            20                  1                10        2   \n",
       "1              5            50                 13                15        7   \n",
       "2              9            25                  4                25       19   \n",
       "3             18             5                 23                30        5   \n",
       "4             16            50                 21                35        4   \n",
       "5              9             0                 11                25        2   \n",
       "6             18            55                 10                25       15   \n",
       "7              8             0                  5                 5       21   \n",
       "8              8            55                 10                25       25   \n",
       "9             11            25                 19                15        7   \n",
       "\n",
       "  dur_min  \n",
       "0      50  \n",
       "1      25  \n",
       "2       0  \n",
       "3      25  \n",
       "4      45  \n",
       "5      25  \n",
       "6      30  \n",
       "7       5  \n",
       "8      30  \n",
       "9      50  "
      ]
     },
     "execution_count": 29,
     "metadata": {},
     "output_type": "execute_result"
    }
   ],
   "source": [
    "df.head(10)"
   ]
  },
  {
   "cell_type": "code",
   "execution_count": 30,
   "id": "fantastic-former",
   "metadata": {
    "execution": {
     "iopub.execute_input": "2021-06-19T07:43:58.304070Z",
     "iopub.status.busy": "2021-06-19T07:43:58.303408Z",
     "iopub.status.idle": "2021-06-19T07:43:58.310863Z",
     "shell.execute_reply": "2021-06-19T07:43:58.311405Z"
    },
    "papermill": {
     "duration": 0.126816,
     "end_time": "2021-06-19T07:43:58.311575",
     "exception": false,
     "start_time": "2021-06-19T07:43:58.184759",
     "status": "completed"
    },
    "tags": []
   },
   "outputs": [],
   "source": [
    "drop_col(df,'Duration')"
   ]
  },
  {
   "cell_type": "code",
   "execution_count": 31,
   "id": "acknowledged-consent",
   "metadata": {
    "execution": {
     "iopub.execute_input": "2021-06-19T07:43:58.544140Z",
     "iopub.status.busy": "2021-06-19T07:43:58.543573Z",
     "iopub.status.idle": "2021-06-19T07:43:58.549691Z",
     "shell.execute_reply": "2021-06-19T07:43:58.550251Z"
    },
    "papermill": {
     "duration": 0.120167,
     "end_time": "2021-06-19T07:43:58.550399",
     "exception": false,
     "start_time": "2021-06-19T07:43:58.430232",
     "status": "completed"
    },
    "tags": []
   },
   "outputs": [
    {
     "data": {
      "text/plain": [
       "Airline              object\n",
       "Source               object\n",
       "Destination          object\n",
       "Route                object\n",
       "Total_Stops          object\n",
       "Additional_Info      object\n",
       "Price                 int64\n",
       "journey_day           int64\n",
       "journey_month         int64\n",
       "Dep_Time_hour         int64\n",
       "Dep_Time_min          int64\n",
       "Arrival_Time_hour     int64\n",
       "Arrival_Time_min      int64\n",
       "dur_hour             object\n",
       "dur_min              object\n",
       "dtype: object"
      ]
     },
     "execution_count": 31,
     "metadata": {},
     "output_type": "execute_result"
    }
   ],
   "source": [
    "df.dtypes"
   ]
  },
  {
   "cell_type": "code",
   "execution_count": 32,
   "id": "coordinate-calculator",
   "metadata": {
    "execution": {
     "iopub.execute_input": "2021-06-19T07:43:58.783430Z",
     "iopub.status.busy": "2021-06-19T07:43:58.782796Z",
     "iopub.status.idle": "2021-06-19T07:43:58.790894Z",
     "shell.execute_reply": "2021-06-19T07:43:58.791440Z"
    },
    "papermill": {
     "duration": 0.126322,
     "end_time": "2021-06-19T07:43:58.791606",
     "exception": false,
     "start_time": "2021-06-19T07:43:58.665284",
     "status": "completed"
    },
    "tags": []
   },
   "outputs": [],
   "source": [
    "df['dur_hour'] = df['dur_hour'].astype(int)\n",
    "df['dur_min'] = df['dur_min'].astype(int)"
   ]
  },
  {
   "cell_type": "code",
   "execution_count": 33,
   "id": "exciting-computer",
   "metadata": {
    "execution": {
     "iopub.execute_input": "2021-06-19T07:43:59.027863Z",
     "iopub.status.busy": "2021-06-19T07:43:59.026990Z",
     "iopub.status.idle": "2021-06-19T07:43:59.030456Z",
     "shell.execute_reply": "2021-06-19T07:43:59.031034Z"
    },
    "papermill": {
     "duration": 0.124279,
     "end_time": "2021-06-19T07:43:59.031208",
     "exception": false,
     "start_time": "2021-06-19T07:43:58.906929",
     "status": "completed"
    },
    "tags": []
   },
   "outputs": [
    {
     "data": {
      "text/plain": [
       "Airline              object\n",
       "Source               object\n",
       "Destination          object\n",
       "Route                object\n",
       "Total_Stops          object\n",
       "Additional_Info      object\n",
       "Price                 int64\n",
       "journey_day           int64\n",
       "journey_month         int64\n",
       "Dep_Time_hour         int64\n",
       "Dep_Time_min          int64\n",
       "Arrival_Time_hour     int64\n",
       "Arrival_Time_min      int64\n",
       "dur_hour              int64\n",
       "dur_min               int64\n",
       "dtype: object"
      ]
     },
     "execution_count": 33,
     "metadata": {},
     "output_type": "execute_result"
    }
   ],
   "source": [
    "df.dtypes"
   ]
  },
  {
   "cell_type": "markdown",
   "id": "differential-commerce",
   "metadata": {
    "papermill": {
     "duration": 0.116322,
     "end_time": "2021-06-19T07:43:59.265070",
     "exception": false,
     "start_time": "2021-06-19T07:43:59.148748",
     "status": "completed"
    },
    "tags": []
   },
   "source": [
    "#### Finding the categorical value"
   ]
  },
  {
   "cell_type": "code",
   "execution_count": 34,
   "id": "varied-lounge",
   "metadata": {
    "execution": {
     "iopub.execute_input": "2021-06-19T07:43:59.505341Z",
     "iopub.status.busy": "2021-06-19T07:43:59.504825Z",
     "iopub.status.idle": "2021-06-19T07:43:59.508446Z",
     "shell.execute_reply": "2021-06-19T07:43:59.508872Z"
    },
    "papermill": {
     "duration": 0.127017,
     "end_time": "2021-06-19T07:43:59.509023",
     "exception": false,
     "start_time": "2021-06-19T07:43:59.382006",
     "status": "completed"
    },
    "tags": []
   },
   "outputs": [
    {
     "data": {
      "text/plain": [
       "['Airline', 'Source', 'Destination', 'Route', 'Total_Stops', 'Additional_Info']"
      ]
     },
     "execution_count": 34,
     "metadata": {},
     "output_type": "execute_result"
    }
   ],
   "source": [
    "column=[column for column in df.columns if df[column].dtype=='object']\n",
    "column"
   ]
  },
  {
   "cell_type": "markdown",
   "id": "future-western",
   "metadata": {
    "papermill": {
     "duration": 0.075395,
     "end_time": "2021-06-19T07:43:59.660154",
     "exception": false,
     "start_time": "2021-06-19T07:43:59.584759",
     "status": "completed"
    },
    "tags": []
   },
   "source": [
    "#### Finding the cntinuous value"
   ]
  },
  {
   "cell_type": "code",
   "execution_count": 35,
   "id": "strange-accountability",
   "metadata": {
    "execution": {
     "iopub.execute_input": "2021-06-19T07:43:59.816305Z",
     "iopub.status.busy": "2021-06-19T07:43:59.815819Z",
     "iopub.status.idle": "2021-06-19T07:43:59.820283Z",
     "shell.execute_reply": "2021-06-19T07:43:59.819719Z"
    },
    "papermill": {
     "duration": 0.084737,
     "end_time": "2021-06-19T07:43:59.820398",
     "exception": false,
     "start_time": "2021-06-19T07:43:59.735661",
     "status": "completed"
    },
    "tags": []
   },
   "outputs": [
    {
     "data": {
      "text/plain": [
       "['Price',\n",
       " 'journey_day',\n",
       " 'journey_month',\n",
       " 'Dep_Time_hour',\n",
       " 'Dep_Time_min',\n",
       " 'Arrival_Time_hour',\n",
       " 'Arrival_Time_min',\n",
       " 'dur_hour',\n",
       " 'dur_min']"
      ]
     },
     "execution_count": 35,
     "metadata": {},
     "output_type": "execute_result"
    }
   ],
   "source": [
    "continuous_col =[column for column in df.columns if df[column].dtype!='object']\n",
    "continuous_col"
   ]
  },
  {
   "cell_type": "markdown",
   "id": "stupid-schedule",
   "metadata": {
    "papermill": {
     "duration": 0.114999,
     "end_time": "2021-06-19T07:44:00.049399",
     "exception": false,
     "start_time": "2021-06-19T07:43:59.934400",
     "status": "completed"
    },
    "tags": []
   },
   "source": [
    "# Handling categorical data\n",
    "\n"
   ]
  },
  {
   "cell_type": "markdown",
   "id": "blank-praise",
   "metadata": {
    "papermill": {
     "duration": 0.115465,
     "end_time": "2021-06-19T07:44:00.279412",
     "exception": false,
     "start_time": "2021-06-19T07:44:00.163947",
     "status": "completed"
    },
    "tags": []
   },
   "source": [
    "\n",
    "### We are using two main Encoding Techniques to covert Categorical data into some numerical format\n",
    "\n",
    "#### Nominal data -- Data that are not in any order -->one hot encoding\n",
    "#### ordinal data -- Data are in order --> labelEncoder"
   ]
  },
  {
   "cell_type": "code",
   "execution_count": 36,
   "id": "antique-iraqi",
   "metadata": {
    "execution": {
     "iopub.execute_input": "2021-06-19T07:44:00.511958Z",
     "iopub.status.busy": "2021-06-19T07:44:00.511365Z",
     "iopub.status.idle": "2021-06-19T07:44:00.517931Z",
     "shell.execute_reply": "2021-06-19T07:44:00.518464Z"
    },
    "papermill": {
     "duration": 0.123911,
     "end_time": "2021-06-19T07:44:00.518649",
     "exception": false,
     "start_time": "2021-06-19T07:44:00.394738",
     "status": "completed"
    },
    "tags": []
   },
   "outputs": [],
   "source": [
    "categorical = df[column]"
   ]
  },
  {
   "cell_type": "code",
   "execution_count": 37,
   "id": "weekly-poultry",
   "metadata": {
    "execution": {
     "iopub.execute_input": "2021-06-19T07:44:00.758464Z",
     "iopub.status.busy": "2021-06-19T07:44:00.757814Z",
     "iopub.status.idle": "2021-06-19T07:44:00.770323Z",
     "shell.execute_reply": "2021-06-19T07:44:00.770983Z"
    },
    "papermill": {
     "duration": 0.134122,
     "end_time": "2021-06-19T07:44:00.771146",
     "exception": false,
     "start_time": "2021-06-19T07:44:00.637024",
     "status": "completed"
    },
    "tags": []
   },
   "outputs": [
    {
     "data": {
      "text/html": [
       "<div>\n",
       "<style scoped>\n",
       "    .dataframe tbody tr th:only-of-type {\n",
       "        vertical-align: middle;\n",
       "    }\n",
       "\n",
       "    .dataframe tbody tr th {\n",
       "        vertical-align: top;\n",
       "    }\n",
       "\n",
       "    .dataframe thead th {\n",
       "        text-align: right;\n",
       "    }\n",
       "</style>\n",
       "<table border=\"1\" class=\"dataframe\">\n",
       "  <thead>\n",
       "    <tr style=\"text-align: right;\">\n",
       "      <th></th>\n",
       "      <th>Airline</th>\n",
       "      <th>Source</th>\n",
       "      <th>Destination</th>\n",
       "      <th>Route</th>\n",
       "      <th>Total_Stops</th>\n",
       "      <th>Additional_Info</th>\n",
       "    </tr>\n",
       "  </thead>\n",
       "  <tbody>\n",
       "    <tr>\n",
       "      <th>0</th>\n",
       "      <td>IndiGo</td>\n",
       "      <td>Banglore</td>\n",
       "      <td>New Delhi</td>\n",
       "      <td>BLR → DEL</td>\n",
       "      <td>non-stop</td>\n",
       "      <td>No info</td>\n",
       "    </tr>\n",
       "    <tr>\n",
       "      <th>1</th>\n",
       "      <td>Air India</td>\n",
       "      <td>Kolkata</td>\n",
       "      <td>Banglore</td>\n",
       "      <td>CCU → IXR → BBI → BLR</td>\n",
       "      <td>2 stops</td>\n",
       "      <td>No info</td>\n",
       "    </tr>\n",
       "    <tr>\n",
       "      <th>2</th>\n",
       "      <td>Jet Airways</td>\n",
       "      <td>Delhi</td>\n",
       "      <td>Cochin</td>\n",
       "      <td>DEL → LKO → BOM → COK</td>\n",
       "      <td>2 stops</td>\n",
       "      <td>No info</td>\n",
       "    </tr>\n",
       "    <tr>\n",
       "      <th>3</th>\n",
       "      <td>IndiGo</td>\n",
       "      <td>Kolkata</td>\n",
       "      <td>Banglore</td>\n",
       "      <td>CCU → NAG → BLR</td>\n",
       "      <td>1 stop</td>\n",
       "      <td>No info</td>\n",
       "    </tr>\n",
       "    <tr>\n",
       "      <th>4</th>\n",
       "      <td>IndiGo</td>\n",
       "      <td>Banglore</td>\n",
       "      <td>New Delhi</td>\n",
       "      <td>BLR → NAG → DEL</td>\n",
       "      <td>1 stop</td>\n",
       "      <td>No info</td>\n",
       "    </tr>\n",
       "  </tbody>\n",
       "</table>\n",
       "</div>"
      ],
      "text/plain": [
       "       Airline    Source Destination                  Route Total_Stops  \\\n",
       "0       IndiGo  Banglore   New Delhi              BLR → DEL    non-stop   \n",
       "1    Air India   Kolkata    Banglore  CCU → IXR → BBI → BLR     2 stops   \n",
       "2  Jet Airways     Delhi      Cochin  DEL → LKO → BOM → COK     2 stops   \n",
       "3       IndiGo   Kolkata    Banglore        CCU → NAG → BLR      1 stop   \n",
       "4       IndiGo  Banglore   New Delhi        BLR → NAG → DEL      1 stop   \n",
       "\n",
       "  Additional_Info  \n",
       "0         No info  \n",
       "1         No info  \n",
       "2         No info  \n",
       "3         No info  \n",
       "4         No info  "
      ]
     },
     "execution_count": 37,
     "metadata": {},
     "output_type": "execute_result"
    }
   ],
   "source": [
    "categorical.head()"
   ]
  },
  {
   "cell_type": "code",
   "execution_count": 38,
   "id": "aboriginal-flexibility",
   "metadata": {
    "execution": {
     "iopub.execute_input": "2021-06-19T07:44:01.005773Z",
     "iopub.status.busy": "2021-06-19T07:44:01.004951Z",
     "iopub.status.idle": "2021-06-19T07:44:01.016728Z",
     "shell.execute_reply": "2021-06-19T07:44:01.016301Z"
    },
    "papermill": {
     "duration": 0.130308,
     "end_time": "2021-06-19T07:44:01.016841",
     "exception": false,
     "start_time": "2021-06-19T07:44:00.886533",
     "status": "completed"
    },
    "tags": []
   },
   "outputs": [
    {
     "data": {
      "text/plain": [
       "Jet Airways                          3849\n",
       "IndiGo                               2053\n",
       "Air India                            1751\n",
       "Multiple carriers                    1196\n",
       "SpiceJet                              818\n",
       "Vistara                               479\n",
       "Air Asia                              319\n",
       "GoAir                                 194\n",
       "Multiple carriers Premium economy      13\n",
       "Jet Airways Business                    6\n",
       "Vistara Premium economy                 3\n",
       "Trujet                                  1\n",
       "Name: Airline, dtype: int64"
      ]
     },
     "execution_count": 38,
     "metadata": {},
     "output_type": "execute_result"
    }
   ],
   "source": [
    "categorical['Airline'].value_counts()"
   ]
  },
  {
   "cell_type": "markdown",
   "id": "fresh-leader",
   "metadata": {
    "papermill": {
     "duration": 0.07543,
     "end_time": "2021-06-19T07:44:01.168066",
     "exception": false,
     "start_time": "2021-06-19T07:44:01.092636",
     "status": "completed"
    },
    "tags": []
   },
   "source": [
    "## Airline vs Price Analysis"
   ]
  },
  {
   "cell_type": "code",
   "execution_count": 39,
   "id": "changed-poker",
   "metadata": {
    "execution": {
     "iopub.execute_input": "2021-06-19T07:44:01.324741Z",
     "iopub.status.busy": "2021-06-19T07:44:01.324271Z",
     "iopub.status.idle": "2021-06-19T07:44:01.724045Z",
     "shell.execute_reply": "2021-06-19T07:44:01.724485Z"
    },
    "papermill": {
     "duration": 0.481511,
     "end_time": "2021-06-19T07:44:01.724612",
     "exception": false,
     "start_time": "2021-06-19T07:44:01.243101",
     "status": "completed"
    },
    "tags": []
   },
   "outputs": [
    {
     "data": {
      "text/plain": [
       "<AxesSubplot:xlabel='Airline', ylabel='Price'>"
      ]
     },
     "execution_count": 39,
     "metadata": {},
     "output_type": "execute_result"
    },
    {
     "data": {
      "image/png": "[encoded data removed]",
      "text/plain": [
       "<Figure size 1080x576 with 1 Axes>"
      ]
     },
     "metadata": {
      "needs_background": "light"
     },
     "output_type": "display_data"
    }
   ],
   "source": [
    "plt.figure(figsize=(15,8))\n",
    "sns.boxplot(x='Airline',y='Price',data=df.sort_values('Price',ascending=False))"
   ]
  },
  {
   "cell_type": "markdown",
   "id": "least-packet",
   "metadata": {
    "papermill": {
     "duration": 0.077717,
     "end_time": "2021-06-19T07:44:01.879461",
     "exception": false,
     "start_time": "2021-06-19T07:44:01.801744",
     "status": "completed"
    },
    "tags": []
   },
   "source": [
    "\n",
    "### From graph we can see that Jet Airways Business have the highest Price., Apart from the first Airline almost all are having similar median"
   ]
  },
  {
   "cell_type": "markdown",
   "id": "hybrid-bishop",
   "metadata": {
    "papermill": {
     "duration": 0.079116,
     "end_time": "2021-06-19T07:44:02.036498",
     "exception": false,
     "start_time": "2021-06-19T07:44:01.957382",
     "status": "completed"
    },
    "tags": []
   },
   "source": [
    "#### Perform Total_Stops vs Price Analysis"
   ]
  },
  {
   "cell_type": "code",
   "execution_count": 40,
   "id": "public-nevada",
   "metadata": {
    "execution": {
     "iopub.execute_input": "2021-06-19T07:44:02.203219Z",
     "iopub.status.busy": "2021-06-19T07:44:02.202280Z",
     "iopub.status.idle": "2021-06-19T07:44:02.409941Z",
     "shell.execute_reply": "2021-06-19T07:44:02.410553Z"
    },
    "papermill": {
     "duration": 0.294116,
     "end_time": "2021-06-19T07:44:02.410776",
     "exception": false,
     "start_time": "2021-06-19T07:44:02.116660",
     "status": "completed"
    },
    "tags": []
   },
   "outputs": [
    {
     "data": {
      "text/plain": [
       "<AxesSubplot:xlabel='Total_Stops', ylabel='Price'>"
      ]
     },
     "execution_count": 40,
     "metadata": {},
     "output_type": "execute_result"
    },
    {
     "data": {
      "image/png": "[encoded data removed]",
      "text/plain": [
       "<Figure size 1080x576 with 1 Axes>"
      ]
     },
     "metadata": {
      "needs_background": "light"
     },
     "output_type": "display_data"
    }
   ],
   "source": [
    "plt.figure(figsize=(15,8))\n",
    "sns.boxplot(x='Total_Stops',y='Price',data=df.sort_values('Price',ascending=False))"
   ]
  },
  {
   "cell_type": "code",
   "execution_count": 41,
   "id": "hispanic-thumb",
   "metadata": {
    "execution": {
     "iopub.execute_input": "2021-06-19T07:44:02.662375Z",
     "iopub.status.busy": "2021-06-19T07:44:02.661744Z",
     "iopub.status.idle": "2021-06-19T07:44:02.667560Z",
     "shell.execute_reply": "2021-06-19T07:44:02.667058Z"
    },
    "papermill": {
     "duration": 0.13302,
     "end_time": "2021-06-19T07:44:02.667686",
     "exception": false,
     "start_time": "2021-06-19T07:44:02.534666",
     "status": "completed"
    },
    "tags": []
   },
   "outputs": [],
   "source": [
    "# As Airline is Nominal Categorical data we will perform OneHotEncoding\n",
    "Airline=pd.get_dummies(categorical['Airline'],drop_first=True)"
   ]
  },
  {
   "cell_type": "code",
   "execution_count": 42,
   "id": "upper-press",
   "metadata": {
    "execution": {
     "iopub.execute_input": "2021-06-19T07:44:02.924584Z",
     "iopub.status.busy": "2021-06-19T07:44:02.923845Z",
     "iopub.status.idle": "2021-06-19T07:44:02.929620Z",
     "shell.execute_reply": "2021-06-19T07:44:02.928953Z"
    },
    "papermill": {
     "duration": 0.140377,
     "end_time": "2021-06-19T07:44:02.929788",
     "exception": false,
     "start_time": "2021-06-19T07:44:02.789411",
     "status": "completed"
    },
    "tags": []
   },
   "outputs": [
    {
     "data": {
      "text/html": [
       "<div>\n",
       "<style scoped>\n",
       "    .dataframe tbody tr th:only-of-type {\n",
       "        vertical-align: middle;\n",
       "    }\n",
       "\n",
       "    .dataframe tbody tr th {\n",
       "        vertical-align: top;\n",
       "    }\n",
       "\n",
       "    .dataframe thead th {\n",
       "        text-align: right;\n",
       "    }\n",
       "</style>\n",
       "<table border=\"1\" class=\"dataframe\">\n",
       "  <thead>\n",
       "    <tr style=\"text-align: right;\">\n",
       "      <th></th>\n",
       "      <th>Air India</th>\n",
       "      <th>GoAir</th>\n",
       "      <th>IndiGo</th>\n",
       "      <th>Jet Airways</th>\n",
       "      <th>Jet Airways Business</th>\n",
       "      <th>Multiple carriers</th>\n",
       "      <th>Multiple carriers Premium economy</th>\n",
       "      <th>SpiceJet</th>\n",
       "      <th>Trujet</th>\n",
       "      <th>Vistara</th>\n",
       "      <th>Vistara Premium economy</th>\n",
       "    </tr>\n",
       "  </thead>\n",
       "  <tbody>\n",
       "    <tr>\n",
       "      <th>0</th>\n",
       "      <td>0</td>\n",
       "      <td>0</td>\n",
       "      <td>1</td>\n",
       "      <td>0</td>\n",
       "      <td>0</td>\n",
       "      <td>0</td>\n",
       "      <td>0</td>\n",
       "      <td>0</td>\n",
       "      <td>0</td>\n",
       "      <td>0</td>\n",
       "      <td>0</td>\n",
       "    </tr>\n",
       "    <tr>\n",
       "      <th>1</th>\n",
       "      <td>1</td>\n",
       "      <td>0</td>\n",
       "      <td>0</td>\n",
       "      <td>0</td>\n",
       "      <td>0</td>\n",
       "      <td>0</td>\n",
       "      <td>0</td>\n",
       "      <td>0</td>\n",
       "      <td>0</td>\n",
       "      <td>0</td>\n",
       "      <td>0</td>\n",
       "    </tr>\n",
       "    <tr>\n",
       "      <th>2</th>\n",
       "      <td>0</td>\n",
       "      <td>0</td>\n",
       "      <td>0</td>\n",
       "      <td>1</td>\n",
       "      <td>0</td>\n",
       "      <td>0</td>\n",
       "      <td>0</td>\n",
       "      <td>0</td>\n",
       "      <td>0</td>\n",
       "      <td>0</td>\n",
       "      <td>0</td>\n",
       "    </tr>\n",
       "    <tr>\n",
       "      <th>3</th>\n",
       "      <td>0</td>\n",
       "      <td>0</td>\n",
       "      <td>1</td>\n",
       "      <td>0</td>\n",
       "      <td>0</td>\n",
       "      <td>0</td>\n",
       "      <td>0</td>\n",
       "      <td>0</td>\n",
       "      <td>0</td>\n",
       "      <td>0</td>\n",
       "      <td>0</td>\n",
       "    </tr>\n",
       "    <tr>\n",
       "      <th>4</th>\n",
       "      <td>0</td>\n",
       "      <td>0</td>\n",
       "      <td>1</td>\n",
       "      <td>0</td>\n",
       "      <td>0</td>\n",
       "      <td>0</td>\n",
       "      <td>0</td>\n",
       "      <td>0</td>\n",
       "      <td>0</td>\n",
       "      <td>0</td>\n",
       "      <td>0</td>\n",
       "    </tr>\n",
       "  </tbody>\n",
       "</table>\n",
       "</div>"
      ],
      "text/plain": [
       "   Air India  GoAir  IndiGo  Jet Airways  Jet Airways Business  \\\n",
       "0          0      0       1            0                     0   \n",
       "1          1      0       0            0                     0   \n",
       "2          0      0       0            1                     0   \n",
       "3          0      0       1            0                     0   \n",
       "4          0      0       1            0                     0   \n",
       "\n",
       "   Multiple carriers  Multiple carriers Premium economy  SpiceJet  Trujet  \\\n",
       "0                  0                                  0         0       0   \n",
       "1                  0                                  0         0       0   \n",
       "2                  0                                  0         0       0   \n",
       "3                  0                                  0         0       0   \n",
       "4                  0                                  0         0       0   \n",
       "\n",
       "   Vistara  Vistara Premium economy  \n",
       "0        0                        0  \n",
       "1        0                        0  \n",
       "2        0                        0  \n",
       "3        0                        0  \n",
       "4        0                        0  "
      ]
     },
     "execution_count": 42,
     "metadata": {},
     "output_type": "execute_result"
    }
   ],
   "source": [
    "Airline.head()"
   ]
  },
  {
   "cell_type": "code",
   "execution_count": 43,
   "id": "impressed-istanbul",
   "metadata": {
    "execution": {
     "iopub.execute_input": "2021-06-19T07:44:03.182228Z",
     "iopub.status.busy": "2021-06-19T07:44:03.181567Z",
     "iopub.status.idle": "2021-06-19T07:44:03.186125Z",
     "shell.execute_reply": "2021-06-19T07:44:03.186594Z"
    },
    "papermill": {
     "duration": 0.135942,
     "end_time": "2021-06-19T07:44:03.186774",
     "exception": false,
     "start_time": "2021-06-19T07:44:03.050832",
     "status": "completed"
    },
    "tags": []
   },
   "outputs": [
    {
     "data": {
      "text/plain": [
       "Delhi       4536\n",
       "Kolkata     2871\n",
       "Banglore    2197\n",
       "Mumbai       697\n",
       "Chennai      381\n",
       "Name: Source, dtype: int64"
      ]
     },
     "execution_count": 43,
     "metadata": {},
     "output_type": "execute_result"
    }
   ],
   "source": [
    "categorical['Source'].value_counts()"
   ]
  },
  {
   "cell_type": "code",
   "execution_count": 44,
   "id": "binary-greece",
   "metadata": {
    "execution": {
     "iopub.execute_input": "2021-06-19T07:44:03.438294Z",
     "iopub.status.busy": "2021-06-19T07:44:03.437654Z",
     "iopub.status.idle": "2021-06-19T07:44:03.736603Z",
     "shell.execute_reply": "2021-06-19T07:44:03.736088Z"
    },
    "papermill": {
     "duration": 0.429854,
     "end_time": "2021-06-19T07:44:03.736737",
     "exception": false,
     "start_time": "2021-06-19T07:44:03.306883",
     "status": "completed"
    },
    "tags": []
   },
   "outputs": [
    {
     "data": {
      "text/plain": [
       "<seaborn.axisgrid.FacetGrid at 0x7fbef18f0950>"
      ]
     },
     "execution_count": 44,
     "metadata": {},
     "output_type": "execute_result"
    },
    {
     "data": {
      "text/plain": [
       "<Figure size 1080x1080 with 0 Axes>"
      ]
     },
     "metadata": {},
     "output_type": "display_data"
    },
    {
     "data": {
      "image/png": "[encoded data removed]",
      "text/plain": [
       "<Figure size 360x360 with 1 Axes>"
      ]
     },
     "metadata": {
      "needs_background": "light"
     },
     "output_type": "display_data"
    }
   ],
   "source": [
    "#Source vs Price\n",
    "\n",
    "plt.figure(figsize=(15,15))\n",
    "sns.catplot(x='Source',y='Price',data=df.sort_values('Price',ascending=False),kind='boxen')"
   ]
  },
  {
   "cell_type": "code",
   "execution_count": 45,
   "id": "arctic-attraction",
   "metadata": {
    "execution": {
     "iopub.execute_input": "2021-06-19T07:44:03.906066Z",
     "iopub.status.busy": "2021-06-19T07:44:03.905395Z",
     "iopub.status.idle": "2021-06-19T07:44:03.917131Z",
     "shell.execute_reply": "2021-06-19T07:44:03.916600Z"
    },
    "papermill": {
     "duration": 0.098874,
     "end_time": "2021-06-19T07:44:03.917246",
     "exception": false,
     "start_time": "2021-06-19T07:44:03.818372",
     "status": "completed"
    },
    "tags": []
   },
   "outputs": [
    {
     "data": {
      "text/html": [
       "<div>\n",
       "<style scoped>\n",
       "    .dataframe tbody tr th:only-of-type {\n",
       "        vertical-align: middle;\n",
       "    }\n",
       "\n",
       "    .dataframe tbody tr th {\n",
       "        vertical-align: top;\n",
       "    }\n",
       "\n",
       "    .dataframe thead th {\n",
       "        text-align: right;\n",
       "    }\n",
       "</style>\n",
       "<table border=\"1\" class=\"dataframe\">\n",
       "  <thead>\n",
       "    <tr style=\"text-align: right;\">\n",
       "      <th></th>\n",
       "      <th>Chennai</th>\n",
       "      <th>Delhi</th>\n",
       "      <th>Kolkata</th>\n",
       "      <th>Mumbai</th>\n",
       "    </tr>\n",
       "  </thead>\n",
       "  <tbody>\n",
       "    <tr>\n",
       "      <th>0</th>\n",
       "      <td>0</td>\n",
       "      <td>0</td>\n",
       "      <td>0</td>\n",
       "      <td>0</td>\n",
       "    </tr>\n",
       "    <tr>\n",
       "      <th>1</th>\n",
       "      <td>0</td>\n",
       "      <td>0</td>\n",
       "      <td>1</td>\n",
       "      <td>0</td>\n",
       "    </tr>\n",
       "    <tr>\n",
       "      <th>2</th>\n",
       "      <td>0</td>\n",
       "      <td>1</td>\n",
       "      <td>0</td>\n",
       "      <td>0</td>\n",
       "    </tr>\n",
       "    <tr>\n",
       "      <th>3</th>\n",
       "      <td>0</td>\n",
       "      <td>0</td>\n",
       "      <td>1</td>\n",
       "      <td>0</td>\n",
       "    </tr>\n",
       "    <tr>\n",
       "      <th>4</th>\n",
       "      <td>0</td>\n",
       "      <td>0</td>\n",
       "      <td>0</td>\n",
       "      <td>0</td>\n",
       "    </tr>\n",
       "  </tbody>\n",
       "</table>\n",
       "</div>"
      ],
      "text/plain": [
       "   Chennai  Delhi  Kolkata  Mumbai\n",
       "0        0      0        0       0\n",
       "1        0      0        1       0\n",
       "2        0      1        0       0\n",
       "3        0      0        1       0\n",
       "4        0      0        0       0"
      ]
     },
     "execution_count": 45,
     "metadata": {},
     "output_type": "execute_result"
    }
   ],
   "source": [
    "#encoding of source column\n",
    "source=pd.get_dummies(categorical['Source'],drop_first=True)\n",
    "source.head()"
   ]
  },
  {
   "cell_type": "code",
   "execution_count": 46,
   "id": "extraordinary-auditor",
   "metadata": {
    "execution": {
     "iopub.execute_input": "2021-06-19T07:44:04.091955Z",
     "iopub.status.busy": "2021-06-19T07:44:04.091366Z",
     "iopub.status.idle": "2021-06-19T07:44:04.095635Z",
     "shell.execute_reply": "2021-06-19T07:44:04.095196Z"
    },
    "papermill": {
     "duration": 0.095564,
     "end_time": "2021-06-19T07:44:04.095789",
     "exception": false,
     "start_time": "2021-06-19T07:44:04.000225",
     "status": "completed"
    },
    "tags": []
   },
   "outputs": [
    {
     "data": {
      "text/plain": [
       "Cochin       4536\n",
       "Banglore     2871\n",
       "Delhi        1265\n",
       "New Delhi     932\n",
       "Hyderabad     697\n",
       "Kolkata       381\n",
       "Name: Destination, dtype: int64"
      ]
     },
     "execution_count": 46,
     "metadata": {},
     "output_type": "execute_result"
    }
   ],
   "source": [
    "categorical['Destination'].value_counts()"
   ]
  },
  {
   "cell_type": "code",
   "execution_count": 47,
   "id": "orange-increase",
   "metadata": {
    "execution": {
     "iopub.execute_input": "2021-06-19T07:44:04.266210Z",
     "iopub.status.busy": "2021-06-19T07:44:04.265308Z",
     "iopub.status.idle": "2021-06-19T07:44:04.467232Z",
     "shell.execute_reply": "2021-06-19T07:44:04.466545Z"
    },
    "papermill": {
     "duration": 0.290225,
     "end_time": "2021-06-19T07:44:04.467374",
     "exception": false,
     "start_time": "2021-06-19T07:44:04.177149",
     "status": "completed"
    },
    "tags": []
   },
   "outputs": [
    {
     "data": {
      "text/plain": [
       "<AxesSubplot:xlabel='Destination', ylabel='Price'>"
      ]
     },
     "execution_count": 47,
     "metadata": {},
     "output_type": "execute_result"
    },
    {
     "data": {
      "image/png": "[encoded data removed]",
      "text/plain": [
       "<Figure size 1080x576 with 1 Axes>"
      ]
     },
     "metadata": {
      "needs_background": "light"
     },
     "output_type": "display_data"
    }
   ],
   "source": [
    "plt.figure(figsize=(15,8))\n",
    "sns.boxplot(x='Destination',y='Price',data=df.sort_values('Price',ascending=False))"
   ]
  },
  {
   "cell_type": "code",
   "execution_count": 48,
   "id": "lesser-affect",
   "metadata": {
    "execution": {
     "iopub.execute_input": "2021-06-19T07:44:04.725196Z",
     "iopub.status.busy": "2021-06-19T07:44:04.724506Z",
     "iopub.status.idle": "2021-06-19T07:44:04.736459Z",
     "shell.execute_reply": "2021-06-19T07:44:04.735941Z"
    },
    "papermill": {
     "duration": 0.142619,
     "end_time": "2021-06-19T07:44:04.736594",
     "exception": false,
     "start_time": "2021-06-19T07:44:04.593975",
     "status": "completed"
    },
    "tags": []
   },
   "outputs": [
    {
     "data": {
      "text/html": [
       "<div>\n",
       "<style scoped>\n",
       "    .dataframe tbody tr th:only-of-type {\n",
       "        vertical-align: middle;\n",
       "    }\n",
       "\n",
       "    .dataframe tbody tr th {\n",
       "        vertical-align: top;\n",
       "    }\n",
       "\n",
       "    .dataframe thead th {\n",
       "        text-align: right;\n",
       "    }\n",
       "</style>\n",
       "<table border=\"1\" class=\"dataframe\">\n",
       "  <thead>\n",
       "    <tr style=\"text-align: right;\">\n",
       "      <th></th>\n",
       "      <th>Cochin</th>\n",
       "      <th>Delhi</th>\n",
       "      <th>Hyderabad</th>\n",
       "      <th>Kolkata</th>\n",
       "      <th>New Delhi</th>\n",
       "    </tr>\n",
       "  </thead>\n",
       "  <tbody>\n",
       "    <tr>\n",
       "      <th>0</th>\n",
       "      <td>0</td>\n",
       "      <td>0</td>\n",
       "      <td>0</td>\n",
       "      <td>0</td>\n",
       "      <td>1</td>\n",
       "    </tr>\n",
       "    <tr>\n",
       "      <th>1</th>\n",
       "      <td>0</td>\n",
       "      <td>0</td>\n",
       "      <td>0</td>\n",
       "      <td>0</td>\n",
       "      <td>0</td>\n",
       "    </tr>\n",
       "    <tr>\n",
       "      <th>2</th>\n",
       "      <td>1</td>\n",
       "      <td>0</td>\n",
       "      <td>0</td>\n",
       "      <td>0</td>\n",
       "      <td>0</td>\n",
       "    </tr>\n",
       "    <tr>\n",
       "      <th>3</th>\n",
       "      <td>0</td>\n",
       "      <td>0</td>\n",
       "      <td>0</td>\n",
       "      <td>0</td>\n",
       "      <td>0</td>\n",
       "    </tr>\n",
       "    <tr>\n",
       "      <th>4</th>\n",
       "      <td>0</td>\n",
       "      <td>0</td>\n",
       "      <td>0</td>\n",
       "      <td>0</td>\n",
       "      <td>1</td>\n",
       "    </tr>\n",
       "  </tbody>\n",
       "</table>\n",
       "</div>"
      ],
      "text/plain": [
       "   Cochin  Delhi  Hyderabad  Kolkata  New Delhi\n",
       "0       0      0          0        0          1\n",
       "1       0      0          0        0          0\n",
       "2       1      0          0        0          0\n",
       "3       0      0          0        0          0\n",
       "4       0      0          0        0          1"
      ]
     },
     "execution_count": 48,
     "metadata": {},
     "output_type": "execute_result"
    }
   ],
   "source": [
    "#encoding of destination column\n",
    "destination=pd.get_dummies(categorical['Destination'],drop_first=True)\n",
    "destination.head()"
   ]
  },
  {
   "cell_type": "code",
   "execution_count": 49,
   "id": "pregnant-assurance",
   "metadata": {
    "execution": {
     "iopub.execute_input": "2021-06-19T07:44:05.000531Z",
     "iopub.status.busy": "2021-06-19T07:44:04.999736Z",
     "iopub.status.idle": "2021-06-19T07:44:05.004081Z",
     "shell.execute_reply": "2021-06-19T07:44:05.004573Z"
    },
    "papermill": {
     "duration": 0.141853,
     "end_time": "2021-06-19T07:44:05.004770",
     "exception": false,
     "start_time": "2021-06-19T07:44:04.862917",
     "status": "completed"
    },
    "tags": []
   },
   "outputs": [
    {
     "data": {
      "text/plain": [
       "DEL → BOM → COK                2376\n",
       "BLR → DEL                      1552\n",
       "CCU → BOM → BLR                 979\n",
       "CCU → BLR                       724\n",
       "BOM → HYD                       621\n",
       "                               ... \n",
       "CCU → IXA → BLR                   1\n",
       "BOM → BLR → CCU → BBI → HYD       1\n",
       "BOM → UDR → DEL → HYD             1\n",
       "CCU → IXZ → MAA → BLR             1\n",
       "BOM → JAI → DEL → HYD             1\n",
       "Name: Route, Length: 128, dtype: int64"
      ]
     },
     "execution_count": 49,
     "metadata": {},
     "output_type": "execute_result"
    }
   ],
   "source": [
    "# now work on route column\n",
    "categorical['Route'].value_counts()\n"
   ]
  },
  {
   "cell_type": "code",
   "execution_count": 50,
   "id": "impressive-processing",
   "metadata": {
    "execution": {
     "iopub.execute_input": "2021-06-19T07:44:05.425801Z",
     "iopub.status.busy": "2021-06-19T07:44:05.408380Z",
     "iopub.status.idle": "2021-06-19T07:44:05.428619Z",
     "shell.execute_reply": "2021-06-19T07:44:05.428157Z"
    },
    "papermill": {
     "duration": 0.298549,
     "end_time": "2021-06-19T07:44:05.428745",
     "exception": false,
     "start_time": "2021-06-19T07:44:05.130196",
     "status": "completed"
    },
    "tags": []
   },
   "outputs": [],
   "source": [
    "categorical['Route1']=categorical['Route'].str.split('→').str[0]\n",
    "categorical['Route2']=categorical['Route'].str.split('→').str[1]\n",
    "categorical['Route3']=categorical['Route'].str.split('→').str[2]\n",
    "categorical['Route4']=categorical['Route'].str.split('→').str[3]\n",
    "categorical['Route5']=categorical['Route'].str.split('→').str[4]"
   ]
  },
  {
   "cell_type": "code",
   "execution_count": 51,
   "id": "balanced-opposition",
   "metadata": {
    "execution": {
     "iopub.execute_input": "2021-06-19T07:44:05.611495Z",
     "iopub.status.busy": "2021-06-19T07:44:05.610858Z",
     "iopub.status.idle": "2021-06-19T07:44:05.615375Z",
     "shell.execute_reply": "2021-06-19T07:44:05.614845Z"
    },
    "papermill": {
     "duration": 0.102613,
     "end_time": "2021-06-19T07:44:05.615514",
     "exception": false,
     "start_time": "2021-06-19T07:44:05.512901",
     "status": "completed"
    },
    "tags": []
   },
   "outputs": [
    {
     "data": {
      "text/html": [
       "<div>\n",
       "<style scoped>\n",
       "    .dataframe tbody tr th:only-of-type {\n",
       "        vertical-align: middle;\n",
       "    }\n",
       "\n",
       "    .dataframe tbody tr th {\n",
       "        vertical-align: top;\n",
       "    }\n",
       "\n",
       "    .dataframe thead th {\n",
       "        text-align: right;\n",
       "    }\n",
       "</style>\n",
       "<table border=\"1\" class=\"dataframe\">\n",
       "  <thead>\n",
       "    <tr style=\"text-align: right;\">\n",
       "      <th></th>\n",
       "      <th>Airline</th>\n",
       "      <th>Source</th>\n",
       "      <th>Destination</th>\n",
       "      <th>Route</th>\n",
       "      <th>Total_Stops</th>\n",
       "      <th>Additional_Info</th>\n",
       "      <th>Route1</th>\n",
       "      <th>Route2</th>\n",
       "      <th>Route3</th>\n",
       "      <th>Route4</th>\n",
       "      <th>Route5</th>\n",
       "    </tr>\n",
       "  </thead>\n",
       "  <tbody>\n",
       "    <tr>\n",
       "      <th>0</th>\n",
       "      <td>IndiGo</td>\n",
       "      <td>Banglore</td>\n",
       "      <td>New Delhi</td>\n",
       "      <td>BLR → DEL</td>\n",
       "      <td>non-stop</td>\n",
       "      <td>No info</td>\n",
       "      <td>BLR</td>\n",
       "      <td>DEL</td>\n",
       "      <td>NaN</td>\n",
       "      <td>NaN</td>\n",
       "      <td>NaN</td>\n",
       "    </tr>\n",
       "    <tr>\n",
       "      <th>1</th>\n",
       "      <td>Air India</td>\n",
       "      <td>Kolkata</td>\n",
       "      <td>Banglore</td>\n",
       "      <td>CCU → IXR → BBI → BLR</td>\n",
       "      <td>2 stops</td>\n",
       "      <td>No info</td>\n",
       "      <td>CCU</td>\n",
       "      <td>IXR</td>\n",
       "      <td>BBI</td>\n",
       "      <td>BLR</td>\n",
       "      <td>NaN</td>\n",
       "    </tr>\n",
       "    <tr>\n",
       "      <th>2</th>\n",
       "      <td>Jet Airways</td>\n",
       "      <td>Delhi</td>\n",
       "      <td>Cochin</td>\n",
       "      <td>DEL → LKO → BOM → COK</td>\n",
       "      <td>2 stops</td>\n",
       "      <td>No info</td>\n",
       "      <td>DEL</td>\n",
       "      <td>LKO</td>\n",
       "      <td>BOM</td>\n",
       "      <td>COK</td>\n",
       "      <td>NaN</td>\n",
       "    </tr>\n",
       "    <tr>\n",
       "      <th>3</th>\n",
       "      <td>IndiGo</td>\n",
       "      <td>Kolkata</td>\n",
       "      <td>Banglore</td>\n",
       "      <td>CCU → NAG → BLR</td>\n",
       "      <td>1 stop</td>\n",
       "      <td>No info</td>\n",
       "      <td>CCU</td>\n",
       "      <td>NAG</td>\n",
       "      <td>BLR</td>\n",
       "      <td>NaN</td>\n",
       "      <td>NaN</td>\n",
       "    </tr>\n",
       "    <tr>\n",
       "      <th>4</th>\n",
       "      <td>IndiGo</td>\n",
       "      <td>Banglore</td>\n",
       "      <td>New Delhi</td>\n",
       "      <td>BLR → NAG → DEL</td>\n",
       "      <td>1 stop</td>\n",
       "      <td>No info</td>\n",
       "      <td>BLR</td>\n",
       "      <td>NAG</td>\n",
       "      <td>DEL</td>\n",
       "      <td>NaN</td>\n",
       "      <td>NaN</td>\n",
       "    </tr>\n",
       "  </tbody>\n",
       "</table>\n",
       "</div>"
      ],
      "text/plain": [
       "       Airline    Source Destination                  Route Total_Stops  \\\n",
       "0       IndiGo  Banglore   New Delhi              BLR → DEL    non-stop   \n",
       "1    Air India   Kolkata    Banglore  CCU → IXR → BBI → BLR     2 stops   \n",
       "2  Jet Airways     Delhi      Cochin  DEL → LKO → BOM → COK     2 stops   \n",
       "3       IndiGo   Kolkata    Banglore        CCU → NAG → BLR      1 stop   \n",
       "4       IndiGo  Banglore   New Delhi        BLR → NAG → DEL      1 stop   \n",
       "\n",
       "  Additional_Info Route1 Route2 Route3 Route4 Route5  \n",
       "0         No info   BLR     DEL    NaN    NaN    NaN  \n",
       "1         No info   CCU    IXR    BBI     BLR    NaN  \n",
       "2         No info   DEL    LKO    BOM     COK    NaN  \n",
       "3         No info   CCU    NAG     BLR    NaN    NaN  \n",
       "4         No info   BLR    NAG     DEL    NaN    NaN  "
      ]
     },
     "execution_count": 51,
     "metadata": {},
     "output_type": "execute_result"
    }
   ],
   "source": [
    "categorical.head()"
   ]
  },
  {
   "cell_type": "code",
   "execution_count": 52,
   "id": "parliamentary-studio",
   "metadata": {
    "execution": {
     "iopub.execute_input": "2021-06-19T07:44:05.875124Z",
     "iopub.status.busy": "2021-06-19T07:44:05.874469Z",
     "iopub.status.idle": "2021-06-19T07:44:05.880786Z",
     "shell.execute_reply": "2021-06-19T07:44:05.880280Z"
    },
    "papermill": {
     "duration": 0.138268,
     "end_time": "2021-06-19T07:44:05.880920",
     "exception": false,
     "start_time": "2021-06-19T07:44:05.742652",
     "status": "completed"
    },
    "tags": []
   },
   "outputs": [],
   "source": [
    "drop_col(categorical,'Route')"
   ]
  },
  {
   "cell_type": "code",
   "execution_count": 53,
   "id": "final-scale",
   "metadata": {
    "execution": {
     "iopub.execute_input": "2021-06-19T07:44:06.146224Z",
     "iopub.status.busy": "2021-06-19T07:44:06.145550Z",
     "iopub.status.idle": "2021-06-19T07:44:06.149436Z",
     "shell.execute_reply": "2021-06-19T07:44:06.149997Z"
    },
    "papermill": {
     "duration": 0.140036,
     "end_time": "2021-06-19T07:44:06.150168",
     "exception": false,
     "start_time": "2021-06-19T07:44:06.010132",
     "status": "completed"
    },
    "tags": []
   },
   "outputs": [
    {
     "data": {
      "text/plain": [
       "Airline                0\n",
       "Source                 0\n",
       "Destination            0\n",
       "Total_Stops            0\n",
       "Additional_Info        0\n",
       "Route1                 0\n",
       "Route2                 0\n",
       "Route3              3491\n",
       "Route4              9116\n",
       "Route5             10636\n",
       "dtype: int64"
      ]
     },
     "execution_count": 53,
     "metadata": {},
     "output_type": "execute_result"
    }
   ],
   "source": [
    "categorical.isnull().sum()"
   ]
  },
  {
   "cell_type": "code",
   "execution_count": 54,
   "id": "humanitarian-ireland",
   "metadata": {
    "execution": {
     "iopub.execute_input": "2021-06-19T07:44:06.409777Z",
     "iopub.status.busy": "2021-06-19T07:44:06.409113Z",
     "iopub.status.idle": "2021-06-19T07:44:06.413089Z",
     "shell.execute_reply": "2021-06-19T07:44:06.413621Z"
    },
    "papermill": {
     "duration": 0.135281,
     "end_time": "2021-06-19T07:44:06.413821",
     "exception": false,
     "start_time": "2021-06-19T07:44:06.278540",
     "status": "completed"
    },
    "tags": []
   },
   "outputs": [
    {
     "data": {
      "text/plain": [
       "Index(['Airline', 'Source', 'Destination', 'Total_Stops', 'Additional_Info',\n",
       "       'Route1', 'Route2', 'Route3', 'Route4', 'Route5'],\n",
       "      dtype='object')"
      ]
     },
     "execution_count": 54,
     "metadata": {},
     "output_type": "execute_result"
    }
   ],
   "source": [
    "categorical.columns"
   ]
  },
  {
   "cell_type": "code",
   "execution_count": 55,
   "id": "precise-record",
   "metadata": {
    "execution": {
     "iopub.execute_input": "2021-06-19T07:44:06.672781Z",
     "iopub.status.busy": "2021-06-19T07:44:06.672115Z",
     "iopub.status.idle": "2021-06-19T07:44:06.678667Z",
     "shell.execute_reply": "2021-06-19T07:44:06.679215Z"
    },
    "papermill": {
     "duration": 0.137174,
     "end_time": "2021-06-19T07:44:06.679401",
     "exception": false,
     "start_time": "2021-06-19T07:44:06.542227",
     "status": "completed"
    },
    "tags": []
   },
   "outputs": [],
   "source": [
    "for i in ['Route3', 'Route4', 'Route5']:\n",
    "    categorical[i].fillna('None',inplace=True)"
   ]
  },
  {
   "cell_type": "code",
   "execution_count": 56,
   "id": "stuffed-texas",
   "metadata": {
    "execution": {
     "iopub.execute_input": "2021-06-19T07:44:06.938809Z",
     "iopub.status.busy": "2021-06-19T07:44:06.938126Z",
     "iopub.status.idle": "2021-06-19T07:44:06.949459Z",
     "shell.execute_reply": "2021-06-19T07:44:06.949989Z"
    },
    "papermill": {
     "duration": 0.142712,
     "end_time": "2021-06-19T07:44:06.950158",
     "exception": false,
     "start_time": "2021-06-19T07:44:06.807446",
     "status": "completed"
    },
    "tags": []
   },
   "outputs": [
    {
     "data": {
      "text/plain": [
       "Airline            0\n",
       "Source             0\n",
       "Destination        0\n",
       "Total_Stops        0\n",
       "Additional_Info    0\n",
       "Route1             0\n",
       "Route2             0\n",
       "Route3             0\n",
       "Route4             0\n",
       "Route5             0\n",
       "dtype: int64"
      ]
     },
     "execution_count": 56,
     "metadata": {},
     "output_type": "execute_result"
    }
   ],
   "source": [
    "categorical.isnull().sum()"
   ]
  },
  {
   "cell_type": "code",
   "execution_count": 57,
   "id": "eight-cleaning",
   "metadata": {
    "execution": {
     "iopub.execute_input": "2021-06-19T07:44:07.212308Z",
     "iopub.status.busy": "2021-06-19T07:44:07.211530Z",
     "iopub.status.idle": "2021-06-19T07:44:07.250011Z",
     "shell.execute_reply": "2021-06-19T07:44:07.249470Z"
    },
    "papermill": {
     "duration": 0.170516,
     "end_time": "2021-06-19T07:44:07.250143",
     "exception": false,
     "start_time": "2021-06-19T07:44:07.079627",
     "status": "completed"
    },
    "tags": []
   },
   "outputs": [
    {
     "name": "stdout",
     "output_type": "stream",
     "text": [
      "Airline has total 12 categories\n",
      "Source has total 5 categories\n",
      "Destination has total 6 categories\n",
      "Total_Stops has total 5 categories\n",
      "Additional_Info has total 10 categories\n",
      "Route1 has total 5 categories\n",
      "Route2 has total 45 categories\n",
      "Route3 has total 30 categories\n",
      "Route4 has total 14 categories\n",
      "Route5 has total 6 categories\n"
     ]
    }
   ],
   "source": [
    "for i in categorical.columns:\n",
    "    print('{} has total {} categories'.format(i,len(categorical[i].value_counts())))"
   ]
  },
  {
   "cell_type": "code",
   "execution_count": 58,
   "id": "accepted-cosmetic",
   "metadata": {
    "execution": {
     "iopub.execute_input": "2021-06-19T07:44:07.530591Z",
     "iopub.status.busy": "2021-06-19T07:44:07.529766Z",
     "iopub.status.idle": "2021-06-19T07:44:07.779404Z",
     "shell.execute_reply": "2021-06-19T07:44:07.778771Z"
    },
    "papermill": {
     "duration": 0.400299,
     "end_time": "2021-06-19T07:44:07.779538",
     "exception": false,
     "start_time": "2021-06-19T07:44:07.379239",
     "status": "completed"
    },
    "tags": []
   },
   "outputs": [
    {
     "data": {
      "text/plain": [
       "<AxesSubplot:xlabel='Arrival_Time_hour', ylabel='Price'>"
      ]
     },
     "execution_count": 58,
     "metadata": {},
     "output_type": "execute_result"
    },
    {
     "data": {
      "image/png": "[encoded data removed]",
      "text/plain": [
       "<Figure size 432x288 with 2 Axes>"
      ]
     },
     "metadata": {
      "needs_background": "light"
     },
     "output_type": "display_data"
    }
   ],
   "source": [
    "df.plot.hexbin(x='Arrival_Time_hour',y='Price',gridsize=15)"
   ]
  },
  {
   "cell_type": "code",
   "execution_count": 59,
   "id": "peaceful-marketplace",
   "metadata": {
    "execution": {
     "iopub.execute_input": "2021-06-19T07:44:08.047524Z",
     "iopub.status.busy": "2021-06-19T07:44:08.046957Z",
     "iopub.status.idle": "2021-06-19T07:44:08.051352Z",
     "shell.execute_reply": "2021-06-19T07:44:08.050787Z"
    },
    "papermill": {
     "duration": 0.140556,
     "end_time": "2021-06-19T07:44:08.051472",
     "exception": false,
     "start_time": "2021-06-19T07:44:07.910916",
     "status": "completed"
    },
    "tags": []
   },
   "outputs": [],
   "source": [
    "# Applying label encoder\n",
    "from sklearn.preprocessing import LabelEncoder\n",
    "encoder = LabelEncoder()"
   ]
  },
  {
   "cell_type": "code",
   "execution_count": 60,
   "id": "economic-america",
   "metadata": {
    "execution": {
     "iopub.execute_input": "2021-06-19T07:44:08.314014Z",
     "iopub.status.busy": "2021-06-19T07:44:08.301366Z",
     "iopub.status.idle": "2021-06-19T07:44:08.316176Z",
     "shell.execute_reply": "2021-06-19T07:44:08.316601Z"
    },
    "papermill": {
     "duration": 0.143389,
     "end_time": "2021-06-19T07:44:08.316751",
     "exception": false,
     "start_time": "2021-06-19T07:44:08.173362",
     "status": "completed"
    },
    "tags": []
   },
   "outputs": [],
   "source": [
    "for i in ['Route1', 'Route2', 'Route3', 'Route4', 'Route5']:\n",
    "    categorical[i]=encoder.fit_transform(categorical[i])"
   ]
  },
  {
   "cell_type": "code",
   "execution_count": 61,
   "id": "egyptian-sponsorship",
   "metadata": {
    "execution": {
     "iopub.execute_input": "2021-06-19T07:44:08.487138Z",
     "iopub.status.busy": "2021-06-19T07:44:08.486673Z",
     "iopub.status.idle": "2021-06-19T07:44:08.501156Z",
     "shell.execute_reply": "2021-06-19T07:44:08.501572Z"
    },
    "papermill": {
     "duration": 0.103844,
     "end_time": "2021-06-19T07:44:08.501729",
     "exception": false,
     "start_time": "2021-06-19T07:44:08.397885",
     "status": "completed"
    },
    "tags": []
   },
   "outputs": [
    {
     "data": {
      "text/html": [
       "<div>\n",
       "<style scoped>\n",
       "    .dataframe tbody tr th:only-of-type {\n",
       "        vertical-align: middle;\n",
       "    }\n",
       "\n",
       "    .dataframe tbody tr th {\n",
       "        vertical-align: top;\n",
       "    }\n",
       "\n",
       "    .dataframe thead th {\n",
       "        text-align: right;\n",
       "    }\n",
       "</style>\n",
       "<table border=\"1\" class=\"dataframe\">\n",
       "  <thead>\n",
       "    <tr style=\"text-align: right;\">\n",
       "      <th></th>\n",
       "      <th>Airline</th>\n",
       "      <th>Source</th>\n",
       "      <th>Destination</th>\n",
       "      <th>Total_Stops</th>\n",
       "      <th>Additional_Info</th>\n",
       "      <th>Route1</th>\n",
       "      <th>Route2</th>\n",
       "      <th>Route3</th>\n",
       "      <th>Route4</th>\n",
       "      <th>Route5</th>\n",
       "    </tr>\n",
       "  </thead>\n",
       "  <tbody>\n",
       "    <tr>\n",
       "      <th>0</th>\n",
       "      <td>IndiGo</td>\n",
       "      <td>Banglore</td>\n",
       "      <td>New Delhi</td>\n",
       "      <td>non-stop</td>\n",
       "      <td>No info</td>\n",
       "      <td>0</td>\n",
       "      <td>13</td>\n",
       "      <td>29</td>\n",
       "      <td>13</td>\n",
       "      <td>5</td>\n",
       "    </tr>\n",
       "    <tr>\n",
       "      <th>1</th>\n",
       "      <td>Air India</td>\n",
       "      <td>Kolkata</td>\n",
       "      <td>Banglore</td>\n",
       "      <td>2 stops</td>\n",
       "      <td>No info</td>\n",
       "      <td>2</td>\n",
       "      <td>25</td>\n",
       "      <td>1</td>\n",
       "      <td>3</td>\n",
       "      <td>5</td>\n",
       "    </tr>\n",
       "    <tr>\n",
       "      <th>2</th>\n",
       "      <td>Jet Airways</td>\n",
       "      <td>Delhi</td>\n",
       "      <td>Cochin</td>\n",
       "      <td>2 stops</td>\n",
       "      <td>No info</td>\n",
       "      <td>3</td>\n",
       "      <td>32</td>\n",
       "      <td>4</td>\n",
       "      <td>5</td>\n",
       "      <td>5</td>\n",
       "    </tr>\n",
       "    <tr>\n",
       "      <th>3</th>\n",
       "      <td>IndiGo</td>\n",
       "      <td>Kolkata</td>\n",
       "      <td>Banglore</td>\n",
       "      <td>1 stop</td>\n",
       "      <td>No info</td>\n",
       "      <td>2</td>\n",
       "      <td>34</td>\n",
       "      <td>3</td>\n",
       "      <td>13</td>\n",
       "      <td>5</td>\n",
       "    </tr>\n",
       "    <tr>\n",
       "      <th>4</th>\n",
       "      <td>IndiGo</td>\n",
       "      <td>Banglore</td>\n",
       "      <td>New Delhi</td>\n",
       "      <td>1 stop</td>\n",
       "      <td>No info</td>\n",
       "      <td>0</td>\n",
       "      <td>34</td>\n",
       "      <td>8</td>\n",
       "      <td>13</td>\n",
       "      <td>5</td>\n",
       "    </tr>\n",
       "  </tbody>\n",
       "</table>\n",
       "</div>"
      ],
      "text/plain": [
       "       Airline    Source Destination Total_Stops Additional_Info  Route1  \\\n",
       "0       IndiGo  Banglore   New Delhi    non-stop         No info       0   \n",
       "1    Air India   Kolkata    Banglore     2 stops         No info       2   \n",
       "2  Jet Airways     Delhi      Cochin     2 stops         No info       3   \n",
       "3       IndiGo   Kolkata    Banglore      1 stop         No info       2   \n",
       "4       IndiGo  Banglore   New Delhi      1 stop         No info       0   \n",
       "\n",
       "   Route2  Route3  Route4  Route5  \n",
       "0      13      29      13       5  \n",
       "1      25       1       3       5  \n",
       "2      32       4       5       5  \n",
       "3      34       3      13       5  \n",
       "4      34       8      13       5  "
      ]
     },
     "execution_count": 61,
     "metadata": {},
     "output_type": "execute_result"
    }
   ],
   "source": [
    "categorical.head()"
   ]
  },
  {
   "cell_type": "code",
   "execution_count": 62,
   "id": "built-notion",
   "metadata": {
    "execution": {
     "iopub.execute_input": "2021-06-19T07:44:08.669337Z",
     "iopub.status.busy": "2021-06-19T07:44:08.668521Z",
     "iopub.status.idle": "2021-06-19T07:44:08.672927Z",
     "shell.execute_reply": "2021-06-19T07:44:08.673273Z"
    },
    "papermill": {
     "duration": 0.090877,
     "end_time": "2021-06-19T07:44:08.673416",
     "exception": false,
     "start_time": "2021-06-19T07:44:08.582539",
     "status": "completed"
    },
    "tags": []
   },
   "outputs": [],
   "source": [
    "drop_col(categorical,'Additional_Info')"
   ]
  },
  {
   "cell_type": "code",
   "execution_count": 63,
   "id": "drawn-lover",
   "metadata": {
    "execution": {
     "iopub.execute_input": "2021-06-19T07:44:08.851133Z",
     "iopub.status.busy": "2021-06-19T07:44:08.850451Z",
     "iopub.status.idle": "2021-06-19T07:44:08.856954Z",
     "shell.execute_reply": "2021-06-19T07:44:08.857285Z"
    },
    "papermill": {
     "duration": 0.097144,
     "end_time": "2021-06-19T07:44:08.857410",
     "exception": false,
     "start_time": "2021-06-19T07:44:08.760266",
     "status": "completed"
    },
    "tags": []
   },
   "outputs": [
    {
     "data": {
      "text/plain": [
       "array(['non-stop', '2 stops', '1 stop', '3 stops', '4 stops'],\n",
       "      dtype=object)"
      ]
     },
     "execution_count": 63,
     "metadata": {},
     "output_type": "execute_result"
    }
   ],
   "source": [
    "categorical['Total_Stops'].unique()"
   ]
  },
  {
   "cell_type": "code",
   "execution_count": 64,
   "id": "obvious-anthony",
   "metadata": {
    "execution": {
     "iopub.execute_input": "2021-06-19T07:44:09.034787Z",
     "iopub.status.busy": "2021-06-19T07:44:09.034065Z",
     "iopub.status.idle": "2021-06-19T07:44:09.043344Z",
     "shell.execute_reply": "2021-06-19T07:44:09.043668Z"
    },
    "papermill": {
     "duration": 0.100068,
     "end_time": "2021-06-19T07:44:09.043817",
     "exception": false,
     "start_time": "2021-06-19T07:44:08.943749",
     "status": "completed"
    },
    "tags": []
   },
   "outputs": [],
   "source": [
    "# encoding Total stops\n",
    "dict={'non-stop':0, '2 stops':2, '1 stop':1, '3 stops':3, '4 stops':4}\n",
    "categorical['Total_Stops']=categorical['Total_Stops'].map(dict)"
   ]
  },
  {
   "cell_type": "code",
   "execution_count": 65,
   "id": "indoor-nothing",
   "metadata": {
    "execution": {
     "iopub.execute_input": "2021-06-19T07:44:09.210822Z",
     "iopub.status.busy": "2021-06-19T07:44:09.210202Z",
     "iopub.status.idle": "2021-06-19T07:44:09.216187Z",
     "shell.execute_reply": "2021-06-19T07:44:09.216531Z"
    },
    "papermill": {
     "duration": 0.091816,
     "end_time": "2021-06-19T07:44:09.216649",
     "exception": false,
     "start_time": "2021-06-19T07:44:09.124833",
     "status": "completed"
    },
    "tags": []
   },
   "outputs": [
    {
     "data": {
      "text/plain": [
       "0        0\n",
       "1        2\n",
       "2        2\n",
       "3        1\n",
       "4        1\n",
       "        ..\n",
       "10678    0\n",
       "10679    0\n",
       "10680    0\n",
       "10681    0\n",
       "10682    2\n",
       "Name: Total_Stops, Length: 10682, dtype: int64"
      ]
     },
     "execution_count": 65,
     "metadata": {},
     "output_type": "execute_result"
    }
   ],
   "source": [
    "categorical['Total_Stops']"
   ]
  },
  {
   "cell_type": "code",
   "execution_count": 66,
   "id": "advanced-orientation",
   "metadata": {
    "execution": {
     "iopub.execute_input": "2021-06-19T07:44:09.387390Z",
     "iopub.status.busy": "2021-06-19T07:44:09.386667Z",
     "iopub.status.idle": "2021-06-19T07:44:09.394512Z",
     "shell.execute_reply": "2021-06-19T07:44:09.394086Z"
    },
    "papermill": {
     "duration": 0.095982,
     "end_time": "2021-06-19T07:44:09.394607",
     "exception": false,
     "start_time": "2021-06-19T07:44:09.298625",
     "status": "completed"
    },
    "tags": []
   },
   "outputs": [],
   "source": [
    "drop_col(categorical,'Source')\n",
    "drop_col(categorical,'Destination')\n",
    "drop_col(categorical,'Airline')"
   ]
  },
  {
   "cell_type": "markdown",
   "id": "novel-consumption",
   "metadata": {
    "papermill": {
     "duration": 0.081684,
     "end_time": "2021-06-19T07:44:09.558773",
     "exception": false,
     "start_time": "2021-06-19T07:44:09.477089",
     "status": "completed"
    },
    "tags": []
   },
   "source": [
    "<a id = '5.5'></a>\n",
    "<p style = \"font-size : 25px; color : #34656d ; font-family : 'Comic Sans MS'; text-align : center; background-color : #fbc6a4; border-radius: 5px 5px;\"><strong>After all preprocessing, Our data is ready for the modeling</strong></p> "
   ]
  },
  {
   "cell_type": "code",
   "execution_count": 67,
   "id": "descending-regression",
   "metadata": {
    "execution": {
     "iopub.execute_input": "2021-06-19T07:44:09.729478Z",
     "iopub.status.busy": "2021-06-19T07:44:09.728840Z",
     "iopub.status.idle": "2021-06-19T07:44:09.733628Z",
     "shell.execute_reply": "2021-06-19T07:44:09.733228Z"
    },
    "papermill": {
     "duration": 0.093436,
     "end_time": "2021-06-19T07:44:09.733751",
     "exception": false,
     "start_time": "2021-06-19T07:44:09.640315",
     "status": "completed"
    },
    "tags": []
   },
   "outputs": [],
   "source": [
    "final_df=pd.concat([categorical,Airline,source,destination,df[continuous_col]],axis=1)"
   ]
  },
  {
   "cell_type": "code",
   "execution_count": 68,
   "id": "golden-twist",
   "metadata": {
    "execution": {
     "iopub.execute_input": "2021-06-19T07:44:09.903086Z",
     "iopub.status.busy": "2021-06-19T07:44:09.902674Z",
     "iopub.status.idle": "2021-06-19T07:44:09.923540Z",
     "shell.execute_reply": "2021-06-19T07:44:09.923055Z"
    },
    "papermill": {
     "duration": 0.10628,
     "end_time": "2021-06-19T07:44:09.923658",
     "exception": false,
     "start_time": "2021-06-19T07:44:09.817378",
     "status": "completed"
    },
    "tags": []
   },
   "outputs": [
    {
     "data": {
      "text/html": [
       "<div>\n",
       "<style scoped>\n",
       "    .dataframe tbody tr th:only-of-type {\n",
       "        vertical-align: middle;\n",
       "    }\n",
       "\n",
       "    .dataframe tbody tr th {\n",
       "        vertical-align: top;\n",
       "    }\n",
       "\n",
       "    .dataframe thead th {\n",
       "        text-align: right;\n",
       "    }\n",
       "</style>\n",
       "<table border=\"1\" class=\"dataframe\">\n",
       "  <thead>\n",
       "    <tr style=\"text-align: right;\">\n",
       "      <th></th>\n",
       "      <th>Total_Stops</th>\n",
       "      <th>Route1</th>\n",
       "      <th>Route2</th>\n",
       "      <th>Route3</th>\n",
       "      <th>Route4</th>\n",
       "      <th>Route5</th>\n",
       "      <th>Air India</th>\n",
       "      <th>GoAir</th>\n",
       "      <th>IndiGo</th>\n",
       "      <th>Jet Airways</th>\n",
       "      <th>...</th>\n",
       "      <th>New Delhi</th>\n",
       "      <th>Price</th>\n",
       "      <th>journey_day</th>\n",
       "      <th>journey_month</th>\n",
       "      <th>Dep_Time_hour</th>\n",
       "      <th>Dep_Time_min</th>\n",
       "      <th>Arrival_Time_hour</th>\n",
       "      <th>Arrival_Time_min</th>\n",
       "      <th>dur_hour</th>\n",
       "      <th>dur_min</th>\n",
       "    </tr>\n",
       "  </thead>\n",
       "  <tbody>\n",
       "    <tr>\n",
       "      <th>0</th>\n",
       "      <td>0</td>\n",
       "      <td>0</td>\n",
       "      <td>13</td>\n",
       "      <td>29</td>\n",
       "      <td>13</td>\n",
       "      <td>5</td>\n",
       "      <td>0</td>\n",
       "      <td>0</td>\n",
       "      <td>1</td>\n",
       "      <td>0</td>\n",
       "      <td>...</td>\n",
       "      <td>1</td>\n",
       "      <td>3897</td>\n",
       "      <td>24</td>\n",
       "      <td>3</td>\n",
       "      <td>22</td>\n",
       "      <td>20</td>\n",
       "      <td>1</td>\n",
       "      <td>10</td>\n",
       "      <td>2</td>\n",
       "      <td>50</td>\n",
       "    </tr>\n",
       "    <tr>\n",
       "      <th>1</th>\n",
       "      <td>2</td>\n",
       "      <td>2</td>\n",
       "      <td>25</td>\n",
       "      <td>1</td>\n",
       "      <td>3</td>\n",
       "      <td>5</td>\n",
       "      <td>1</td>\n",
       "      <td>0</td>\n",
       "      <td>0</td>\n",
       "      <td>0</td>\n",
       "      <td>...</td>\n",
       "      <td>0</td>\n",
       "      <td>7662</td>\n",
       "      <td>5</td>\n",
       "      <td>1</td>\n",
       "      <td>5</td>\n",
       "      <td>50</td>\n",
       "      <td>13</td>\n",
       "      <td>15</td>\n",
       "      <td>7</td>\n",
       "      <td>25</td>\n",
       "    </tr>\n",
       "    <tr>\n",
       "      <th>2</th>\n",
       "      <td>2</td>\n",
       "      <td>3</td>\n",
       "      <td>32</td>\n",
       "      <td>4</td>\n",
       "      <td>5</td>\n",
       "      <td>5</td>\n",
       "      <td>0</td>\n",
       "      <td>0</td>\n",
       "      <td>0</td>\n",
       "      <td>1</td>\n",
       "      <td>...</td>\n",
       "      <td>0</td>\n",
       "      <td>13882</td>\n",
       "      <td>6</td>\n",
       "      <td>9</td>\n",
       "      <td>9</td>\n",
       "      <td>25</td>\n",
       "      <td>4</td>\n",
       "      <td>25</td>\n",
       "      <td>19</td>\n",
       "      <td>0</td>\n",
       "    </tr>\n",
       "    <tr>\n",
       "      <th>3</th>\n",
       "      <td>1</td>\n",
       "      <td>2</td>\n",
       "      <td>34</td>\n",
       "      <td>3</td>\n",
       "      <td>13</td>\n",
       "      <td>5</td>\n",
       "      <td>0</td>\n",
       "      <td>0</td>\n",
       "      <td>1</td>\n",
       "      <td>0</td>\n",
       "      <td>...</td>\n",
       "      <td>0</td>\n",
       "      <td>6218</td>\n",
       "      <td>5</td>\n",
       "      <td>12</td>\n",
       "      <td>18</td>\n",
       "      <td>5</td>\n",
       "      <td>23</td>\n",
       "      <td>30</td>\n",
       "      <td>5</td>\n",
       "      <td>25</td>\n",
       "    </tr>\n",
       "    <tr>\n",
       "      <th>4</th>\n",
       "      <td>1</td>\n",
       "      <td>0</td>\n",
       "      <td>34</td>\n",
       "      <td>8</td>\n",
       "      <td>13</td>\n",
       "      <td>5</td>\n",
       "      <td>0</td>\n",
       "      <td>0</td>\n",
       "      <td>1</td>\n",
       "      <td>0</td>\n",
       "      <td>...</td>\n",
       "      <td>1</td>\n",
       "      <td>13302</td>\n",
       "      <td>3</td>\n",
       "      <td>1</td>\n",
       "      <td>16</td>\n",
       "      <td>50</td>\n",
       "      <td>21</td>\n",
       "      <td>35</td>\n",
       "      <td>4</td>\n",
       "      <td>45</td>\n",
       "    </tr>\n",
       "  </tbody>\n",
       "</table>\n",
       "<p>5 rows × 35 columns</p>\n",
       "</div>"
      ],
      "text/plain": [
       "   Total_Stops  Route1  Route2  Route3  Route4  Route5  Air India  GoAir  \\\n",
       "0            0       0      13      29      13       5          0      0   \n",
       "1            2       2      25       1       3       5          1      0   \n",
       "2            2       3      32       4       5       5          0      0   \n",
       "3            1       2      34       3      13       5          0      0   \n",
       "4            1       0      34       8      13       5          0      0   \n",
       "\n",
       "   IndiGo  Jet Airways  ...  New Delhi  Price  journey_day  journey_month  \\\n",
       "0       1            0  ...          1   3897           24              3   \n",
       "1       0            0  ...          0   7662            5              1   \n",
       "2       0            1  ...          0  13882            6              9   \n",
       "3       1            0  ...          0   6218            5             12   \n",
       "4       1            0  ...          1  13302            3              1   \n",
       "\n",
       "   Dep_Time_hour  Dep_Time_min  Arrival_Time_hour  Arrival_Time_min  dur_hour  \\\n",
       "0             22            20                  1                10         2   \n",
       "1              5            50                 13                15         7   \n",
       "2              9            25                  4                25        19   \n",
       "3             18             5                 23                30         5   \n",
       "4             16            50                 21                35         4   \n",
       "\n",
       "   dur_min  \n",
       "0       50  \n",
       "1       25  \n",
       "2        0  \n",
       "3       25  \n",
       "4       45  \n",
       "\n",
       "[5 rows x 35 columns]"
      ]
     },
     "execution_count": 68,
     "metadata": {},
     "output_type": "execute_result"
    }
   ],
   "source": [
    "final_df.head()"
   ]
  },
  {
   "cell_type": "code",
   "execution_count": 69,
   "id": "outstanding-mortgage",
   "metadata": {
    "execution": {
     "iopub.execute_input": "2021-06-19T07:44:10.187849Z",
     "iopub.status.busy": "2021-06-19T07:44:10.187190Z",
     "iopub.status.idle": "2021-06-19T07:44:10.207081Z",
     "shell.execute_reply": "2021-06-19T07:44:10.206495Z"
    },
    "papermill": {
     "duration": 0.158311,
     "end_time": "2021-06-19T07:44:10.207219",
     "exception": false,
     "start_time": "2021-06-19T07:44:10.048908",
     "status": "completed"
    },
    "tags": []
   },
   "outputs": [
    {
     "data": {
      "text/html": [
       "<div>\n",
       "<style scoped>\n",
       "    .dataframe tbody tr th:only-of-type {\n",
       "        vertical-align: middle;\n",
       "    }\n",
       "\n",
       "    .dataframe tbody tr th {\n",
       "        vertical-align: top;\n",
       "    }\n",
       "\n",
       "    .dataframe thead th {\n",
       "        text-align: right;\n",
       "    }\n",
       "</style>\n",
       "<table border=\"1\" class=\"dataframe\">\n",
       "  <thead>\n",
       "    <tr style=\"text-align: right;\">\n",
       "      <th></th>\n",
       "      <th>Total_Stops</th>\n",
       "      <th>Route1</th>\n",
       "      <th>Route2</th>\n",
       "      <th>Route3</th>\n",
       "      <th>Route4</th>\n",
       "      <th>Route5</th>\n",
       "      <th>Air India</th>\n",
       "      <th>GoAir</th>\n",
       "      <th>IndiGo</th>\n",
       "      <th>Jet Airways</th>\n",
       "      <th>Jet Airways Business</th>\n",
       "      <th>Multiple carriers</th>\n",
       "      <th>Multiple carriers Premium economy</th>\n",
       "      <th>SpiceJet</th>\n",
       "      <th>Trujet</th>\n",
       "      <th>Vistara</th>\n",
       "      <th>...</th>\n",
       "      <th>Kolkata</th>\n",
       "      <th>Mumbai</th>\n",
       "      <th>Cochin</th>\n",
       "      <th>Delhi</th>\n",
       "      <th>Hyderabad</th>\n",
       "      <th>Kolkata</th>\n",
       "      <th>New Delhi</th>\n",
       "      <th>Price</th>\n",
       "      <th>journey_day</th>\n",
       "      <th>journey_month</th>\n",
       "      <th>Dep_Time_hour</th>\n",
       "      <th>Dep_Time_min</th>\n",
       "      <th>Arrival_Time_hour</th>\n",
       "      <th>Arrival_Time_min</th>\n",
       "      <th>dur_hour</th>\n",
       "      <th>dur_min</th>\n",
       "    </tr>\n",
       "  </thead>\n",
       "  <tbody>\n",
       "    <tr>\n",
       "      <th>0</th>\n",
       "      <td>0</td>\n",
       "      <td>0</td>\n",
       "      <td>13</td>\n",
       "      <td>29</td>\n",
       "      <td>13</td>\n",
       "      <td>5</td>\n",
       "      <td>0</td>\n",
       "      <td>0</td>\n",
       "      <td>1</td>\n",
       "      <td>0</td>\n",
       "      <td>0</td>\n",
       "      <td>0</td>\n",
       "      <td>0</td>\n",
       "      <td>0</td>\n",
       "      <td>0</td>\n",
       "      <td>0</td>\n",
       "      <td>...</td>\n",
       "      <td>0</td>\n",
       "      <td>0</td>\n",
       "      <td>0</td>\n",
       "      <td>0</td>\n",
       "      <td>0</td>\n",
       "      <td>0</td>\n",
       "      <td>1</td>\n",
       "      <td>3897</td>\n",
       "      <td>24</td>\n",
       "      <td>3</td>\n",
       "      <td>22</td>\n",
       "      <td>20</td>\n",
       "      <td>1</td>\n",
       "      <td>10</td>\n",
       "      <td>2</td>\n",
       "      <td>50</td>\n",
       "    </tr>\n",
       "    <tr>\n",
       "      <th>1</th>\n",
       "      <td>2</td>\n",
       "      <td>2</td>\n",
       "      <td>25</td>\n",
       "      <td>1</td>\n",
       "      <td>3</td>\n",
       "      <td>5</td>\n",
       "      <td>1</td>\n",
       "      <td>0</td>\n",
       "      <td>0</td>\n",
       "      <td>0</td>\n",
       "      <td>0</td>\n",
       "      <td>0</td>\n",
       "      <td>0</td>\n",
       "      <td>0</td>\n",
       "      <td>0</td>\n",
       "      <td>0</td>\n",
       "      <td>...</td>\n",
       "      <td>1</td>\n",
       "      <td>0</td>\n",
       "      <td>0</td>\n",
       "      <td>0</td>\n",
       "      <td>0</td>\n",
       "      <td>0</td>\n",
       "      <td>0</td>\n",
       "      <td>7662</td>\n",
       "      <td>5</td>\n",
       "      <td>1</td>\n",
       "      <td>5</td>\n",
       "      <td>50</td>\n",
       "      <td>13</td>\n",
       "      <td>15</td>\n",
       "      <td>7</td>\n",
       "      <td>25</td>\n",
       "    </tr>\n",
       "    <tr>\n",
       "      <th>2</th>\n",
       "      <td>2</td>\n",
       "      <td>3</td>\n",
       "      <td>32</td>\n",
       "      <td>4</td>\n",
       "      <td>5</td>\n",
       "      <td>5</td>\n",
       "      <td>0</td>\n",
       "      <td>0</td>\n",
       "      <td>0</td>\n",
       "      <td>1</td>\n",
       "      <td>0</td>\n",
       "      <td>0</td>\n",
       "      <td>0</td>\n",
       "      <td>0</td>\n",
       "      <td>0</td>\n",
       "      <td>0</td>\n",
       "      <td>...</td>\n",
       "      <td>0</td>\n",
       "      <td>0</td>\n",
       "      <td>1</td>\n",
       "      <td>0</td>\n",
       "      <td>0</td>\n",
       "      <td>0</td>\n",
       "      <td>0</td>\n",
       "      <td>13882</td>\n",
       "      <td>6</td>\n",
       "      <td>9</td>\n",
       "      <td>9</td>\n",
       "      <td>25</td>\n",
       "      <td>4</td>\n",
       "      <td>25</td>\n",
       "      <td>19</td>\n",
       "      <td>0</td>\n",
       "    </tr>\n",
       "    <tr>\n",
       "      <th>3</th>\n",
       "      <td>1</td>\n",
       "      <td>2</td>\n",
       "      <td>34</td>\n",
       "      <td>3</td>\n",
       "      <td>13</td>\n",
       "      <td>5</td>\n",
       "      <td>0</td>\n",
       "      <td>0</td>\n",
       "      <td>1</td>\n",
       "      <td>0</td>\n",
       "      <td>0</td>\n",
       "      <td>0</td>\n",
       "      <td>0</td>\n",
       "      <td>0</td>\n",
       "      <td>0</td>\n",
       "      <td>0</td>\n",
       "      <td>...</td>\n",
       "      <td>1</td>\n",
       "      <td>0</td>\n",
       "      <td>0</td>\n",
       "      <td>0</td>\n",
       "      <td>0</td>\n",
       "      <td>0</td>\n",
       "      <td>0</td>\n",
       "      <td>6218</td>\n",
       "      <td>5</td>\n",
       "      <td>12</td>\n",
       "      <td>18</td>\n",
       "      <td>5</td>\n",
       "      <td>23</td>\n",
       "      <td>30</td>\n",
       "      <td>5</td>\n",
       "      <td>25</td>\n",
       "    </tr>\n",
       "    <tr>\n",
       "      <th>4</th>\n",
       "      <td>1</td>\n",
       "      <td>0</td>\n",
       "      <td>34</td>\n",
       "      <td>8</td>\n",
       "      <td>13</td>\n",
       "      <td>5</td>\n",
       "      <td>0</td>\n",
       "      <td>0</td>\n",
       "      <td>1</td>\n",
       "      <td>0</td>\n",
       "      <td>0</td>\n",
       "      <td>0</td>\n",
       "      <td>0</td>\n",
       "      <td>0</td>\n",
       "      <td>0</td>\n",
       "      <td>0</td>\n",
       "      <td>...</td>\n",
       "      <td>0</td>\n",
       "      <td>0</td>\n",
       "      <td>0</td>\n",
       "      <td>0</td>\n",
       "      <td>0</td>\n",
       "      <td>0</td>\n",
       "      <td>1</td>\n",
       "      <td>13302</td>\n",
       "      <td>3</td>\n",
       "      <td>1</td>\n",
       "      <td>16</td>\n",
       "      <td>50</td>\n",
       "      <td>21</td>\n",
       "      <td>35</td>\n",
       "      <td>4</td>\n",
       "      <td>45</td>\n",
       "    </tr>\n",
       "  </tbody>\n",
       "</table>\n",
       "<p>5 rows × 35 columns</p>\n",
       "</div>"
      ],
      "text/plain": [
       "   Total_Stops  Route1  Route2  Route3  Route4  Route5  Air India  GoAir  \\\n",
       "0            0       0      13      29      13       5          0      0   \n",
       "1            2       2      25       1       3       5          1      0   \n",
       "2            2       3      32       4       5       5          0      0   \n",
       "3            1       2      34       3      13       5          0      0   \n",
       "4            1       0      34       8      13       5          0      0   \n",
       "\n",
       "   IndiGo  Jet Airways  Jet Airways Business  Multiple carriers  \\\n",
       "0       1            0                     0                  0   \n",
       "1       0            0                     0                  0   \n",
       "2       0            1                     0                  0   \n",
       "3       1            0                     0                  0   \n",
       "4       1            0                     0                  0   \n",
       "\n",
       "   Multiple carriers Premium economy  SpiceJet  Trujet  Vistara  ...  Kolkata  \\\n",
       "0                                  0         0       0        0  ...        0   \n",
       "1                                  0         0       0        0  ...        1   \n",
       "2                                  0         0       0        0  ...        0   \n",
       "3                                  0         0       0        0  ...        1   \n",
       "4                                  0         0       0        0  ...        0   \n",
       "\n",
       "   Mumbai  Cochin  Delhi  Hyderabad  Kolkata  New Delhi  Price  journey_day  \\\n",
       "0       0       0      0          0        0          1   3897           24   \n",
       "1       0       0      0          0        0          0   7662            5   \n",
       "2       0       1      0          0        0          0  13882            6   \n",
       "3       0       0      0          0        0          0   6218            5   \n",
       "4       0       0      0          0        0          1  13302            3   \n",
       "\n",
       "   journey_month  Dep_Time_hour  Dep_Time_min  Arrival_Time_hour  \\\n",
       "0              3             22            20                  1   \n",
       "1              1              5            50                 13   \n",
       "2              9              9            25                  4   \n",
       "3             12             18             5                 23   \n",
       "4              1             16            50                 21   \n",
       "\n",
       "   Arrival_Time_min  dur_hour  dur_min  \n",
       "0                10         2       50  \n",
       "1                15         7       25  \n",
       "2                25        19        0  \n",
       "3                30         5       25  \n",
       "4                35         4       45  \n",
       "\n",
       "[5 rows x 35 columns]"
      ]
     },
     "execution_count": 69,
     "metadata": {},
     "output_type": "execute_result"
    }
   ],
   "source": [
    "pd.set_option('display.max_columns',33)\n",
    "final_df.head()"
   ]
  },
  {
   "cell_type": "markdown",
   "id": "comparative-garage",
   "metadata": {
    "papermill": {
     "duration": 0.133682,
     "end_time": "2021-06-19T07:44:10.475678",
     "exception": false,
     "start_time": "2021-06-19T07:44:10.341996",
     "status": "completed"
    },
    "tags": []
   },
   "source": [
    "## Check For Outliers \n"
   ]
  },
  {
   "cell_type": "code",
   "execution_count": 70,
   "id": "exterior-thomson",
   "metadata": {
    "execution": {
     "iopub.execute_input": "2021-06-19T07:44:10.734558Z",
     "iopub.status.busy": "2021-06-19T07:44:10.734005Z",
     "iopub.status.idle": "2021-06-19T07:44:10.738469Z",
     "shell.execute_reply": "2021-06-19T07:44:10.737957Z"
    },
    "papermill": {
     "duration": 0.132726,
     "end_time": "2021-06-19T07:44:10.738580",
     "exception": false,
     "start_time": "2021-06-19T07:44:10.605854",
     "status": "completed"
    },
    "tags": []
   },
   "outputs": [],
   "source": [
    "def plot(data,col):\n",
    "    fig,(ax1,ax2)=plt.subplots(2,1)\n",
    "    sns.distplot(data[col],ax=ax1)\n",
    "    sns.boxplot(data[col],ax=ax2)"
   ]
  },
  {
   "cell_type": "code",
   "execution_count": 71,
   "id": "second-debate",
   "metadata": {
    "execution": {
     "iopub.execute_input": "2021-06-19T07:44:10.919145Z",
     "iopub.status.busy": "2021-06-19T07:44:10.918681Z",
     "iopub.status.idle": "2021-06-19T07:44:11.371113Z",
     "shell.execute_reply": "2021-06-19T07:44:11.369844Z"
    },
    "papermill": {
     "duration": 0.543875,
     "end_time": "2021-06-19T07:44:11.371228",
     "exception": false,
     "start_time": "2021-06-19T07:44:10.827353",
     "status": "completed"
    },
    "tags": []
   },
   "outputs": [
    {
     "data": {
      "image/png": "[encoded data removed]",
      "text/plain": [
       "<Figure size 432x288 with 2 Axes>"
      ]
     },
     "metadata": {
      "needs_background": "light"
     },
     "output_type": "display_data"
    }
   ],
   "source": [
    "plot(final_df,'Price')"
   ]
  },
  {
   "cell_type": "markdown",
   "id": "periodic-telephone",
   "metadata": {
    "papermill": {
     "duration": 0.088298,
     "end_time": "2021-06-19T07:44:11.544944",
     "exception": false,
     "start_time": "2021-06-19T07:44:11.456646",
     "status": "completed"
    },
    "tags": []
   },
   "source": [
    "###  Handling outliers:\n",
    "#### As there is some outliers in price feature,so we replace it  with median."
   ]
  },
  {
   "cell_type": "code",
   "execution_count": 72,
   "id": "determined-detection",
   "metadata": {
    "execution": {
     "iopub.execute_input": "2021-06-19T07:44:11.731529Z",
     "iopub.status.busy": "2021-06-19T07:44:11.731004Z",
     "iopub.status.idle": "2021-06-19T07:44:11.735996Z",
     "shell.execute_reply": "2021-06-19T07:44:11.736329Z"
    },
    "papermill": {
     "duration": 0.101024,
     "end_time": "2021-06-19T07:44:11.736475",
     "exception": false,
     "start_time": "2021-06-19T07:44:11.635451",
     "status": "completed"
    },
    "tags": []
   },
   "outputs": [],
   "source": [
    "final_df['Price']=np.where(final_df['Price']>=40000,final_df['Price'].median(),final_df['Price'])"
   ]
  },
  {
   "cell_type": "code",
   "execution_count": 73,
   "id": "roman-denver",
   "metadata": {
    "execution": {
     "iopub.execute_input": "2021-06-19T07:44:11.963066Z",
     "iopub.status.busy": "2021-06-19T07:44:11.960013Z",
     "iopub.status.idle": "2021-06-19T07:44:12.369458Z",
     "shell.execute_reply": "2021-06-19T07:44:12.370033Z"
    },
    "papermill": {
     "duration": 0.547578,
     "end_time": "2021-06-19T07:44:12.370202",
     "exception": false,
     "start_time": "2021-06-19T07:44:11.822624",
     "status": "completed"
    },
    "tags": []
   },
   "outputs": [
    {
     "data": {
      "image/png": "[encoded data removed]",
      "text/plain": [
       "<Figure size 432x288 with 2 Axes>"
      ]
     },
     "metadata": {
      "needs_background": "light"
     },
     "output_type": "display_data"
    }
   ],
   "source": [
    "plot(final_df,'Price')"
   ]
  },
  {
   "cell_type": "markdown",
   "id": "instrumental-economics",
   "metadata": {
    "papermill": {
     "duration": 0.13574,
     "end_time": "2021-06-19T07:44:12.645985",
     "exception": false,
     "start_time": "2021-06-19T07:44:12.510245",
     "status": "completed"
    },
    "tags": []
   },
   "source": [
    "### Seprate the dataset in X and Y columns"
   ]
  },
  {
   "cell_type": "code",
   "execution_count": 74,
   "id": "veterinary-beauty",
   "metadata": {
    "execution": {
     "iopub.execute_input": "2021-06-19T07:44:12.924653Z",
     "iopub.status.busy": "2021-06-19T07:44:12.924009Z",
     "iopub.status.idle": "2021-06-19T07:44:12.928685Z",
     "shell.execute_reply": "2021-06-19T07:44:12.928116Z"
    },
    "papermill": {
     "duration": 0.146673,
     "end_time": "2021-06-19T07:44:12.928841",
     "exception": false,
     "start_time": "2021-06-19T07:44:12.782168",
     "status": "completed"
    },
    "tags": []
   },
   "outputs": [],
   "source": [
    "X=final_df.drop('Price',axis=1)\n",
    "y=df['Price']"
   ]
  },
  {
   "cell_type": "markdown",
   "id": "wound-spirit",
   "metadata": {
    "papermill": {
     "duration": 0.150065,
     "end_time": "2021-06-19T07:44:13.218103",
     "exception": false,
     "start_time": "2021-06-19T07:44:13.068038",
     "status": "completed"
    },
    "tags": []
   },
   "source": [
    "# Feature Selection \n",
    "It is about finding the best feature and having good relation with independent variable                                  \n",
    "Issue of dimensionality reduction reduces.\n",
    "\n",
    "For this we use mutual_info_classif"
   ]
  },
  {
   "cell_type": "code",
   "execution_count": 75,
   "id": "metallic-arbitration",
   "metadata": {
    "execution": {
     "iopub.execute_input": "2021-06-19T07:44:13.511050Z",
     "iopub.status.busy": "2021-06-19T07:44:13.510325Z",
     "iopub.status.idle": "2021-06-19T07:44:13.729020Z",
     "shell.execute_reply": "2021-06-19T07:44:13.728419Z"
    },
    "papermill": {
     "duration": 0.367293,
     "end_time": "2021-06-19T07:44:13.729157",
     "exception": false,
     "start_time": "2021-06-19T07:44:13.361864",
     "status": "completed"
    },
    "tags": []
   },
   "outputs": [],
   "source": [
    "from sklearn.feature_selection import mutual_info_classif\n"
   ]
  },
  {
   "cell_type": "code",
   "execution_count": 76,
   "id": "sweet-cocktail",
   "metadata": {
    "execution": {
     "iopub.execute_input": "2021-06-19T07:44:14.007251Z",
     "iopub.status.busy": "2021-06-19T07:44:14.006644Z",
     "iopub.status.idle": "2021-06-19T07:44:38.443062Z",
     "shell.execute_reply": "2021-06-19T07:44:38.442427Z"
    },
    "papermill": {
     "duration": 24.575951,
     "end_time": "2021-06-19T07:44:38.443188",
     "exception": false,
     "start_time": "2021-06-19T07:44:13.867237",
     "status": "completed"
    },
    "tags": []
   },
   "outputs": [
    {
     "data": {
      "text/plain": [
       "array([2.16223629, 2.03368226, 2.8035073 , 2.26656909, 1.42336764,\n",
       "       0.80768142, 0.75324512, 0.08885922, 0.65520088, 0.92906146,\n",
       "       0.        , 0.57121503, 0.01929771, 0.3245576 , 0.00673809,\n",
       "       0.22035043, 0.00464517, 0.16719711, 1.51157282, 0.89239893,\n",
       "       0.29690884, 1.56525148, 0.39759106, 0.29358715, 0.17937667,\n",
       "       0.38226184, 1.07528966, 0.89244392, 1.45895411, 1.20432009,\n",
       "       1.84988077, 1.52294272, 1.78945957, 1.08789906])"
      ]
     },
     "execution_count": 76,
     "metadata": {},
     "output_type": "execute_result"
    }
   ],
   "source": [
    "mutual_info_classif(X,y)"
   ]
  },
  {
   "cell_type": "code",
   "execution_count": 77,
   "id": "southwest-reference",
   "metadata": {
    "execution": {
     "iopub.execute_input": "2021-06-19T07:44:38.724921Z",
     "iopub.status.busy": "2021-06-19T07:44:38.724091Z",
     "iopub.status.idle": "2021-06-19T07:45:03.338577Z",
     "shell.execute_reply": "2021-06-19T07:45:03.338020Z"
    },
    "papermill": {
     "duration": 24.757377,
     "end_time": "2021-06-19T07:45:03.338745",
     "exception": false,
     "start_time": "2021-06-19T07:44:38.581368",
     "status": "completed"
    },
    "tags": []
   },
   "outputs": [
    {
     "data": {
      "text/html": [
       "<div>\n",
       "<style scoped>\n",
       "    .dataframe tbody tr th:only-of-type {\n",
       "        vertical-align: middle;\n",
       "    }\n",
       "\n",
       "    .dataframe tbody tr th {\n",
       "        vertical-align: top;\n",
       "    }\n",
       "\n",
       "    .dataframe thead th {\n",
       "        text-align: right;\n",
       "    }\n",
       "</style>\n",
       "<table border=\"1\" class=\"dataframe\">\n",
       "  <thead>\n",
       "    <tr style=\"text-align: right;\">\n",
       "      <th></th>\n",
       "      <th>0</th>\n",
       "    </tr>\n",
       "  </thead>\n",
       "  <tbody>\n",
       "    <tr>\n",
       "      <th>Total_Stops</th>\n",
       "      <td>2.169140</td>\n",
       "    </tr>\n",
       "    <tr>\n",
       "      <th>Route1</th>\n",
       "      <td>2.080196</td>\n",
       "    </tr>\n",
       "    <tr>\n",
       "      <th>Route2</th>\n",
       "      <td>2.773248</td>\n",
       "    </tr>\n",
       "    <tr>\n",
       "      <th>Route3</th>\n",
       "      <td>2.321282</td>\n",
       "    </tr>\n",
       "    <tr>\n",
       "      <th>Route4</th>\n",
       "      <td>1.461545</td>\n",
       "    </tr>\n",
       "    <tr>\n",
       "      <th>Route5</th>\n",
       "      <td>0.769548</td>\n",
       "    </tr>\n",
       "    <tr>\n",
       "      <th>Air India</th>\n",
       "      <td>0.774447</td>\n",
       "    </tr>\n",
       "    <tr>\n",
       "      <th>GoAir</th>\n",
       "      <td>0.097101</td>\n",
       "    </tr>\n",
       "    <tr>\n",
       "      <th>IndiGo</th>\n",
       "      <td>0.676455</td>\n",
       "    </tr>\n",
       "    <tr>\n",
       "      <th>Jet Airways</th>\n",
       "      <td>0.913265</td>\n",
       "    </tr>\n",
       "    <tr>\n",
       "      <th>Jet Airways Business</th>\n",
       "      <td>0.000000</td>\n",
       "    </tr>\n",
       "    <tr>\n",
       "      <th>Multiple carriers</th>\n",
       "      <td>0.566224</td>\n",
       "    </tr>\n",
       "    <tr>\n",
       "      <th>Multiple carriers Premium economy</th>\n",
       "      <td>0.016219</td>\n",
       "    </tr>\n",
       "    <tr>\n",
       "      <th>SpiceJet</th>\n",
       "      <td>0.314821</td>\n",
       "    </tr>\n",
       "    <tr>\n",
       "      <th>Trujet</th>\n",
       "      <td>0.000000</td>\n",
       "    </tr>\n",
       "    <tr>\n",
       "      <th>Vistara</th>\n",
       "      <td>0.229158</td>\n",
       "    </tr>\n",
       "    <tr>\n",
       "      <th>Vistara Premium economy</th>\n",
       "      <td>0.000252</td>\n",
       "    </tr>\n",
       "    <tr>\n",
       "      <th>Chennai</th>\n",
       "      <td>0.175350</td>\n",
       "    </tr>\n",
       "    <tr>\n",
       "      <th>Delhi</th>\n",
       "      <td>1.547897</td>\n",
       "    </tr>\n",
       "    <tr>\n",
       "      <th>Kolkata</th>\n",
       "      <td>0.878702</td>\n",
       "    </tr>\n",
       "    <tr>\n",
       "      <th>Mumbai</th>\n",
       "      <td>0.321901</td>\n",
       "    </tr>\n",
       "    <tr>\n",
       "      <th>Cochin</th>\n",
       "      <td>1.531885</td>\n",
       "    </tr>\n",
       "    <tr>\n",
       "      <th>Delhi</th>\n",
       "      <td>0.420942</td>\n",
       "    </tr>\n",
       "    <tr>\n",
       "      <th>Hyderabad</th>\n",
       "      <td>0.286220</td>\n",
       "    </tr>\n",
       "    <tr>\n",
       "      <th>Kolkata</th>\n",
       "      <td>0.168674</td>\n",
       "    </tr>\n",
       "    <tr>\n",
       "      <th>New Delhi</th>\n",
       "      <td>0.381321</td>\n",
       "    </tr>\n",
       "    <tr>\n",
       "      <th>journey_day</th>\n",
       "      <td>1.055552</td>\n",
       "    </tr>\n",
       "    <tr>\n",
       "      <th>journey_month</th>\n",
       "      <td>0.863769</td>\n",
       "    </tr>\n",
       "    <tr>\n",
       "      <th>Dep_Time_hour</th>\n",
       "      <td>1.418760</td>\n",
       "    </tr>\n",
       "    <tr>\n",
       "      <th>Dep_Time_min</th>\n",
       "      <td>1.217374</td>\n",
       "    </tr>\n",
       "    <tr>\n",
       "      <th>Arrival_Time_hour</th>\n",
       "      <td>1.874790</td>\n",
       "    </tr>\n",
       "    <tr>\n",
       "      <th>Arrival_Time_min</th>\n",
       "      <td>1.563630</td>\n",
       "    </tr>\n",
       "    <tr>\n",
       "      <th>dur_hour</th>\n",
       "      <td>1.776536</td>\n",
       "    </tr>\n",
       "    <tr>\n",
       "      <th>dur_min</th>\n",
       "      <td>1.084851</td>\n",
       "    </tr>\n",
       "  </tbody>\n",
       "</table>\n",
       "</div>"
      ],
      "text/plain": [
       "                                          0\n",
       "Total_Stops                        2.169140\n",
       "Route1                             2.080196\n",
       "Route2                             2.773248\n",
       "Route3                             2.321282\n",
       "Route4                             1.461545\n",
       "Route5                             0.769548\n",
       "Air India                          0.774447\n",
       "GoAir                              0.097101\n",
       "IndiGo                             0.676455\n",
       "Jet Airways                        0.913265\n",
       "Jet Airways Business               0.000000\n",
       "Multiple carriers                  0.566224\n",
       "Multiple carriers Premium economy  0.016219\n",
       "SpiceJet                           0.314821\n",
       "Trujet                             0.000000\n",
       "Vistara                            0.229158\n",
       "Vistara Premium economy            0.000252\n",
       "Chennai                            0.175350\n",
       "Delhi                              1.547897\n",
       "Kolkata                            0.878702\n",
       "Mumbai                             0.321901\n",
       "Cochin                             1.531885\n",
       "Delhi                              0.420942\n",
       "Hyderabad                          0.286220\n",
       "Kolkata                            0.168674\n",
       "New Delhi                          0.381321\n",
       "journey_day                        1.055552\n",
       "journey_month                      0.863769\n",
       "Dep_Time_hour                      1.418760\n",
       "Dep_Time_min                       1.217374\n",
       "Arrival_Time_hour                  1.874790\n",
       "Arrival_Time_min                   1.563630\n",
       "dur_hour                           1.776536\n",
       "dur_min                            1.084851"
      ]
     },
     "execution_count": 77,
     "metadata": {},
     "output_type": "execute_result"
    }
   ],
   "source": [
    "imp = pd.DataFrame(mutual_info_classif(X,y),index=X.columns)\n",
    "imp"
   ]
  },
  {
   "cell_type": "code",
   "execution_count": 78,
   "id": "amino-onion",
   "metadata": {
    "execution": {
     "iopub.execute_input": "2021-06-19T07:45:03.627167Z",
     "iopub.status.busy": "2021-06-19T07:45:03.626495Z",
     "iopub.status.idle": "2021-06-19T07:45:03.630205Z",
     "shell.execute_reply": "2021-06-19T07:45:03.629574Z"
    },
    "papermill": {
     "duration": 0.153209,
     "end_time": "2021-06-19T07:45:03.630333",
     "exception": false,
     "start_time": "2021-06-19T07:45:03.477124",
     "status": "completed"
    },
    "tags": []
   },
   "outputs": [
    {
     "data": {
      "text/html": [
       "<div>\n",
       "<style scoped>\n",
       "    .dataframe tbody tr th:only-of-type {\n",
       "        vertical-align: middle;\n",
       "    }\n",
       "\n",
       "    .dataframe tbody tr th {\n",
       "        vertical-align: top;\n",
       "    }\n",
       "\n",
       "    .dataframe thead th {\n",
       "        text-align: right;\n",
       "    }\n",
       "</style>\n",
       "<table border=\"1\" class=\"dataframe\">\n",
       "  <thead>\n",
       "    <tr style=\"text-align: right;\">\n",
       "      <th></th>\n",
       "      <th>importance</th>\n",
       "    </tr>\n",
       "  </thead>\n",
       "  <tbody>\n",
       "    <tr>\n",
       "      <th>Route2</th>\n",
       "      <td>2.773248</td>\n",
       "    </tr>\n",
       "    <tr>\n",
       "      <th>Route3</th>\n",
       "      <td>2.321282</td>\n",
       "    </tr>\n",
       "    <tr>\n",
       "      <th>Total_Stops</th>\n",
       "      <td>2.169140</td>\n",
       "    </tr>\n",
       "    <tr>\n",
       "      <th>Route1</th>\n",
       "      <td>2.080196</td>\n",
       "    </tr>\n",
       "    <tr>\n",
       "      <th>Arrival_Time_hour</th>\n",
       "      <td>1.874790</td>\n",
       "    </tr>\n",
       "    <tr>\n",
       "      <th>dur_hour</th>\n",
       "      <td>1.776536</td>\n",
       "    </tr>\n",
       "    <tr>\n",
       "      <th>Arrival_Time_min</th>\n",
       "      <td>1.563630</td>\n",
       "    </tr>\n",
       "    <tr>\n",
       "      <th>Delhi</th>\n",
       "      <td>1.547897</td>\n",
       "    </tr>\n",
       "    <tr>\n",
       "      <th>Cochin</th>\n",
       "      <td>1.531885</td>\n",
       "    </tr>\n",
       "    <tr>\n",
       "      <th>Route4</th>\n",
       "      <td>1.461545</td>\n",
       "    </tr>\n",
       "    <tr>\n",
       "      <th>Dep_Time_hour</th>\n",
       "      <td>1.418760</td>\n",
       "    </tr>\n",
       "    <tr>\n",
       "      <th>Dep_Time_min</th>\n",
       "      <td>1.217374</td>\n",
       "    </tr>\n",
       "    <tr>\n",
       "      <th>dur_min</th>\n",
       "      <td>1.084851</td>\n",
       "    </tr>\n",
       "    <tr>\n",
       "      <th>journey_day</th>\n",
       "      <td>1.055552</td>\n",
       "    </tr>\n",
       "    <tr>\n",
       "      <th>Jet Airways</th>\n",
       "      <td>0.913265</td>\n",
       "    </tr>\n",
       "    <tr>\n",
       "      <th>Kolkata</th>\n",
       "      <td>0.878702</td>\n",
       "    </tr>\n",
       "    <tr>\n",
       "      <th>journey_month</th>\n",
       "      <td>0.863769</td>\n",
       "    </tr>\n",
       "    <tr>\n",
       "      <th>Air India</th>\n",
       "      <td>0.774447</td>\n",
       "    </tr>\n",
       "    <tr>\n",
       "      <th>Route5</th>\n",
       "      <td>0.769548</td>\n",
       "    </tr>\n",
       "    <tr>\n",
       "      <th>IndiGo</th>\n",
       "      <td>0.676455</td>\n",
       "    </tr>\n",
       "    <tr>\n",
       "      <th>Multiple carriers</th>\n",
       "      <td>0.566224</td>\n",
       "    </tr>\n",
       "    <tr>\n",
       "      <th>Delhi</th>\n",
       "      <td>0.420942</td>\n",
       "    </tr>\n",
       "    <tr>\n",
       "      <th>New Delhi</th>\n",
       "      <td>0.381321</td>\n",
       "    </tr>\n",
       "    <tr>\n",
       "      <th>Mumbai</th>\n",
       "      <td>0.321901</td>\n",
       "    </tr>\n",
       "    <tr>\n",
       "      <th>SpiceJet</th>\n",
       "      <td>0.314821</td>\n",
       "    </tr>\n",
       "    <tr>\n",
       "      <th>Hyderabad</th>\n",
       "      <td>0.286220</td>\n",
       "    </tr>\n",
       "    <tr>\n",
       "      <th>Vistara</th>\n",
       "      <td>0.229158</td>\n",
       "    </tr>\n",
       "    <tr>\n",
       "      <th>Chennai</th>\n",
       "      <td>0.175350</td>\n",
       "    </tr>\n",
       "    <tr>\n",
       "      <th>Kolkata</th>\n",
       "      <td>0.168674</td>\n",
       "    </tr>\n",
       "    <tr>\n",
       "      <th>GoAir</th>\n",
       "      <td>0.097101</td>\n",
       "    </tr>\n",
       "    <tr>\n",
       "      <th>Multiple carriers Premium economy</th>\n",
       "      <td>0.016219</td>\n",
       "    </tr>\n",
       "    <tr>\n",
       "      <th>Vistara Premium economy</th>\n",
       "      <td>0.000252</td>\n",
       "    </tr>\n",
       "    <tr>\n",
       "      <th>Trujet</th>\n",
       "      <td>0.000000</td>\n",
       "    </tr>\n",
       "    <tr>\n",
       "      <th>Jet Airways Business</th>\n",
       "      <td>0.000000</td>\n",
       "    </tr>\n",
       "  </tbody>\n",
       "</table>\n",
       "</div>"
      ],
      "text/plain": [
       "                                   importance\n",
       "Route2                               2.773248\n",
       "Route3                               2.321282\n",
       "Total_Stops                          2.169140\n",
       "Route1                               2.080196\n",
       "Arrival_Time_hour                    1.874790\n",
       "dur_hour                             1.776536\n",
       "Arrival_Time_min                     1.563630\n",
       "Delhi                                1.547897\n",
       "Cochin                               1.531885\n",
       "Route4                               1.461545\n",
       "Dep_Time_hour                        1.418760\n",
       "Dep_Time_min                         1.217374\n",
       "dur_min                              1.084851\n",
       "journey_day                          1.055552\n",
       "Jet Airways                          0.913265\n",
       "Kolkata                              0.878702\n",
       "journey_month                        0.863769\n",
       "Air India                            0.774447\n",
       "Route5                               0.769548\n",
       "IndiGo                               0.676455\n",
       "Multiple carriers                    0.566224\n",
       "Delhi                                0.420942\n",
       "New Delhi                            0.381321\n",
       "Mumbai                               0.321901\n",
       "SpiceJet                             0.314821\n",
       "Hyderabad                            0.286220\n",
       "Vistara                              0.229158\n",
       "Chennai                              0.175350\n",
       "Kolkata                              0.168674\n",
       "GoAir                                0.097101\n",
       "Multiple carriers Premium economy    0.016219\n",
       "Vistara Premium economy              0.000252\n",
       "Trujet                               0.000000\n",
       "Jet Airways Business                 0.000000"
      ]
     },
     "execution_count": 78,
     "metadata": {},
     "output_type": "execute_result"
    }
   ],
   "source": [
    "imp.columns=['importance']\n",
    "imp.sort_values(by='importance',ascending=False)"
   ]
  },
  {
   "cell_type": "markdown",
   "id": "operating-invention",
   "metadata": {
    "papermill": {
     "duration": 0.139438,
     "end_time": "2021-06-19T07:45:03.908874",
     "exception": false,
     "start_time": "2021-06-19T07:45:03.769436",
     "status": "completed"
    },
    "tags": []
   },
   "source": [
    "As we can see from the table, there are several features that have approx 0 value,so we should remove it after authorizing it.But for now,we are not removing it."
   ]
  },
  {
   "cell_type": "markdown",
   "id": "usual-committee",
   "metadata": {
    "papermill": {
     "duration": 0.140127,
     "end_time": "2021-06-19T07:45:04.188201",
     "exception": false,
     "start_time": "2021-06-19T07:45:04.048074",
     "status": "completed"
    },
    "tags": []
   },
   "source": [
    "# Models"
   ]
  },
  {
   "cell_type": "code",
   "execution_count": 79,
   "id": "floral-module",
   "metadata": {
    "execution": {
     "iopub.execute_input": "2021-06-19T07:45:04.474299Z",
     "iopub.status.busy": "2021-06-19T07:45:04.473682Z",
     "iopub.status.idle": "2021-06-19T07:45:04.481052Z",
     "shell.execute_reply": "2021-06-19T07:45:04.480459Z"
    },
    "papermill": {
     "duration": 0.152907,
     "end_time": "2021-06-19T07:45:04.481190",
     "exception": false,
     "start_time": "2021-06-19T07:45:04.328283",
     "status": "completed"
    },
    "tags": []
   },
   "outputs": [],
   "source": [
    "# spiliting the dataset\n",
    "from sklearn.model_selection import train_test_split\n",
    "X_train,X_test,y_train,y_test = train_test_split(X,y,test_size=0.20,random_state=123)"
   ]
  },
  {
   "cell_type": "code",
   "execution_count": 80,
   "id": "artistic-notion",
   "metadata": {
    "execution": {
     "iopub.execute_input": "2021-06-19T07:45:04.760258Z",
     "iopub.status.busy": "2021-06-19T07:45:04.759582Z",
     "iopub.status.idle": "2021-06-19T07:45:04.769553Z",
     "shell.execute_reply": "2021-06-19T07:45:04.769049Z"
    },
    "papermill": {
     "duration": 0.150623,
     "end_time": "2021-06-19T07:45:04.769666",
     "exception": false,
     "start_time": "2021-06-19T07:45:04.619043",
     "status": "completed"
    },
    "tags": []
   },
   "outputs": [],
   "source": [
    "from sklearn.metrics import r2_score,mean_absolute_error,mean_squared_error\n",
    "def predict(ml_model):\n",
    "    print('Model is: {}'.format(ml_model))\n",
    "    model= ml_model.fit(X_train,y_train)\n",
    "    print(\"Training score: {}\".format(model.score(X_train,y_train)))\n",
    "    predictions = model.predict(X_test)\n",
    "    print(\"Predictions are: {}\".format(predictions))\n",
    "    print('\\n')\n",
    "    r2score=r2_score(y_test,predictions) \n",
    "    print(\"r2 score is: {}\".format(r2score))\n",
    "          \n",
    "    print('MAE:{}'.format(mean_absolute_error(y_test,predictions)))\n",
    "    print('MSE:{}'.format(mean_squared_error(y_test,predictions)))\n",
    "    print('RMSE:{}'.format(np.sqrt(mean_squared_error(y_test,predictions))))\n",
    "     \n",
    "    sns.distplot(y_test-predictions)      \n",
    "          "
   ]
  },
  {
   "cell_type": "code",
   "execution_count": 81,
   "id": "polish-burning",
   "metadata": {
    "execution": {
     "iopub.execute_input": "2021-06-19T07:45:04.960376Z",
     "iopub.status.busy": "2021-06-19T07:45:04.959935Z",
     "iopub.status.idle": "2021-06-19T07:45:05.035576Z",
     "shell.execute_reply": "2021-06-19T07:45:05.036007Z"
    },
    "papermill": {
     "duration": 0.174075,
     "end_time": "2021-06-19T07:45:05.036154",
     "exception": false,
     "start_time": "2021-06-19T07:45:04.862079",
     "status": "completed"
    },
    "tags": []
   },
   "outputs": [],
   "source": [
    "from sklearn.linear_model import LogisticRegression\n",
    "from sklearn.neighbors import KNeighborsRegressor\n",
    "from sklearn.tree import DecisionTreeRegressor\n",
    "from sklearn.ensemble import GradientBoostingRegressor,RandomForestRegressor\n"
   ]
  },
  {
   "cell_type": "code",
   "execution_count": 82,
   "id": "german-thousand",
   "metadata": {
    "execution": {
     "iopub.execute_input": "2021-06-19T07:45:05.224102Z",
     "iopub.status.busy": "2021-06-19T07:45:05.223606Z",
     "iopub.status.idle": "2021-06-19T07:45:09.216392Z",
     "shell.execute_reply": "2021-06-19T07:45:09.216905Z"
    },
    "papermill": {
     "duration": 4.088675,
     "end_time": "2021-06-19T07:45:09.217093",
     "exception": false,
     "start_time": "2021-06-19T07:45:05.128418",
     "status": "completed"
    },
    "tags": []
   },
   "outputs": [
    {
     "name": "stdout",
     "output_type": "stream",
     "text": [
      "Model is: RandomForestRegressor()\n",
      "Training score: 0.9525083289103332\n",
      "Predictions are: [ 8592.99333333 17079.22666667 13758.425      ...  3773.37\n",
      "  5459.67       10659.1845    ]\n",
      "\n",
      "\n",
      "r2 score is: 0.8392087847779541\n",
      "MAE:1091.4982559875782\n",
      "MSE:3096143.7938863514\n",
      "RMSE:1759.5862564496097\n"
     ]
    },
    {
     "data": {
      "image/png": "[encoded data removed]",
      "text/plain": [
       "<Figure size 432x288 with 1 Axes>"
      ]
     },
     "metadata": {
      "needs_background": "light"
     },
     "output_type": "display_data"
    }
   ],
   "source": [
    "\n",
    "predict(RandomForestRegressor())"
   ]
  },
  {
   "cell_type": "markdown",
   "id": "approved-overhead",
   "metadata": {
    "papermill": {
     "duration": 0.140357,
     "end_time": "2021-06-19T07:45:09.497544",
     "exception": false,
     "start_time": "2021-06-19T07:45:09.357187",
     "status": "completed"
    },
    "tags": []
   },
   "source": [
    "From the graph,it is clear that we predicted 84% correctly."
   ]
  },
  {
   "cell_type": "code",
   "execution_count": 83,
   "id": "grave-feeling",
   "metadata": {
    "execution": {
     "iopub.execute_input": "2021-06-19T07:45:09.782075Z",
     "iopub.status.busy": "2021-06-19T07:45:09.781451Z",
     "iopub.status.idle": "2021-06-19T07:47:25.108037Z",
     "shell.execute_reply": "2021-06-19T07:47:25.107492Z"
    },
    "papermill": {
     "duration": 135.470926,
     "end_time": "2021-06-19T07:47:25.108180",
     "exception": false,
     "start_time": "2021-06-19T07:45:09.637254",
     "status": "completed"
    },
    "tags": []
   },
   "outputs": [
    {
     "name": "stdout",
     "output_type": "stream",
     "text": [
      "Model is: LogisticRegression()\n",
      "Training score: 0.3356348741954359\n",
      "Predictions are: [14571 15237 10844 ...  4226  7408 10262]\n",
      "\n",
      "\n",
      "r2 score is: 0.44250914423182064\n",
      "MAE:1872.6485727655593\n",
      "MSE:10734864.158165652\n",
      "RMSE:3276.4102548621186\n"
     ]
    },
    {
     "data": {
      "image/png": "[encoded data removed]",
      "text/plain": [
       "<Figure size 432x288 with 1 Axes>"
      ]
     },
     "metadata": {
      "needs_background": "light"
     },
     "output_type": "display_data"
    }
   ],
   "source": [
    "predict(LogisticRegression())\n",
    "\n",
    "    "
   ]
  },
  {
   "cell_type": "code",
   "execution_count": 84,
   "id": "similar-ebony",
   "metadata": {
    "execution": {
     "iopub.execute_input": "2021-06-19T07:47:25.413623Z",
     "iopub.status.busy": "2021-06-19T07:47:25.412829Z",
     "iopub.status.idle": "2021-06-19T07:47:27.289160Z",
     "shell.execute_reply": "2021-06-19T07:47:27.289655Z"
    },
    "papermill": {
     "duration": 2.035566,
     "end_time": "2021-06-19T07:47:27.289852",
     "exception": false,
     "start_time": "2021-06-19T07:47:25.254286",
     "status": "completed"
    },
    "tags": []
   },
   "outputs": [
    {
     "name": "stdout",
     "output_type": "stream",
     "text": [
      "Model is: KNeighborsRegressor()\n",
      "Training score: 0.746380546942052\n",
      "Predictions are: [10401.2 16362.4 12933.2 ...  4210.   9073.  11232.4]\n",
      "\n",
      "\n",
      "r2 score is: 0.6544658783016435\n",
      "MAE:1700.4507253158633\n",
      "MSE:6653493.631445953\n",
      "RMSE:2579.436688784191\n"
     ]
    },
    {
     "data": {
      "image/png": "[encoded data removed]",
      "text/plain": [
       "<Figure size 432x288 with 1 Axes>"
      ]
     },
     "metadata": {
      "needs_background": "light"
     },
     "output_type": "display_data"
    }
   ],
   "source": [
    "predict(KNeighborsRegressor())\n"
   ]
  },
  {
   "cell_type": "code",
   "execution_count": 85,
   "id": "pending-security",
   "metadata": {
    "execution": {
     "iopub.execute_input": "2021-06-19T07:47:27.577541Z",
     "iopub.status.busy": "2021-06-19T07:47:27.576892Z",
     "iopub.status.idle": "2021-06-19T07:47:27.901318Z",
     "shell.execute_reply": "2021-06-19T07:47:27.900880Z"
    },
    "papermill": {
     "duration": 0.466993,
     "end_time": "2021-06-19T07:47:27.901431",
     "exception": false,
     "start_time": "2021-06-19T07:47:27.434438",
     "status": "completed"
    },
    "tags": []
   },
   "outputs": [
    {
     "name": "stdout",
     "output_type": "stream",
     "text": [
      "Model is: DecisionTreeRegressor()\n",
      "Training score: 0.9701124435927416\n",
      "Predictions are: [ 8996. 17024. 14571. ...  3943.  5054. 10262.]\n",
      "\n",
      "\n",
      "r2 score is: 0.7374996091123855\n",
      "MAE:1254.5940570893777\n",
      "MSE:5054622.884820361\n",
      "RMSE:2248.2488485086255\n"
     ]
    },
    {
     "data": {
      "image/png": "[encoded data removed]",
      "text/plain": [
       "<Figure size 432x288 with 1 Axes>"
      ]
     },
     "metadata": {
      "needs_background": "light"
     },
     "output_type": "display_data"
    }
   ],
   "source": [
    "predict(DecisionTreeRegressor())"
   ]
  },
  {
   "cell_type": "code",
   "execution_count": 86,
   "id": "micro-smooth",
   "metadata": {
    "execution": {
     "iopub.execute_input": "2021-06-19T07:47:28.105156Z",
     "iopub.status.busy": "2021-06-19T07:47:28.104618Z",
     "iopub.status.idle": "2021-06-19T07:47:52.250865Z",
     "shell.execute_reply": "2021-06-19T07:47:52.251255Z"
    },
    "papermill": {
     "duration": 24.252353,
     "end_time": "2021-06-19T07:47:52.251397",
     "exception": false,
     "start_time": "2021-06-19T07:47:27.999044",
     "status": "completed"
    },
    "tags": []
   },
   "outputs": [
    {
     "name": "stdout",
     "output_type": "stream",
     "text": [
      "Model is: SVR()\n",
      "Training score: 0.036808067930953814\n",
      "Predictions are: [8527.74272429 8268.96331405 8459.17514562 ... 8292.53786893 8453.81861376\n",
      " 8538.60587913]\n",
      "\n",
      "\n",
      "r2 score is: 0.05252926427324878\n",
      "MAE:3327.7462262427184\n",
      "MSE:18244190.9793285\n",
      "RMSE:4271.321924103649\n"
     ]
    },
    {
     "data": {
      "image/png": "[encoded data removed]",
      "text/plain": [
       "<Figure size 432x288 with 1 Axes>"
      ]
     },
     "metadata": {
      "needs_background": "light"
     },
     "output_type": "display_data"
    }
   ],
   "source": [
    "from sklearn.svm import SVR\n",
    "predict(SVR())"
   ]
  },
  {
   "cell_type": "code",
   "execution_count": 87,
   "id": "disabled-rogers",
   "metadata": {
    "execution": {
     "iopub.execute_input": "2021-06-19T07:47:52.461574Z",
     "iopub.status.busy": "2021-06-19T07:47:52.461023Z",
     "iopub.status.idle": "2021-06-19T07:47:53.970762Z",
     "shell.execute_reply": "2021-06-19T07:47:53.970107Z"
    },
    "papermill": {
     "duration": 1.61984,
     "end_time": "2021-06-19T07:47:53.970890",
     "exception": false,
     "start_time": "2021-06-19T07:47:52.351050",
     "status": "completed"
    },
    "tags": []
   },
   "outputs": [
    {
     "name": "stdout",
     "output_type": "stream",
     "text": [
      "Model is: GradientBoostingRegressor()\n",
      "Training score: 0.8004872305794601\n",
      "Predictions are: [ 5702.86974497 17826.76035345 12133.74946613 ...  4547.37535805\n",
      "  6959.32889786 11428.58468176]\n",
      "\n",
      "\n",
      "r2 score is: 0.8168061188758857\n",
      "MAE:1397.4505612819867\n",
      "MSE:3527522.3048542095\n",
      "RMSE:1878.1699350309625\n"
     ]
    },
    {
     "data": {
      "image/png": "[encoded data removed]",
      "text/plain": [
       "<Figure size 432x288 with 1 Axes>"
      ]
     },
     "metadata": {
      "needs_background": "light"
     },
     "output_type": "display_data"
    }
   ],
   "source": [
    "predict(GradientBoostingRegressor())"
   ]
  },
  {
   "cell_type": "markdown",
   "id": "electric-oliver",
   "metadata": {
    "papermill": {
     "duration": 0.148097,
     "end_time": "2021-06-19T07:47:54.269758",
     "exception": false,
     "start_time": "2021-06-19T07:47:54.121661",
     "status": "completed"
    },
    "tags": []
   },
   "source": [
    "# Hypertunning the model"
   ]
  },
  {
   "cell_type": "code",
   "execution_count": 88,
   "id": "preliminary-alberta",
   "metadata": {
    "execution": {
     "iopub.execute_input": "2021-06-19T07:47:54.577010Z",
     "iopub.status.busy": "2021-06-19T07:47:54.576430Z",
     "iopub.status.idle": "2021-06-19T07:47:54.580746Z",
     "shell.execute_reply": "2021-06-19T07:47:54.580328Z"
    },
    "papermill": {
     "duration": 0.159397,
     "end_time": "2021-06-19T07:47:54.580856",
     "exception": false,
     "start_time": "2021-06-19T07:47:54.421459",
     "status": "completed"
    },
    "tags": []
   },
   "outputs": [],
   "source": [
    "from sklearn.model_selection import RandomizedSearchCV\n"
   ]
  },
  {
   "cell_type": "code",
   "execution_count": 89,
   "id": "smaller-daniel",
   "metadata": {
    "execution": {
     "iopub.execute_input": "2021-06-19T07:47:54.781918Z",
     "iopub.status.busy": "2021-06-19T07:47:54.781222Z",
     "iopub.status.idle": "2021-06-19T07:47:54.783635Z",
     "shell.execute_reply": "2021-06-19T07:47:54.783019Z"
    },
    "papermill": {
     "duration": 0.105216,
     "end_time": "2021-06-19T07:47:54.783789",
     "exception": false,
     "start_time": "2021-06-19T07:47:54.678573",
     "status": "completed"
    },
    "tags": []
   },
   "outputs": [],
   "source": [
    "random_grid = {\n",
    "    'n_estimators' : [100, 120, 150, 180, 200,220],\n",
    "    'max_features':['auto','sqrt'],\n",
    "    'max_depth':[5,10,15,20],\n",
    "    }"
   ]
  },
  {
   "cell_type": "code",
   "execution_count": 90,
   "id": "infrared-nigeria",
   "metadata": {
    "execution": {
     "iopub.execute_input": "2021-06-19T07:47:55.092359Z",
     "iopub.status.busy": "2021-06-19T07:47:55.091730Z",
     "iopub.status.idle": "2021-06-19T07:48:14.546485Z",
     "shell.execute_reply": "2021-06-19T07:48:14.545775Z"
    },
    "papermill": {
     "duration": 19.611054,
     "end_time": "2021-06-19T07:48:14.546633",
     "exception": false,
     "start_time": "2021-06-19T07:47:54.935579",
     "status": "completed"
    },
    "tags": []
   },
   "outputs": [
    {
     "name": "stdout",
     "output_type": "stream",
     "text": [
      "Fitting 3 folds for each of 10 candidates, totalling 30 fits\n"
     ]
    },
    {
     "data": {
      "text/plain": [
       "{'n_estimators': 120, 'max_features': 'auto', 'max_depth': 15}"
      ]
     },
     "execution_count": 90,
     "metadata": {},
     "output_type": "execute_result"
    }
   ],
   "source": [
    "rf=RandomForestRegressor()\n",
    "rf_random=RandomizedSearchCV(estimator=rf,param_distributions=random_grid,cv=3,verbose=2,n_jobs=-1,)\n",
    "\n",
    "rf_random.fit(X_train,y_train)\n",
    "\n",
    "# best parameter\n",
    "rf_random.best_params_"
   ]
  },
  {
   "cell_type": "code",
   "execution_count": 91,
   "id": "secondary-participation",
   "metadata": {
    "execution": {
     "iopub.execute_input": "2021-06-19T07:48:14.854111Z",
     "iopub.status.busy": "2021-06-19T07:48:14.853309Z",
     "iopub.status.idle": "2021-06-19T07:48:14.858305Z",
     "shell.execute_reply": "2021-06-19T07:48:14.857626Z"
    },
    "papermill": {
     "duration": 0.159526,
     "end_time": "2021-06-19T07:48:14.858442",
     "exception": false,
     "start_time": "2021-06-19T07:48:14.698916",
     "status": "completed"
    },
    "tags": []
   },
   "outputs": [
    {
     "data": {
      "text/plain": [
       "{'n_estimators': 120, 'max_features': 'auto', 'max_depth': 15}"
      ]
     },
     "execution_count": 91,
     "metadata": {},
     "output_type": "execute_result"
    }
   ],
   "source": [
    "# best parameter\n",
    "rf_random.best_params_"
   ]
  },
  {
   "cell_type": "code",
   "execution_count": 92,
   "id": "offshore-saying",
   "metadata": {
    "execution": {
     "iopub.execute_input": "2021-06-19T07:48:15.169172Z",
     "iopub.status.busy": "2021-06-19T07:48:15.168506Z",
     "iopub.status.idle": "2021-06-19T07:48:15.655734Z",
     "shell.execute_reply": "2021-06-19T07:48:15.655089Z"
    },
    "papermill": {
     "duration": 0.645422,
     "end_time": "2021-06-19T07:48:15.655866",
     "exception": false,
     "start_time": "2021-06-19T07:48:15.010444",
     "status": "completed"
    },
    "tags": []
   },
   "outputs": [
    {
     "data": {
      "text/plain": [
       "<seaborn.axisgrid.FacetGrid at 0x7fbee7f80990>"
      ]
     },
     "execution_count": 92,
     "metadata": {},
     "output_type": "execute_result"
    },
    {
     "data": {
      "image/png": "[encoded data removed]",
      "text/plain": [
       "<Figure size 360x360 with 1 Axes>"
      ]
     },
     "metadata": {
      "needs_background": "light"
     },
     "output_type": "display_data"
    }
   ],
   "source": [
    "#predicting the values\n",
    "prediction = rf_random.predict(X_test)\n",
    "\n",
    "#distribution plot between actual value and predicted value\n",
    "sns.displot(y_test-prediction)"
   ]
  },
  {
   "cell_type": "code",
   "execution_count": 93,
   "id": "marine-publication",
   "metadata": {
    "execution": {
     "iopub.execute_input": "2021-06-19T07:48:15.965974Z",
     "iopub.status.busy": "2021-06-19T07:48:15.965325Z",
     "iopub.status.idle": "2021-06-19T07:48:15.970472Z",
     "shell.execute_reply": "2021-06-19T07:48:15.969861Z"
    },
    "papermill": {
     "duration": 0.162195,
     "end_time": "2021-06-19T07:48:15.970609",
     "exception": false,
     "start_time": "2021-06-19T07:48:15.808414",
     "status": "completed"
    },
    "tags": []
   },
   "outputs": [
    {
     "data": {
      "text/plain": [
       "0.8587787493550727"
      ]
     },
     "execution_count": 93,
     "metadata": {},
     "output_type": "execute_result"
    }
   ],
   "source": [
    "r2_score(y_test,prediction)"
   ]
  },
  {
   "cell_type": "markdown",
   "id": "separate-gender",
   "metadata": {
    "papermill": {
     "duration": 0.154591,
     "end_time": "2021-06-19T07:48:16.279049",
     "exception": false,
     "start_time": "2021-06-19T07:48:16.124458",
     "status": "completed"
    },
    "tags": []
   },
   "source": [
    "## After hypertuning,the accuracy increases .\n"
   ]
  },
  {
   "cell_type": "markdown",
   "id": "german-insert",
   "metadata": {
    "papermill": {
     "duration": 0.152506,
     "end_time": "2021-06-19T07:48:16.584566",
     "exception": false,
     "start_time": "2021-06-19T07:48:16.432060",
     "status": "completed"
    },
    "tags": []
   },
   "source": [
    "#### IF YOU LIKE THE WORK,PLEASE UPVOTE IT."
   ]
  }
 ],
 "metadata": {
  "kernelspec": {
   "display_name": "Python 3",
   "language": "python",
   "name": "python3"
  },
  "language_info": {
   "codemirror_mode": {
    "name": "ipython",
    "version": 3
   },
   "file_extension": ".py",
   "mimetype": "text/x-python",
   "name": "python",
   "nbconvert_exporter": "python",
   "pygments_lexer": "ipython3",
   "version": "3.8.8"
  },
  "papermill": {
   "default_parameters": {},
   "duration": 292.237159,
   "end_time": "2021-06-19T07:48:17.548728",
   "environment_variables": {},
   "exception": null,
   "input_path": "__notebook__.ipynb",
   "output_path": "__notebook__.ipynb",
   "parameters": {},
   "start_time": "2021-06-19T07:43:25.311569",
   "version": "2.3.3"
  }
 },
 "nbformat": 4,
 "nbformat_minor": 5
}
